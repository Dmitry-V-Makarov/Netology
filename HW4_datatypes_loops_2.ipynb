{
 "cells": [
  {
   "cell_type": "markdown",
   "metadata": {},
   "source": [
    "# \"Управляющие конструкции и коллекции\" часть 2"
   ]
  },
  {
   "cell_type": "markdown",
   "metadata": {},
   "source": [
    "## Задание 1"
   ]
  },
  {
   "cell_type": "code",
   "execution_count": 97,
   "metadata": {},
   "outputs": [
    {
     "name": "stdout",
     "output_type": "stream",
     "text": [
      "Результат: {98, 35, 15, 213, 54, 119}\n"
     ]
    }
   ],
   "source": [
    "ids = {\n",
    "    'user1': [213, 213, 213, 15, 213],\n",
    "    'user2': [54, 54, 119, 119, 119],\n",
    "    'user3': [213, 98, 98, 35]\n",
    "}\n",
    "\n",
    "tags = []\n",
    "for value in ids.values():\n",
    "    tags = tags + value\n",
    "\n",
    "print('Результат: ', end = '')\n",
    "print(set(tags))"
   ]
  },
  {
   "cell_type": "markdown",
   "metadata": {},
   "source": [
    "## Задание 2"
   ]
  },
  {
   "cell_type": "code",
   "execution_count": 7,
   "metadata": {},
   "outputs": [
    {
     "name": "stdout",
     "output_type": "stream",
     "text": [
      "Поисковых запросов, содержащих 3 слов(а): 57.14 %\n",
      "Поисковых запросов, содержащих 2 слов(а): 42.86 %\n"
     ]
    }
   ],
   "source": [
    "queries = [\n",
    "'смотреть сериалы онлайн',\n",
    "'новости спорта',\n",
    "'афиша кино',\n",
    "'курс доллара',\n",
    "'сериалы этим летом',\n",
    "'курс по питону',\n",
    "'сериалы про спорт',\n",
    "]\n",
    "\n",
    "my_dict = {}\n",
    "\n",
    "total = 0\n",
    "for i in queries:\n",
    "    words = i.split(' ')\n",
    "    if len(words) not in my_dict:\n",
    "        my_dict[len(words)] = 1\n",
    "    else:\n",
    "        my_dict[len(words)] += 1\n",
    "    total += 1\n",
    "\n",
    "for k, v in my_dict.items():\n",
    "    res = round((v / total * 100), 2)\n",
    "    print(f'Поисковых запросов, содержащих {k} слов(а): {res} %')"
   ]
  },
  {
   "cell_type": "markdown",
   "metadata": {},
   "source": [
    "## Задание 3"
   ]
  },
  {
   "cell_type": "code",
   "execution_count": 99,
   "metadata": {},
   "outputs": [
    {
     "data": {
      "text/plain": [
       "{'vk': {'revenue': 103, 'cost': 98, 'ROI': 5.1},\n",
       " 'yandex': {'revenue': 179, 'cost': 153, 'ROI': 16.99},\n",
       " 'facebook': {'revenue': 103, 'cost': 110, 'ROI': -6.36},\n",
       " 'adwords': {'revenue': 35, 'cost': 34, 'ROI': 2.94},\n",
       " 'twitter': {'revenue': 11, 'cost': 24, 'ROI': -54.17}}"
      ]
     },
     "execution_count": 99,
     "metadata": {},
     "output_type": "execute_result"
    }
   ],
   "source": [
    "results = {\n",
    "'vk': {'revenue': 103, 'cost': 98},\n",
    "'yandex': {'revenue': 179, 'cost': 153},\n",
    "'facebook': {'revenue': 103, 'cost': 110},\n",
    "'adwords': {'revenue': 35, 'cost': 34},\n",
    "'twitter': {'revenue': 11, 'cost': 24},\n",
    "}\n",
    "\n",
    "for source, info in results.items():\n",
    "    info['ROI'] = round(((info['revenue'] / info['cost'] - 1) * 100), 2)\n",
    "\n",
    "results"
   ]
  },
  {
   "cell_type": "markdown",
   "metadata": {},
   "source": [
    "## Задание 4"
   ]
  },
  {
   "cell_type": "code",
   "execution_count": 100,
   "metadata": {},
   "outputs": [
    {
     "name": "stdout",
     "output_type": "stream",
     "text": [
      "Максимальный объем продаж на рекламном канале: vk\n"
     ]
    }
   ],
   "source": [
    "stats = {'facebook': 55, 'yandex': 115, 'vk': 120, 'google': 99, 'email': 42, 'ok': 98}\n",
    "\n",
    "max_ = max(list(stats.values()))\n",
    "\n",
    "for source, volume in stats.items():\n",
    "    if volume == max_:\n",
    "        print('Максимальный объем продаж на рекламном канале: ', end = '')\n",
    "        print(source)"
   ]
  },
  {
   "cell_type": "markdown",
   "metadata": {},
   "source": [
    "### Более оптимальный вариант решения задачи 4"
   ]
  },
  {
   "cell_type": "code",
   "execution_count": 15,
   "metadata": {},
   "outputs": [
    {
     "data": {
      "text/plain": [
       "'vk'"
      ]
     },
     "execution_count": 15,
     "metadata": {},
     "output_type": "execute_result"
    }
   ],
   "source": [
    "import operator\n",
    "stats = {'facebook': 55, 'yandex': 115, 'vk': 120, 'google': 99, 'email': 42, 'ok': 98}\n",
    "\n",
    "max(stats.items(), key=operator.itemgetter(1))[0]"
   ]
  },
  {
   "cell_type": "markdown",
   "metadata": {},
   "source": [
    "Другие способы решения: \n",
    "https://stackoverflow.com/questions/268272/getting-key-with-maximum-value-in-dictionary"
   ]
  },
  {
   "cell_type": "markdown",
   "metadata": {},
   "source": [
    "## Задание 5"
   ]
  },
  {
   "cell_type": "code",
   "execution_count": 16,
   "metadata": {},
   "outputs": [
    {
     "data": {
      "text/plain": [
       "{'2018-01-01': {'yandex': {'cpc': 100}}}"
      ]
     },
     "execution_count": 16,
     "metadata": {},
     "output_type": "execute_result"
    }
   ],
   "source": [
    "my_list = ['2018-01-01', 'yandex', 'cpc', 100]\n",
    "# my_list = ['a', 'b', 'c', 'd', 'e', 'f']\n",
    "\n",
    "my_dict = {}\n",
    "\n",
    "index = -1\n",
    "\n",
    "for key in reversed(my_list):\n",
    "    if index == -1:\n",
    "        my_dict = {my_list[index - 1] : key}\n",
    "    else:\n",
    "        my_dict = {my_list[index - 1] : my_dict}\n",
    "\n",
    "    index -= 1\n",
    "    \n",
    "    if index == -len(my_list):\n",
    "        break\n",
    "\n",
    "my_dict\n"
   ]
  },
  {
   "cell_type": "markdown",
   "metadata": {},
   "source": [
    "### Более оптимальный вариант решения задачи 5"
   ]
  },
  {
   "cell_type": "code",
   "execution_count": 17,
   "metadata": {},
   "outputs": [
    {
     "name": "stdout",
     "output_type": "stream",
     "text": [
      "{'2018-01-01': {'yandex': {'cpc': 100}}}\n"
     ]
    }
   ],
   "source": [
    "my_list = ['2018-01-01', 'yandex', 'cpc', 100]\n",
    "res = my_list[-1]\n",
    "# print(my_list[:-1])\n",
    "for el in reversed(my_list[:-1]):\n",
    "    res = {el: res}\n",
    "print(res)"
   ]
  },
  {
   "cell_type": "markdown",
   "metadata": {},
   "source": [
    "## Задание 6"
   ]
  },
  {
   "cell_type": "code",
   "execution_count": 18,
   "metadata": {},
   "outputs": [
    {
     "name": "stdout",
     "output_type": "stream",
     "text": [
      "Введите количество порций: 3\n",
      "\n",
      "Необходимо ингредиентов: \n",
      "Сыр: 210 гр\n",
      "Томаты: 120 гр\n",
      "Огурцы: 60 гр\n",
      "Маслины: 30 гр\n",
      "Оливковое масло: 60 мл\n",
      "Салат: 30 гр\n",
      "Перец: 60 гр\n",
      "Колбаса: 90 гр\n",
      "Бекон: 90 гр\n",
      "Оливки: 30 гр\n",
      "Тесто: 300 гр\n",
      "Лимон: 3 шт\n",
      "Вода: 600 мл\n",
      "Сахар: 30 гр\n",
      "Лайм: 60 гр\n"
     ]
    }
   ],
   "source": [
    "book = {\n",
    "    'салат': [\n",
    "        {'name': 'сыр', 'quantity': 50, 'measure': 'гр'},\n",
    "        {'name': 'томаты', 'quantity': 20, 'measure': 'гр'},\n",
    "        {'name': 'огурцы', 'quantity': 20, 'measure': 'гр'},\n",
    "        {'name': 'маслины', 'quantity': 10, 'measure': 'гр'},\n",
    "        {'name': 'оливковое масло', 'quantity': 20, 'measure': 'мл'},\n",
    "        {'name': 'салат', 'quantity': 10, 'measure': 'гр'},\n",
    "        {'name': 'перец', 'quantity': 20, 'measure': 'гр'}\n",
    "    ],\n",
    "    'пицца': [\n",
    "        {'name': 'сыр', 'quantity': 20, 'measure': 'гр'},\n",
    "        {'name': 'колбаса', 'quantity': 30, 'measure': 'гр'},\n",
    "        {'name': 'бекон', 'quantity': 30, 'measure': 'гр'},\n",
    "        {'name': 'оливки', 'quantity': 10, 'measure': 'гр'},\n",
    "        {'name': 'томаты', 'quantity': 20, 'measure': 'гр'},\n",
    "        {'name': 'тесто', 'quantity': 100, 'measure': 'гр'},   \n",
    "    ],\n",
    "    'лимонад': [\n",
    "        {'name': 'лимон', 'quantity': 1, 'measure': 'шт'},\n",
    "        {'name': 'вода', 'quantity': 200, 'measure': 'мл'},\n",
    "        {'name': 'сахар', 'quantity': 10, 'measure': 'гр'},\n",
    "        {'name': 'лайм', 'quantity': 20, 'measure': 'гр'},    \n",
    "    ]\n",
    "}\n",
    "\n",
    "total = {}\n",
    "\n",
    "for dish, ingredient in book.items():\n",
    "    for i in ingredient:\n",
    "\n",
    "        if i['name'] not in total:\n",
    "            total[i['name']] = {'amount': int(i['quantity']), 'unit': i['measure']}\n",
    "        else:\n",
    "            total[i['name']]['amount'] += int(i['quantity'])\n",
    "\n",
    "por = int(input('Введите количество порций: '))\n",
    "print()\n",
    "print('Необходимо ингредиентов: ')\n",
    "\n",
    "for key, value in total.items():\n",
    "    key = key.capitalize()\n",
    "    amount = por * value['amount']\n",
    "    unit = value['unit']\n",
    "    print(f'{key}: {amount} {unit}')"
   ]
  },
  {
   "cell_type": "code",
   "execution_count": null,
   "metadata": {},
   "outputs": [],
   "source": []
  }
 ],
 "metadata": {
  "kernelspec": {
   "display_name": "Python 3",
   "language": "python",
   "name": "python3"
  },
  "language_info": {
   "codemirror_mode": {
    "name": "ipython",
    "version": 3
   },
   "file_extension": ".py",
   "mimetype": "text/x-python",
   "name": "python",
   "nbconvert_exporter": "python",
   "pygments_lexer": "ipython3",
   "version": "3.7.6"
  }
 },
 "nbformat": 4,
 "nbformat_minor": 4
}
