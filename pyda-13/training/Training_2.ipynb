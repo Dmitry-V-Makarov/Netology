{
 "cells": [
  {
   "cell_type": "markdown",
   "metadata": {},
   "source": [
    "**Задача с собеседований:**\n",
    "\n",
    "Дана строчка sequence с последовательностью натуральных чисел, разделенных пробелом. Посчитайте:\n",
    "\n",
    "1. Количество четный и нечетных чисел в этой строке\n",
    "1. Если четных больше, то укажите номер позиции первого \"лишнего\" нечетного числа\n",
    "1. Если нечетных больше, то укажите позицию первого \"лишнего\" четного числа\n",
    "1. Как бонусный вариант, оформите код в виде функции"
   ]
  },
  {
   "cell_type": "code",
   "execution_count": 9,
   "metadata": {},
   "outputs": [
    {
     "name": "stdout",
     "output_type": "stream",
     "text": [
      "2\n"
     ]
    }
   ],
   "source": [
    "sequence = '2 3 1 5 9 22 3 5'\n",
    "\n",
    "odd = []\n",
    "even = []\n",
    "\n",
    "numbers = sequence.split(' ')\n",
    "\n",
    "for number in numbers:\n",
    "    number = int(number)\n",
    "    if number % 2 == 0:\n",
    "        even.append(number)\n",
    "    else:\n",
    "        odd.append(number)\n",
    "\n",
    "if len(even) > len(odd):\n",
    "    print(odd[0])\n",
    "else:\n",
    "    print(even[0])"
   ]
  },
  {
   "cell_type": "code",
   "execution_count": 13,
   "metadata": {},
   "outputs": [
    {
     "name": "stdout",
     "output_type": "stream",
     "text": [
      "2 0\n"
     ]
    }
   ],
   "source": [
    "sequence = '2 3 1 5 9 22 3 5'\n",
    "\n",
    "sequence = [int(x) for x in sequence.split(' ')]\n",
    "sequence\n",
    "\n",
    "even = [x for x in sequence if x % 2 == 0]\n",
    "even\n",
    "\n",
    "odd = [x for x in sequence if x % 2 != 0]\n",
    "odd\n",
    "\n",
    "if len(odd) > len(even):\n",
    "    print(even[0], sequence.index(even[0])) \n",
    "    # index указывает на номер первого четного числа в исходном списке sequence\n",
    "else:\n",
    "    print(odd[0], sequence.index(odd[0]))"
   ]
  },
  {
   "cell_type": "code",
   "execution_count": null,
   "metadata": {},
   "outputs": [],
   "source": [
    "# алгоритмическая сложность\n",
    "# во сколько раз увеличивается сложность (время работы алгоритма) при увеличении данных в n раз\n",
    "\n",
    "3 * len(sequence) # тройку можно убрать если проходить все за один цикл\n",
    "\n",
    "# при увеличении списка в 10 раз, время работы также увеличится в 10 раз\n",
    "O(N) # читается \"O от N\"\n",
    "\n",
    "# идеальный вариант (наименьшая алгоритмическая сложность)\n",
    "O(1)"
   ]
  },
  {
   "cell_type": "code",
   "execution_count": null,
   "metadata": {},
   "outputs": [],
   "source": [
    "# Бинарный поиск (логарифмический рост по отсортированным данным)\n",
    "\n",
    "# 32 --> 3\n",
    "\n",
    "# 2 * 32 --> 3 + 1 = 4\n",
    "# 4 * 32 --> 3 + 2 = 5"
   ]
  },
  {
   "cell_type": "code",
   "execution_count": 16,
   "metadata": {},
   "outputs": [
    {
     "data": {
      "text/plain": [
       "[0, 1, 2, 3, 4]"
      ]
     },
     "execution_count": 16,
     "metadata": {},
     "output_type": "execute_result"
    }
   ],
   "source": [
    "# O(1)\n",
    "\n",
    "data = list(range(1000))\n",
    "data[:5]\n",
    "\n"
   ]
  },
  {
   "cell_type": "code",
   "execution_count": 18,
   "metadata": {},
   "outputs": [
    {
     "name": "stdout",
     "output_type": "stream",
     "text": [
      "Wall time: 509 ms\n"
     ]
    }
   ],
   "source": [
    "%%time\n",
    "\n",
    "for _ in range(10**5):\n",
    "    500 in data"
   ]
  },
  {
   "cell_type": "code",
   "execution_count": 19,
   "metadata": {},
   "outputs": [],
   "source": [
    "data_set = set(data)"
   ]
  },
  {
   "cell_type": "code",
   "execution_count": 20,
   "metadata": {},
   "outputs": [
    {
     "name": "stdout",
     "output_type": "stream",
     "text": [
      "Wall time: 7.98 ms\n"
     ]
    }
   ],
   "source": [
    "%%time\n",
    "\n",
    "for _ in range(10**5):\n",
    "    500 in data_set"
   ]
  },
  {
   "cell_type": "markdown",
   "metadata": {},
   "source": [
    "## Способы указания пути файлов"
   ]
  },
  {
   "cell_type": "code",
   "execution_count": 9,
   "metadata": {},
   "outputs": [
    {
     "name": "stdout",
     "output_type": "stream",
     "text": [
      "{\"user_id\": \"user_id\", \"category\": \"category\"}\n",
      "{\"user_id\": \"1840e0b9d4\", \"category\": \"Продукты\"}\n",
      "{\"user_id\": \"4e4f90fcfb\", \"category\": \"Электроника\"}\n",
      "{\"user_id\": \"afea8d72fc\", \"category\": \"Электроника\"}\n"
     ]
    }
   ],
   "source": [
    "# Вариант 1. Файл лежит в той же папке или во внутренней папке\n",
    "\n",
    "d = open('../data/data/file1.csv', 'r', encoding = 'utf-8')\n",
    "\n",
    "# Вариант 2. Более далекий файл в Windows\n",
    "e = open('C:\\\\Users\\\\dmvma\\\\Documents\\\\Netology\\\\pyda-13\\\\lecture_notebooks\\\\purchase_log.txt', 'r', encoding = 'utf-8')\n",
    "\n",
    "for i, line in enumerate(e):\n",
    "    print(line.strip())\n",
    "    if i > 2:\n",
    "        break\n"
   ]
  },
  {
   "cell_type": "code",
   "execution_count": 10,
   "metadata": {},
   "outputs": [
    {
     "name": "stdout",
     "output_type": "stream",
     "text": [
      "{\"user_id\": \"user_id\", \"category\": \"category\"}\n",
      "{\"user_id\": \"1840e0b9d4\", \"category\": \"Продукты\"}\n",
      "{\"user_id\": \"4e4f90fcfb\", \"category\": \"Электроника\"}\n",
      "{\"user_id\": \"afea8d72fc\", \"category\": \"Электроника\"}\n"
     ]
    }
   ],
   "source": [
    "# Вариант 3. Без двойного \"\\\"\n",
    "e = open(r'C:\\Users\\dmvma\\Documents\\Netology\\pyda-13\\lecture_notebooks\\purchase_log.txt', 'r', encoding = 'utf-8')\n",
    "\n",
    "for i, line in enumerate(e):\n",
    "    print(line.strip())\n",
    "    if i > 2:\n",
    "        break"
   ]
  },
  {
   "cell_type": "code",
   "execution_count": null,
   "metadata": {},
   "outputs": [],
   "source": []
  },
  {
   "cell_type": "markdown",
   "metadata": {},
   "source": [
    "# Кодировка"
   ]
  },
  {
   "cell_type": "code",
   "execution_count": null,
   "metadata": {},
   "outputs": [],
   "source": [
    "'UTF-8'"
   ]
  },
  {
   "cell_type": "code",
   "execution_count": null,
   "metadata": {},
   "outputs": [],
   "source": [
    "'Windows-1251'\n",
    "'cp1251' # то же самое в Питоне"
   ]
  },
  {
   "cell_type": "code",
   "execution_count": null,
   "metadata": {},
   "outputs": [],
   "source": [
    "d = open('../data/data/file1.csv', 'r', encoding = 'utf-8')"
   ]
  },
  {
   "cell_type": "code",
   "execution_count": null,
   "metadata": {},
   "outputs": [],
   "source": [
    ".encode\n",
    ".decode"
   ]
  },
  {
   "cell_type": "code",
   "execution_count": null,
   "metadata": {},
   "outputs": [],
   "source": [
    "# unicode"
   ]
  },
  {
   "cell_type": "code",
   "execution_count": null,
   "metadata": {},
   "outputs": [],
   "source": [
    "import "
   ]
  },
  {
   "cell_type": "code",
   "execution_count": null,
   "metadata": {},
   "outputs": [],
   "source": []
  },
  {
   "cell_type": "markdown",
   "metadata": {},
   "source": [
    "## Задача на поиск числа слева"
   ]
  },
  {
   "cell_type": "code",
   "execution_count": 22,
   "metadata": {},
   "outputs": [],
   "source": [
    "# найти значение слева от n\n",
    "data = [1, 7, 17, 23, 27, 35, 65]"
   ]
  },
  {
   "cell_type": "code",
   "execution_count": 23,
   "metadata": {},
   "outputs": [],
   "source": [
    "n = 20"
   ]
  },
  {
   "cell_type": "code",
   "execution_count": 24,
   "metadata": {},
   "outputs": [
    {
     "name": "stdout",
     "output_type": "stream",
     "text": [
      "17\n"
     ]
    }
   ],
   "source": [
    "for i, number in enumerate(data):\n",
    "    # print(i, number)\n",
    "    if number > n:\n",
    "        print(data[i-1])\n",
    "        break"
   ]
  },
  {
   "cell_type": "code",
   "execution_count": 34,
   "metadata": {},
   "outputs": [
    {
     "data": {
      "text/plain": [
       "[17]"
      ]
     },
     "execution_count": 34,
     "metadata": {},
     "output_type": "execute_result"
    }
   ],
   "source": [
    "[data[i] for i, number in enumerate(data[:-1]) if data[i] <= n < data[i+1]]\n",
    "# data[:-1] нужно, чтобы не выйти за границу интервала"
   ]
  },
  {
   "cell_type": "code",
   "execution_count": 26,
   "metadata": {},
   "outputs": [
    {
     "data": {
      "text/plain": [
       "[1, 7, 17, 23, 27, 35, 65, 20]"
      ]
     },
     "execution_count": 26,
     "metadata": {},
     "output_type": "execute_result"
    }
   ],
   "source": [
    "data_2 = [1, 7, 17, 23, 27, 35, 65]\n",
    "\n",
    "data_2.append(n)\n",
    "data_2"
   ]
  },
  {
   "cell_type": "code",
   "execution_count": 27,
   "metadata": {},
   "outputs": [
    {
     "data": {
      "text/plain": [
       "[1, 7, 17, 20, 23, 27, 35, 65]"
      ]
     },
     "execution_count": 27,
     "metadata": {},
     "output_type": "execute_result"
    }
   ],
   "source": [
    "data_2 = sorted(data_2)\n",
    "data_2"
   ]
  },
  {
   "cell_type": "code",
   "execution_count": 28,
   "metadata": {},
   "outputs": [
    {
     "data": {
      "text/plain": [
       "17"
      ]
     },
     "execution_count": 28,
     "metadata": {},
     "output_type": "execute_result"
    }
   ],
   "source": [
    "data_2[data_2.index(n) - 1]"
   ]
  },
  {
   "cell_type": "code",
   "execution_count": null,
   "metadata": {},
   "outputs": [],
   "source": [
    "# отдельный случай если n уже есть в списке, нужно его предусмотреть"
   ]
  },
  {
   "cell_type": "markdown",
   "metadata": {},
   "source": [
    "### То же, но методом бинарного поиска"
   ]
  },
  {
   "cell_type": "code",
   "execution_count": null,
   "metadata": {},
   "outputs": [],
   "source": []
  },
  {
   "cell_type": "markdown",
   "metadata": {},
   "source": [
    "### Задание категории через создание словаря"
   ]
  },
  {
   "cell_type": "code",
   "execution_count": null,
   "metadata": {},
   "outputs": [],
   "source": [
    "\"\"\"\n",
    "Дано: категории возраста и критерии (ages), дан набор данных (data)\n",
    "\n",
    "Задача: \n",
    "\n",
    "1. сделать словарь для каждого возраста на основе критериев\n",
    "2. классифицировать данные на основе словаря, так намного быстрее\n",
    "\n",
    "\n",
    "\"\"\""
   ]
  },
  {
   "cell_type": "code",
   "execution_count": 113,
   "metadata": {},
   "outputs": [],
   "source": [
    "data = [1, 7, 17, 23, 27, 35, 66]"
   ]
  },
  {
   "cell_type": "code",
   "execution_count": 114,
   "metadata": {},
   "outputs": [],
   "source": [
    "ages = {\n",
    "    1: 'дети',\n",
    "    7: 'школьники',\n",
    "    17: 'студенты',\n",
    "    23: 'аспиранты',\n",
    "    27: 'молодые ученые',\n",
    "    35: 'преподаватели',\n",
    "    65: 'пенсионеры'\n",
    "}"
   ]
  },
  {
   "cell_type": "code",
   "execution_count": null,
   "metadata": {},
   "outputs": [],
   "source": []
  },
  {
   "cell_type": "code",
   "execution_count": 115,
   "metadata": {},
   "outputs": [
    {
     "data": {
      "text/plain": [
       "'пенсионеры'"
      ]
     },
     "execution_count": 115,
     "metadata": {},
     "output_type": "execute_result"
    }
   ],
   "source": [
    "sorted(ages.items())[-1][1]"
   ]
  },
  {
   "cell_type": "code",
   "execution_count": 116,
   "metadata": {},
   "outputs": [
    {
     "data": {
      "text/plain": [
       "65"
      ]
     },
     "execution_count": 116,
     "metadata": {},
     "output_type": "execute_result"
    }
   ],
   "source": [
    "sorted(ages.items())[-1][0]"
   ]
  },
  {
   "cell_type": "code",
   "execution_count": null,
   "metadata": {},
   "outputs": [],
   "source": []
  },
  {
   "cell_type": "code",
   "execution_count": 122,
   "metadata": {},
   "outputs": [
    {
     "data": {
      "text/plain": [
       "{0: 'пенсионеры',\n",
       " 1: 'пенсионеры',\n",
       " 2: 'пенсионеры',\n",
       " 3: 'пенсионеры',\n",
       " 4: 'пенсионеры',\n",
       " 5: 'пенсионеры',\n",
       " 6: 'пенсионеры',\n",
       " 7: 'пенсионеры',\n",
       " 8: 'пенсионеры',\n",
       " 9: 'пенсионеры',\n",
       " 10: 'пенсионеры',\n",
       " 11: 'пенсионеры',\n",
       " 12: 'пенсионеры',\n",
       " 13: 'пенсионеры',\n",
       " 14: 'пенсионеры',\n",
       " 15: 'пенсионеры',\n",
       " 16: 'пенсионеры',\n",
       " 17: 'пенсионеры',\n",
       " 18: 'пенсионеры',\n",
       " 19: 'пенсионеры',\n",
       " 20: 'пенсионеры',\n",
       " 21: 'пенсионеры',\n",
       " 22: 'пенсионеры',\n",
       " 23: 'пенсионеры',\n",
       " 24: 'пенсионеры',\n",
       " 25: 'пенсионеры',\n",
       " 26: 'пенсионеры',\n",
       " 27: 'пенсионеры',\n",
       " 28: 'пенсионеры',\n",
       " 29: 'пенсионеры',\n",
       " 30: 'пенсионеры',\n",
       " 31: 'пенсионеры',\n",
       " 32: 'пенсионеры',\n",
       " 33: 'пенсионеры',\n",
       " 34: 'пенсионеры',\n",
       " 35: 'преподаватели',\n",
       " 36: 'преподаватели',\n",
       " 37: 'преподаватели',\n",
       " 38: 'преподаватели',\n",
       " 39: 'преподаватели',\n",
       " 40: 'преподаватели',\n",
       " 41: 'преподаватели',\n",
       " 42: 'преподаватели',\n",
       " 43: 'преподаватели',\n",
       " 44: 'преподаватели',\n",
       " 45: 'преподаватели',\n",
       " 46: 'преподаватели',\n",
       " 47: 'преподаватели',\n",
       " 48: 'преподаватели',\n",
       " 49: 'преподаватели',\n",
       " 50: 'преподаватели',\n",
       " 51: 'преподаватели',\n",
       " 52: 'преподаватели',\n",
       " 53: 'преподаватели',\n",
       " 54: 'преподаватели',\n",
       " 55: 'преподаватели',\n",
       " 56: 'преподаватели',\n",
       " 57: 'преподаватели',\n",
       " 58: 'преподаватели',\n",
       " 59: 'преподаватели',\n",
       " 60: 'преподаватели',\n",
       " 61: 'преподаватели',\n",
       " 62: 'преподаватели',\n",
       " 63: 'преподаватели',\n",
       " 64: 'преподаватели',\n",
       " 65: 'пенсионеры',\n",
       " 66: 'пенсионеры',\n",
       " 67: 'пенсионеры',\n",
       " 68: 'пенсионеры',\n",
       " 69: 'пенсионеры',\n",
       " 70: 'пенсионеры',\n",
       " 71: 'пенсионеры',\n",
       " 72: 'пенсионеры',\n",
       " 73: 'пенсионеры',\n",
       " 74: 'пенсионеры',\n",
       " 75: 'пенсионеры',\n",
       " 76: 'пенсионеры',\n",
       " 77: 'пенсионеры',\n",
       " 78: 'пенсионеры',\n",
       " 79: 'пенсионеры',\n",
       " 80: 'пенсионеры',\n",
       " 81: 'пенсионеры',\n",
       " 82: 'пенсионеры',\n",
       " 83: 'пенсионеры',\n",
       " 84: 'пенсионеры',\n",
       " 85: 'пенсионеры',\n",
       " 86: 'пенсионеры',\n",
       " 87: 'пенсионеры',\n",
       " 88: 'пенсионеры',\n",
       " 89: 'пенсионеры',\n",
       " 90: 'пенсионеры',\n",
       " 91: 'пенсионеры',\n",
       " 92: 'пенсионеры',\n",
       " 93: 'пенсионеры',\n",
       " 94: 'пенсионеры',\n",
       " 95: 'пенсионеры',\n",
       " 96: 'пенсионеры',\n",
       " 97: 'пенсионеры',\n",
       " 98: 'пенсионеры',\n",
       " 99: 'пенсионеры',\n",
       " 100: 'пенсионеры'}"
      ]
     },
     "execution_count": 122,
     "metadata": {},
     "output_type": "execute_result"
    }
   ],
   "source": [
    "classification = {}\n",
    "for age in range(101):\n",
    "    for i, num in enumerate(data[:-1]):\n",
    "        # print(data[i], data[i + 1])\n",
    "\n",
    "        if data[i] <= age < data[i + 1]:\n",
    "            classification[age] = ages[data[i]]\n",
    "        elif age == sorted(ages.items())[-1][0]: # если равен 65, то \"пенсионер\", выводим первый элемент кортежа (\"65\")\n",
    "            classification[age] = sorted(ages.items())[-1][1] # записываем второй элемент кортежа (\"Пенсионер\")\n",
    "        else:\n",
    "            classification[age] = sorted(ages.items())[-1][1]\n",
    "\n",
    "classification"
   ]
  },
  {
   "cell_type": "code",
   "execution_count": 118,
   "metadata": {},
   "outputs": [
    {
     "name": "stdout",
     "output_type": "stream",
     "text": [
      "1 дети\n",
      "7 школьники\n",
      "17 студенты\n",
      "23 аспиранты\n",
      "27 молодые ученые\n",
      "35 преподаватели\n",
      "65 пенсионеры\n"
     ]
    }
   ],
   "source": [
    "# классификация данных на основе созданного словаря\n",
    "for age in data:\n",
    "    print(age, classification[age])"
   ]
  },
  {
   "cell_type": "code",
   "execution_count": null,
   "metadata": {},
   "outputs": [],
   "source": []
  }
 ],
 "metadata": {
  "kernelspec": {
   "display_name": "Python 3",
   "language": "python",
   "name": "python3"
  },
  "language_info": {
   "codemirror_mode": {
    "name": "ipython",
    "version": 3
   },
   "file_extension": ".py",
   "mimetype": "text/x-python",
   "name": "python",
   "nbconvert_exporter": "python",
   "pygments_lexer": "ipython3",
   "version": "3.8.3"
  }
 },
 "nbformat": 4,
 "nbformat_minor": 4
}
