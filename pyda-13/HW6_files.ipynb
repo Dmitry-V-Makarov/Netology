{
 "cells": [
  {
   "cell_type": "markdown",
   "metadata": {},
   "source": [
    "# Домашнее задание к лекции Работа с файловой системой и модули"
   ]
  },
  {
   "cell_type": "code",
   "execution_count": null,
   "metadata": {},
   "outputs": [],
   "source": [
    "\"\"\"\n",
    "Шаг 1. Загрузать в память purchase_log.txt.\n",
    "Шаг 2. Построчно читать visit_log.csv.\n",
    "        - Проверить есть ли user_id в файле purchase_log.txt\n",
    "        - Если да, то записать в файл funnel.csv:\n",
    "            1,2 user_id, source из файла visit_log.csv\n",
    "            3 category из файла purchase_log.txt\n",
    "\n",
    "\"\"\""
   ]
  },
  {
   "cell_type": "code",
   "execution_count": 15,
   "metadata": {},
   "outputs": [],
   "source": [
    "import json\n",
    "\n",
    "f = open('lecture_notebooks/purchase_log.txt', 'r', encoding = 'utf-8')\n",
    "\n",
    "\n",
    "# создаем словарь purchases в оперативной памяти\n",
    "purchases = {}\n",
    "\n",
    "for line in f:\n",
    "    line = json.loads(line.strip())\n",
    "    \n",
    "#     print(line['user_id'], line['category'])\n",
    "    purchases[line['user_id']] = line['category']\n",
    "\n",
    "# читаем файл visit_log.csv\n",
    "with open('lecture_notebooks/visit_log.csv', 'r', encoding = 'utf-8') as visits:\n",
    "    with open('lecture_notebooks/funnel.csv', 'w', encoding = 'cp1251') as funnel:\n",
    "        for i, visit in enumerate(visits):\n",
    "            visit = visit.strip().split(',')\n",
    "\n",
    "            # print(visit[0], visit[1])\n",
    "            if visit[0] in purchases:\n",
    "                data = visit[0] + ' ' + visit[1] + ' ' + purchases[visit[0]] + '\\n'\n",
    "                funnel.write(str(data))\n",
    "            "
   ]
  },
  {
   "cell_type": "code",
   "execution_count": null,
   "metadata": {},
   "outputs": [],
   "source": []
  }
 ],
 "metadata": {
  "kernelspec": {
   "display_name": "Python 3",
   "language": "python",
   "name": "python3"
  },
  "language_info": {
   "codemirror_mode": {
    "name": "ipython",
    "version": 3
   },
   "file_extension": ".py",
   "mimetype": "text/x-python",
   "name": "python",
   "nbconvert_exporter": "python",
   "pygments_lexer": "ipython3",
   "version": "3.7.6"
  }
 },
 "nbformat": 4,
 "nbformat_minor": 4
}
