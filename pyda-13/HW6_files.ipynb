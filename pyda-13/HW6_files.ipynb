{
 "cells": [
  {
   "cell_type": "markdown",
   "metadata": {},
   "source": [
    "# Домашнее задание к лекции Работа с файловой системой и модули"
   ]
  },
  {
   "cell_type": "code",
   "execution_count": null,
   "metadata": {},
   "outputs": [],
   "source": [
    "\"\"\"\n",
    "Шаг 1. Загрузать в память purchase_log.txt.\n",
    "Шаг 2. Построчно читать visit_log.csv.\n",
    "        - Проверить есть ли user_id в файле purchase_log.txt\n",
    "        - Если да, то записать в файл funnel.csv:\n",
    "            1,2 user_id, source из файла visit_log.csv\n",
    "            3 category из файла purchase_log.txt\n",
    "\n",
    "\"\"\""
   ]
  },
  {
   "cell_type": "code",
   "execution_count": 1,
   "metadata": {},
   "outputs": [
    {
     "name": "stdout",
     "output_type": "stream",
     "text": [
      "user_id source category\n",
      "1840e0b9d4 other Продукты\n",
      "4e4f90fcfb context Электроника\n",
      "afea8d72fc other Электроника\n",
      "2824221f38 email Продукты\n",
      "373a6055fe other Бытовая техника\n",
      "9b2ab046f3 other Электроника\n",
      "9f39d307c3 context Электроника\n",
      "44edeffc91 context Продукты\n",
      "704474fa2d other Продукты\n",
      "1de31be403 other Бытовая техника\n",
      "5da0dedf13 context Досуг\n",
      "b71f36a5e4 other Продукты\n",
      "79843a685a context Продукты\n",
      "ff68cee0d6 context Бытовая техника\n",
      "e8447c40e2 email Досуг\n",
      "b9ef8fdf47 other Продукты\n",
      "98d290be27 other Электроника\n",
      "3fff459bda other Электроника\n",
      "fa0079a5a8 other Досуг\n",
      "fdd6b2fc76 context Бытовая техника\n",
      "54ecd881a2 other Бытовая техника\n",
      "22d2f03a17 context Досуг\n",
      "c9fa1b54d5 other Продукты\n",
      "3f8e1ccd3f other Электроника\n",
      "81a9988b83 context Электроника\n",
      "65f44a2eb7 context Досуг\n",
      "6df948569b other Бытовая техника\n",
      "5f8fbb0149 other Бытовая техника\n",
      "3ecff691fd context Электроника\n",
      "dd0e912251 other Электроника\n",
      "9250593d55 other Электроника\n",
      "37c4e090e4 other Электроника\n",
      "22fa3ea76f other Электроника\n",
      "73b876b237 context Электроника\n",
      "ed6b87f95d context Досуг\n",
      "f983a69d67 other Товары для животных\n",
      "4ea17212f8 other Продукты\n",
      "c6de96a5e2 other Товары для животных\n",
      "4175fd2e58 other Электроника\n",
      "d8e3bcee53 context Продукты\n",
      "680aa815f9 other Продукты\n",
      "4a92a68cf9 other Электроника\n"
     ]
    },
    {
     "ename": "KeyboardInterrupt",
     "evalue": "",
     "output_type": "error",
     "traceback": [
      "\u001b[1;31m---------------------------------------------------------------------------\u001b[0m",
      "\u001b[1;31mKeyboardInterrupt\u001b[0m                         Traceback (most recent call last)",
      "\u001b[1;32m<ipython-input-1-6aed20f8f630>\u001b[0m in \u001b[0;36m<module>\u001b[1;34m\u001b[0m\n\u001b[0;32m     20\u001b[0m             \u001b[1;31m# print(visit[0], visit[1])\u001b[0m\u001b[1;33m\u001b[0m\u001b[1;33m\u001b[0m\u001b[1;33m\u001b[0m\u001b[0m\n\u001b[0;32m     21\u001b[0m             \u001b[1;32mfor\u001b[0m \u001b[0mkey\u001b[0m\u001b[1;33m,\u001b[0m \u001b[0mvalue\u001b[0m \u001b[1;32min\u001b[0m \u001b[0mpurchases\u001b[0m\u001b[1;33m.\u001b[0m\u001b[0mitems\u001b[0m\u001b[1;33m(\u001b[0m\u001b[1;33m)\u001b[0m\u001b[1;33m:\u001b[0m\u001b[1;33m\u001b[0m\u001b[1;33m\u001b[0m\u001b[0m\n\u001b[1;32m---> 22\u001b[1;33m                 \u001b[1;32mif\u001b[0m \u001b[0mkey\u001b[0m \u001b[1;33m==\u001b[0m \u001b[0mvisit\u001b[0m\u001b[1;33m[\u001b[0m\u001b[1;36m0\u001b[0m\u001b[1;33m]\u001b[0m\u001b[1;33m:\u001b[0m\u001b[1;33m\u001b[0m\u001b[1;33m\u001b[0m\u001b[0m\n\u001b[0m\u001b[0;32m     23\u001b[0m                     \u001b[0mprint\u001b[0m\u001b[1;33m(\u001b[0m\u001b[0mvisit\u001b[0m\u001b[1;33m[\u001b[0m\u001b[1;36m0\u001b[0m\u001b[1;33m]\u001b[0m\u001b[1;33m,\u001b[0m \u001b[0mvisit\u001b[0m\u001b[1;33m[\u001b[0m\u001b[1;36m1\u001b[0m\u001b[1;33m]\u001b[0m\u001b[1;33m,\u001b[0m \u001b[0mpurchases\u001b[0m\u001b[1;33m[\u001b[0m\u001b[0mvisit\u001b[0m\u001b[1;33m[\u001b[0m\u001b[1;36m0\u001b[0m\u001b[1;33m]\u001b[0m\u001b[1;33m]\u001b[0m\u001b[1;33m)\u001b[0m\u001b[1;33m\u001b[0m\u001b[1;33m\u001b[0m\u001b[0m\n\u001b[0;32m     24\u001b[0m \u001b[1;31m#                    funnel.write(data)\u001b[0m\u001b[1;33m\u001b[0m\u001b[1;33m\u001b[0m\u001b[1;33m\u001b[0m\u001b[0m\n",
      "\u001b[1;31mKeyboardInterrupt\u001b[0m: "
     ]
    }
   ],
   "source": [
    "import json\n",
    "\n",
    "f = open('lecture_notebooks/purchase_log.txt', 'r', encoding = 'utf-8')\n",
    "\n",
    "# создаем словарь purchases в оперативной памяти\n",
    "purchases = {}\n",
    "\n",
    "for line in f:\n",
    "    line = json.loads(line.strip())\n",
    "    \n",
    "    # print(line['user_id'], line['category'])\n",
    "    purchases[line['user_id']] = line['category']\n",
    "\n",
    "# читаем файл visit_log.csv\n",
    "with open('lecture_notebooks/visit_log.csv', 'r', encoding = 'utf-8') as visits:\n",
    "    with open('lecture_notebooks/funnel.csv', 'w', encoding = 'utf-8') as funnel:\n",
    "        for i, visit in enumerate(visits):\n",
    "            visit = visit.strip().split(',')\n",
    "\n",
    "            # print(visit[0], visit[1])\n",
    "            for key, value in purchases.items():\n",
    "                if key == visit[0]:\n",
    "                    print(visit[0], visit[1], purchases[visit[0]])\n",
    "#                    funnel.write(data)\n",
    "            "
   ]
  },
  {
   "cell_type": "code",
   "execution_count": null,
   "metadata": {},
   "outputs": [],
   "source": []
  }
 ],
 "metadata": {
  "kernelspec": {
   "display_name": "Python 3",
   "language": "python",
   "name": "python3"
  }
 },
 "nbformat": 4,
 "nbformat_minor": 4
}
