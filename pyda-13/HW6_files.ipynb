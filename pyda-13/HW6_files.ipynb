{
 "cells": [
  {
   "cell_type": "markdown",
   "metadata": {},
   "source": [
    "# Домашнее задание к лекции Работа с файловой системой и модули"
   ]
  },
  {
   "cell_type": "code",
   "execution_count": 4,
   "metadata": {},
   "outputs": [],
   "source": [
    "import json\n",
    "\n",
    "f = open('lecture_notebooks/purchase_log.txt', 'r', encoding = 'utf-8')\n",
    "next(f) # пропускаем первую строчку с \"заголовком\"\n",
    "\n",
    "# создаем словарь purchases в оперативной памяти\n",
    "purchases = {}\n",
    "\n",
    "for line in f:\n",
    "    line = json.loads(line.strip())\n",
    "    \n",
    "    \n",
    "    # print(line['user_id'], line['category'])\n",
    "    purchases[line['user_id']] = line['category']\n",
    "\n",
    "# читаем файл visit_log.csv и записываем в funnel.csv\n",
    "with open('lecture_notebooks/visit_log.csv', 'r', encoding = 'utf-8') as visits:\n",
    "    with open('lecture_notebooks/funnel.csv', 'w', encoding = 'cp1251') as funnel:\n",
    "        for visit in visits:\n",
    "            visit = visit.strip().split(',')\n",
    "            if visit[0] in purchases:\n",
    "                data = visit[0] + ',' + visit[1] + ',' + purchases[visit[0]] + '\\n'\n",
    "                funnel.write(data)\n",
    "\n"
   ]
  }
 ],
 "metadata": {
  "kernelspec": {
   "display_name": "Python 3",
   "language": "python",
   "name": "python3"
  },
  "language_info": {
   "codemirror_mode": {
    "name": "ipython",
    "version": 3
   },
   "file_extension": ".py",
   "mimetype": "text/x-python",
   "name": "python",
   "nbconvert_exporter": "python",
   "pygments_lexer": "ipython3",
   "version": "3.7.6"
  }
 },
 "nbformat": 4,
 "nbformat_minor": 4
}
