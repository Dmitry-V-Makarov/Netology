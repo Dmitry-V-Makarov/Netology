{
 "cells": [
  {
   "cell_type": "code",
   "execution_count": 1,
   "metadata": {},
   "outputs": [],
   "source": [
    "import numpy as np"
   ]
  },
  {
   "cell_type": "code",
   "execution_count": 17,
   "metadata": {},
   "outputs": [
    {
     "data": {
      "text/plain": [
       "1"
      ]
     },
     "execution_count": 17,
     "metadata": {},
     "output_type": "execute_result"
    }
   ],
   "source": [
    "# генерируем дискретную величину\n",
    "np.random.randint(1, 5)"
   ]
  },
  {
   "cell_type": "code",
   "execution_count": 3,
   "metadata": {},
   "outputs": [
    {
     "data": {
      "text/plain": [
       "array([3, 4, 3, 2, 1, 3, 1, 4, 2, 1, 4, 3, 4, 1, 2, 1, 3, 3, 1, 3, 4, 2,\n",
       "       2, 3, 4, 2, 3, 4, 4, 3, 3, 3, 3, 1, 3, 3, 3, 4, 2, 1, 4, 1, 4, 4,\n",
       "       1, 2, 3, 2, 4, 3, 4, 3, 2, 1, 3, 4, 4, 3, 4, 4, 1, 2, 3, 4, 3, 2,\n",
       "       2, 2, 3, 3, 3, 2, 2, 1, 1, 2, 1, 1, 4, 1, 2, 4, 4, 1, 4, 3, 2, 1,\n",
       "       1, 2, 2, 4, 4, 3, 1, 4, 1, 1, 2, 3])"
      ]
     },
     "execution_count": 3,
     "metadata": {},
     "output_type": "execute_result"
    }
   ],
   "source": [
    "np.random.randint(1, 5, 100) # 100 таких чисел"
   ]
  },
  {
   "cell_type": "code",
   "execution_count": 4,
   "metadata": {},
   "outputs": [
    {
     "data": {
      "text/plain": [
       "array([0.41399658, 0.20415875, 0.45758653, 0.10419185, 0.87350007,\n",
       "       0.11350699, 0.64677773, 0.13136963, 0.2979213 , 0.75476346,\n",
       "       0.97759802, 0.66757888, 0.20049943, 0.30170705, 0.06406138,\n",
       "       0.4392667 , 0.5059202 , 0.88352173, 0.84007031, 0.58422373,\n",
       "       0.90157461, 0.76877778, 0.9505429 , 0.61189592, 0.47886291,\n",
       "       0.35812326, 0.88628104, 0.09724172, 0.60267678, 0.41870775,\n",
       "       0.55366919, 0.8329321 , 0.01035636, 0.32685945, 0.03811168,\n",
       "       0.08208513, 0.1277262 , 0.14482533, 0.54442296, 0.20188994,\n",
       "       0.51679999, 0.91427661, 0.35607671, 0.3208766 , 0.30587975,\n",
       "       0.17436976, 0.3831263 , 0.11981174, 0.95977466, 0.14881095,\n",
       "       0.10252586, 0.09502207, 0.46920415, 0.48523552, 0.89925935,\n",
       "       0.21097009, 0.11262363, 0.63329797, 0.97027706, 0.87801271,\n",
       "       0.79419477, 0.00436132, 0.72868941, 0.97009234, 0.41493394,\n",
       "       0.55420943, 0.79525035, 0.78217871, 0.52022601, 0.86031277,\n",
       "       0.95752147, 0.76833565, 0.1094428 , 0.79949235, 0.79399523,\n",
       "       0.00630244, 0.96879098, 0.06425549, 0.04371965, 0.48956154,\n",
       "       0.72679863, 0.1935357 , 0.66945696, 0.2053716 , 0.13406361,\n",
       "       0.21176276, 0.26715744, 0.18821424, 0.63499964, 0.43845841,\n",
       "       0.36194766, 0.42044028, 0.83035   , 0.34399008, 0.25470745,\n",
       "       0.03247869, 0.00239631, 0.63134606, 0.18606003, 0.10242138])"
      ]
     },
     "execution_count": 4,
     "metadata": {},
     "output_type": "execute_result"
    }
   ],
   "source": [
    "# генерируем непрерывную величину от 0 до 1\n",
    "np.random.random(100)"
   ]
  },
  {
   "cell_type": "code",
   "execution_count": 37,
   "metadata": {},
   "outputs": [
    {
     "data": {
      "text/plain": [
       "2.8744507154066525"
      ]
     },
     "execution_count": 37,
     "metadata": {},
     "output_type": "execute_result"
    }
   ],
   "source": [
    "# то же самое, но в нужном нам диапазоне\n",
    "np.random.uniform(1, 5)"
   ]
  },
  {
   "cell_type": "code",
   "execution_count": 41,
   "metadata": {},
   "outputs": [
    {
     "data": {
      "text/plain": [
       "array([1.61535601, 3.10932952, 4.34211879, 2.2913764 , 1.75088836,\n",
       "       1.14777213, 3.30769561, 3.47860298, 2.03039889, 1.49699657,\n",
       "       3.34473432, 3.20778499, 3.20828803, 3.97964206, 1.79328517,\n",
       "       1.69368462, 4.99233436, 1.38843352, 2.59407132, 4.2277715 ,\n",
       "       2.14390853, 2.23740707, 1.14648023, 4.14157339, 1.38952234,\n",
       "       1.76225073, 4.04820808, 3.80022533, 1.58485994, 4.64160329,\n",
       "       1.21376797, 3.52271941, 1.15314705, 3.19193295, 4.31369538,\n",
       "       1.28165269, 3.44841615, 3.57718683, 3.92100817, 1.55020159,\n",
       "       4.49869511, 1.96330054, 3.71767517, 1.76666843, 2.87629424,\n",
       "       4.10030286, 2.00432089, 1.04810907, 4.72242365, 4.05659645,\n",
       "       1.13682946, 2.68503411, 2.52085514, 3.75771817, 4.53835725,\n",
       "       1.34353117, 4.94784025, 1.16664485, 1.25094449, 2.28484845,\n",
       "       3.69334397, 3.05706644, 2.7283834 , 2.22557116, 1.93812457,\n",
       "       4.9063006 , 1.73761521, 3.69176035, 2.3323431 , 4.78310143,\n",
       "       2.09985321, 1.63965677, 3.72009882, 4.86756597, 3.79328472,\n",
       "       2.48958839, 1.05557913, 3.79612044, 1.22207616, 1.35010534,\n",
       "       1.25244539, 4.88944005, 3.14366915, 4.02926113, 1.20175351,\n",
       "       3.82346332, 2.69811588, 3.76748195, 3.66713424, 2.12809248,\n",
       "       4.52827798, 3.24210185, 4.25104302, 2.21778354, 4.06777941,\n",
       "       2.70150062, 3.64960707, 3.1071499 , 1.32185237, 4.55076819])"
      ]
     },
     "execution_count": 41,
     "metadata": {},
     "output_type": "execute_result"
    }
   ],
   "source": [
    "np.random.uniform(1, 5, 100)"
   ]
  },
  {
   "cell_type": "markdown",
   "metadata": {},
   "source": [
    "**Задача 1.** Оценить вероятность того, что на игральной кости выпадет больше 4 очков. Сравнить с теоретической вероятностью."
   ]
  },
  {
   "cell_type": "code",
   "execution_count": 21,
   "metadata": {},
   "outputs": [
    {
     "name": "stdout",
     "output_type": "stream",
     "text": [
      "327 1000 0.327 0.3333333333333333\n"
     ]
    }
   ],
   "source": [
    "import numpy as np\n",
    "import math\n",
    "# np.random.seed(42)\n",
    "trials = 1000    # Количество попыток\n",
    "successes = 0    # Количество успехов\n",
    "\n",
    "for i in range(trials):\n",
    "    random_score = np.random.randint(1, 7)    # Случайное количество очков от 1 до 6\n",
    "    if random_score > 4:\n",
    "        successes += 1\n",
    "        \n",
    "p_monte_carlo = successes / trials    # Вероятность из моделирования\n",
    "p = 2 / 6                             # Теоретическая вероятность\n",
    "\n",
    "print(successes, trials, p_monte_carlo, p)"
   ]
  },
  {
   "cell_type": "markdown",
   "metadata": {},
   "source": [
    "**Задача 1А** (опциональная). Дан квадрат, в который вписан круг (касаясь сторон квадрата). В квадрат случайным образом попадают точки. Какова вероятность, что наугад взятая точка попадёт в круг?  \n",
    "_Подсказка:_ Удобно взять квардат со стороной, равной 2, и отсчитывать координаты точек от его центра."
   ]
  },
  {
   "cell_type": "code",
   "execution_count": 22,
   "metadata": {},
   "outputs": [
    {
     "name": "stdout",
     "output_type": "stream",
     "text": [
      "0.797\n"
     ]
    }
   ],
   "source": [
    "trials = 1000\n",
    "successes = 0\n",
    "\n",
    "for i in range(trials):\n",
    "    x = np.random.uniform(-1, 1) # генерируем от -1 до 1 с учетом, что центр в точке 0:0\n",
    "    y = np.random.uniform(-1, 1)\n",
    "# считаем растояние от начала координат до точки xy. \n",
    "# мы попадаем, если расстояние меньше радиуса круга, который равен 1    \n",
    "    if x**2 + y**2 < 1:  \n",
    "        successes += 1\n",
    "        \n",
    "print(successes / trials)"
   ]
  },
  {
   "cell_type": "code",
   "execution_count": 23,
   "metadata": {},
   "outputs": [
    {
     "name": "stdout",
     "output_type": "stream",
     "text": [
      "3.188\n"
     ]
    }
   ],
   "source": [
    "print(4 * successes / trials)"
   ]
  },
  {
   "cell_type": "code",
   "execution_count": 24,
   "metadata": {},
   "outputs": [
    {
     "name": "stdout",
     "output_type": "stream",
     "text": [
      "78620 100000 0.7862 0.7853981633974483\n"
     ]
    }
   ],
   "source": [
    "# решение через площади\n",
    "np.random.seed(42)\n",
    "sq_area = 4\n",
    "c_area = math.pi\n",
    "\n",
    "trials = 100000\n",
    "successes = 0\n",
    "\n",
    "for i in range(trials):\n",
    "    random_score = np.random.uniform(0, sq_area)    # Случайные числа от 0 до 4\n",
    "    if random_score < c_area:\n",
    "        successes += 1\n",
    "        \n",
    "p_monte_carlo = successes / trials\n",
    "p = c_area / sq_area\n",
    "\n",
    "print(successes, trials, p_monte_carlo, p)"
   ]
  },
  {
   "cell_type": "code",
   "execution_count": 25,
   "metadata": {},
   "outputs": [
    {
     "name": "stdout",
     "output_type": "stream",
     "text": [
      "785204 1000000 0.785204 0.7853981633974483\n"
     ]
    }
   ],
   "source": [
    "# решение через координаты вариант 1\n",
    "trials = 1000000\n",
    "successes = 0\n",
    "\n",
    "for i in range(trials):\n",
    "    x = np.random.random()\n",
    "    y = np.random.random()\n",
    "    if (x ** 2 + y ** 2) < 1:\n",
    "        successes += 1\n",
    "        \n",
    "p_monte_carlo = successes / trials\n",
    "p = c_area / sq_area\n",
    "\n",
    "print(successes, trials, p_monte_carlo, p)"
   ]
  },
  {
   "cell_type": "code",
   "execution_count": 26,
   "metadata": {},
   "outputs": [
    {
     "name": "stdout",
     "output_type": "stream",
     "text": [
      "784841 1000000 0.784841 0.7853981633974483\n"
     ]
    }
   ],
   "source": [
    "# решение через координаты вариант 2\n",
    "trials = 1000000\n",
    "successes = 0\n",
    "\n",
    "for i in range(trials):\n",
    "    x = np.random.uniform(-1,1)\n",
    "    y = np.random.uniform(-1,1)\n",
    "    if (x ** 2 + y ** 2) < 1:\n",
    "        successes += 1\n",
    "        \n",
    "p_monte_carlo = successes / trials\n",
    "p = c_area / sq_area\n",
    "\n",
    "print(successes, trials, p_monte_carlo, p)"
   ]
  },
  {
   "cell_type": "code",
   "execution_count": 27,
   "metadata": {},
   "outputs": [
    {
     "data": {
      "text/plain": [
       "3.139364"
      ]
     },
     "execution_count": 27,
     "metadata": {},
     "output_type": "execute_result"
    }
   ],
   "source": [
    "p_monte_carlo * 4 # площадь круга"
   ]
  },
  {
   "cell_type": "code",
   "execution_count": 28,
   "metadata": {},
   "outputs": [
    {
     "data": {
      "text/plain": [
       "0.50273"
      ]
     },
     "execution_count": 28,
     "metadata": {},
     "output_type": "execute_result"
    }
   ],
   "source": [
    "# showing standard uniform distribution\n",
    "trials = 100000\n",
    "successes = 0\n",
    "\n",
    "for i in range(trials):\n",
    "    x = np.random.uniform(0,1)\n",
    "    if x < 0.5:\n",
    "        successes += 1\n",
    "\n",
    "successes / trials"
   ]
  },
  {
   "cell_type": "code",
   "execution_count": null,
   "metadata": {},
   "outputs": [],
   "source": []
  },
  {
   "cell_type": "markdown",
   "metadata": {},
   "source": [
    "**Задача 2.** Смоделировать стрельбу по мишени."
   ]
  },
  {
   "cell_type": "code",
   "execution_count": 29,
   "metadata": {},
   "outputs": [
    {
     "data": {
      "text/plain": [
       "<matplotlib.collections.PathCollection at 0x135aeb37b80>"
      ]
     },
     "execution_count": 29,
     "metadata": {},
     "output_type": "execute_result"
    },
    {
     "data": {
      "image/png": "[encoded data removed]",
      "text/plain": [
       "<Figure size 432x288 with 1 Axes>"
      ]
     },
     "metadata": {
      "needs_background": "light"
     },
     "output_type": "display_data"
    }
   ],
   "source": [
    "import matplotlib.pyplot as plt\n",
    "\n",
    "shots = 1000    # Количество выстрелов\n",
    "std_dev = 1 # Стандартное отклонение (на сколько мы в среднем будем мазать)\n",
    "\n",
    "x = np.random.normal(0, std_dev, shots) # 0 - и среднее, и мода, и медиана\n",
    "y = np.random.normal(0, std_dev, shots)\n",
    "\n",
    "\n",
    "plt.scatter(x, y)\n",
    "# почему разброс от -3 до 3?"
   ]
  },
  {
   "cell_type": "markdown",
   "metadata": {},
   "source": [
    "**Задача 3.** Графически определить распределение измеренных значений физической величины, когда измерительный прибор имеет случайную погрешность."
   ]
  },
  {
   "cell_type": "code",
   "execution_count": 1,
   "metadata": {},
   "outputs": [
    {
     "data": {
      "text/plain": [
       "count    1040.000000\n",
       "mean       -9.797112\n",
       "std         0.087958\n",
       "min       -10.030373\n",
       "25%        -9.866481\n",
       "50%        -9.800747\n",
       "75%        -9.727398\n",
       "max        -9.570811\n",
       "Name: az, dtype: float64"
      ]
     },
     "execution_count": 1,
     "metadata": {},
     "output_type": "execute_result"
    }
   ],
   "source": [
    "import pandas as pd\n",
    "\n",
    "data = pd.read_csv(\"../data/data.log\", sep=\" \")[\"az\"]\n",
    "data.describe()"
   ]
  },
  {
   "cell_type": "code",
   "execution_count": 35,
   "metadata": {},
   "outputs": [
    {
     "data": {
      "text/plain": [
       "0   -9.632765\n",
       "1   -9.632765\n",
       "2   -9.643887\n",
       "3   -9.691793\n",
       "4   -9.702534\n",
       "Name: az, dtype: float64"
      ]
     },
     "execution_count": 35,
     "metadata": {},
     "output_type": "execute_result"
    }
   ],
   "source": [
    "data.head()"
   ]
  },
  {
   "cell_type": "code",
   "execution_count": 31,
   "metadata": {},
   "outputs": [
    {
     "data": {
      "text/plain": [
       "<matplotlib.axes._subplots.AxesSubplot at 0x135af805e50>"
      ]
     },
     "execution_count": 31,
     "metadata": {},
     "output_type": "execute_result"
    },
    {
     "data": {
      "image/png": "[encoded data removed]",
      "text/plain": [
       "<Figure size 432x288 with 1 Axes>"
      ]
     },
     "metadata": {
      "needs_background": "light"
     },
     "output_type": "display_data"
    }
   ],
   "source": [
    "data.plot()"
   ]
  },
  {
   "cell_type": "code",
   "execution_count": 38,
   "metadata": {},
   "outputs": [],
   "source": [
    "uni = np.random.uniform(min(data), max(data), 100000)\n",
    "norm = np.random.normal(np.mean(data), 0.08, 100000)"
   ]
  },
  {
   "cell_type": "code",
   "execution_count": 39,
   "metadata": {},
   "outputs": [
    {
     "data": {
      "image/png": "[encoded data removed]",
      "text/plain": [
       "<Figure size 432x288 with 1 Axes>"
      ]
     },
     "metadata": {
      "needs_background": "light"
     },
     "output_type": "display_data"
    },
    {
     "data": {
      "image/png": "[encoded data removed]",
      "text/plain": [
       "<Figure size 432x288 with 1 Axes>"
      ]
     },
     "metadata": {
      "needs_background": "light"
     },
     "output_type": "display_data"
    },
    {
     "data": {
      "image/png": "[encoded data removed]",
      "text/plain": [
       "<Figure size 432x288 with 1 Axes>"
      ]
     },
     "metadata": {
      "needs_background": "light"
     },
     "output_type": "display_data"
    }
   ],
   "source": [
    "plt.hist(uni, bins=11)\n",
    "plt.show()\n",
    "plt.hist(norm, bins=11)\n",
    "plt.show()\n",
    "plt.hist(data, bins=11)\n",
    "plt.show()"
   ]
  },
  {
   "cell_type": "markdown",
   "metadata": {},
   "source": [
    "**Задача 4.** Рассчитать вероятность того, что пациент заражён COVID-19, если известно, что тест дал положительный результат. Сравнить с результатом моделирования."
   ]
  },
  {
   "cell_type": "code",
   "execution_count": 2,
   "metadata": {},
   "outputs": [
    {
     "name": "stdout",
     "output_type": "stream",
     "text": [
      "0.8260869565217391\n"
     ]
    }
   ],
   "source": [
    "prev = 0.50    # Распространённость болезни\n",
    "sens = 0.95    # Чувствительность теста\n",
    "spec = 0.80    # Специфичность теста\n",
    "\n",
    "p = (sens * prev) / (sens * prev + (1 - spec) * (1 - prev))   # Теоретическая вероятность \n",
    "print(p)"
   ]
  },
  {
   "cell_type": "code",
   "execution_count": 3,
   "metadata": {},
   "outputs": [
    {
     "name": "stdout",
     "output_type": "stream",
     "text": [
      "0.8256732589029917\n"
     ]
    }
   ],
   "source": [
    "population = 100000    # Количество испытуемых\n",
    "\n",
    "true_pos = 0    # Количество больных с положительным тестом\n",
    "false_pos = 0   # Количество здоровых с положительным тестом\n",
    "\n",
    "for i in range(population):\n",
    "    # Наугад решаем, заражён ли человек\n",
    "    # для этого генерируем случайную величину от 0 до 1     \n",
    "    infected = np.random.uniform() < prev\n",
    "    \n",
    "    # Наугад решаем, дал ли тест положительный результат\n",
    "    # positive выдает True или False, если случайное число меньше 0.95, если infected уже стоит на True,\n",
    "    # или positive, если случайное число меньше 0.20 (1 - 0.80) \n",
    "    positive = np.random.uniform() < sens if infected else np.random.uniform() < 1 - spec\n",
    "    \n",
    "    if positive:\n",
    "        if infected:\n",
    "            true_pos += 1\n",
    "        else:\n",
    "            false_pos += 1\n",
    "            \n",
    "p_monte_carlo = true_pos / (true_pos + false_pos)    # Вероятность из моделирования\n",
    "print(p_monte_carlo)"
   ]
  },
  {
   "cell_type": "code",
   "execution_count": null,
   "metadata": {},
   "outputs": [],
   "source": []
  }
 ],
 "metadata": {
  "kernelspec": {
   "display_name": "Python 3",
   "language": "python",
   "name": "python3"
  },
  "language_info": {
   "codemirror_mode": {
    "name": "ipython",
    "version": 3
   },
   "file_extension": ".py",
   "mimetype": "text/x-python",
   "name": "python",
   "nbconvert_exporter": "python",
   "pygments_lexer": "ipython3",
   "version": "3.7.6"
  }
 },
 "nbformat": 4,
 "nbformat_minor": 4
}
