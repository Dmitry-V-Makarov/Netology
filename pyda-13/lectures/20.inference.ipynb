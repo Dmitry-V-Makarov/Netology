{
 "cells": [
  {
   "cell_type": "code",
   "execution_count": 2,
   "metadata": {},
   "outputs": [],
   "source": [
    "import numpy as np\n",
    "import pandas as pd\n",
    "import scipy.stats as st\n",
    "import numpy as np\n",
    "import math"
   ]
  },
  {
   "cell_type": "markdown",
   "metadata": {},
   "source": [
    "## z-score и t-score"
   ]
  },
  {
   "cell_type": "markdown",
   "metadata": {},
   "source": [
    "### Поиск z-score по площади и площади по z-score"
   ]
  },
  {
   "cell_type": "code",
   "execution_count": 6,
   "metadata": {},
   "outputs": [
    {
     "name": "stdout",
     "output_type": "stream",
     "text": [
      "0.9750021048517795\n",
      "0.024997895148220435\n",
      "0.024997895148220484\n",
      "0.950004209703559\n"
     ]
    }
   ],
   "source": [
    "# поиск площади слева от z-score, например при z-score = 1.96\n",
    "print(st.norm.cdf(1.96)) # должно получиться 0.975\n",
    "# если взять -1.96\n",
    "print(st.norm.cdf(-1.96)) # должно получиться 0.025 потому что колокол симметричен\n",
    "\n",
    "# если мы хотим найти площадь справа от 1.96 (правый хвост, например при тестированни правосторонней гипотезы)\n",
    "print(1 - st.norm.cdf(1.96))\n",
    "\n",
    "# площадь между -1.96 и 1.96, из большей площади вычитаем меньшую\n",
    "print(st.norm.cdf(1.96) - st.norm.cdf(-1.96))"
   ]
  },
  {
   "cell_type": "code",
   "execution_count": 11,
   "metadata": {},
   "outputs": [
    {
     "name": "stdout",
     "output_type": "stream",
     "text": [
      "1.959963984540054\n",
      "1.959999999999999\n"
     ]
    }
   ],
   "source": [
    "# обратный процесс, поиск z-score по площади (например, 97.5% площади слева от z-score, которое мы ищем)\n",
    "print(st.norm.ppf(0.975))\n",
    "\n",
    "# показать что процессы взаимообратны можно так (погрешность связана с округлением)\n",
    "print(st.norm.ppf(st.norm.cdf(1.96)))"
   ]
  },
  {
   "cell_type": "markdown",
   "metadata": {},
   "source": [
    "### Поиск t-score по площади и площади по t-score"
   ]
  },
  {
   "cell_type": "code",
   "execution_count": 25,
   "metadata": {},
   "outputs": [
    {
     "name": "stdout",
     "output_type": "stream",
     "text": [
      "0.09999038172554342\n",
      "2.1447866879169273\n"
     ]
    }
   ],
   "source": [
    "# поиск площади слева от t-score (первый параметр - t-score, второй - df, степени свободы, объем выборки - 1)\n",
    "print(st.t.sf(3.078, 1))\n",
    "\n",
    "# площади справа и между двумя t-score считаются аналогично z-score\n",
    "\n",
    "# поиск t-score по площади\n",
    "# допустим выборка n = 15, тогда степеней свободы 14\n",
    "df = 14\n",
    "print(st.t.ppf(0.95, df))"
   ]
  },
  {
   "cell_type": "markdown",
   "metadata": {},
   "source": [
    "## Confidence intervals"
   ]
  },
  {
   "cell_type": "markdown",
   "metadata": {},
   "source": [
    "Доверительный интервал для среднего значения (вариант 1). Нормальное распределение генеральной совокупности или выборка (n) > 30. **СКО генеральной совокупности известно**. Используем z-score."
   ]
  },
  {
   "cell_type": "code",
   "execution_count": 20,
   "metadata": {},
   "outputs": [
    {
     "name": "stdout",
     "output_type": "stream",
     "text": [
      "1.959963984540054\n",
      "1.959963984540054\n"
     ]
    }
   ],
   "source": [
    "# размер выборки и уровень доверия задаются исследователем\n",
    "# СКО ген. совокупности для этого метода должно быть известно заранее\n",
    "\n",
    "# confidence level\n",
    "conf = 0.95\n",
    "\n",
    "# размер выборки\n",
    "n = 35\n",
    "\n",
    "# стандартное отклонение ген. совокупности\n",
    "stdev_population = 15\n",
    "\n",
    "# считаем среднее по выборке и например получаем 7\n",
    "mean = 7\n",
    "\n",
    "# тогда интервал считается как среднее +- погрешность (Margin of error, ME, E)\n",
    "# погрешность считается как E = z-score * stdev / sqrt(n)\n",
    "\n",
    "# сначала найдем z-score\n",
    "# так как мы рассматриваем площадь слева и справа от среднего, то для уровня доверия 0.95 нужно посчитать z-score\n",
    "# либо для 0.025 и поменять знак, либо для 0.975 (удобнее второе) - ниже даны два одинаковых варианта\n",
    "print(st.norm.ppf(0.975))\n",
    "print(st.norm.ppf((1+0.95)/2))"
   ]
  },
  {
   "cell_type": "code",
   "execution_count": 26,
   "metadata": {},
   "outputs": [
    {
     "name": "stdout",
     "output_type": "stream",
     "text": [
      "1.959963984540054\n",
      "4.969415701946049\n",
      "2.0305842980539506 11.96941570194605\n"
     ]
    }
   ],
   "source": [
    "# считаем погрешность\n",
    "z = st.norm.ppf((1+0.95)/2)\n",
    "print(z)\n",
    "E = z * stdev_population / math.sqrt(n)\n",
    "print(E) # это и есть наше отклонение от среднего при уровне доверия 95%\n",
    "\n",
    "# строим интервал\n",
    "print(mean - E, mean + E)"
   ]
  },
  {
   "cell_type": "code",
   "execution_count": 27,
   "metadata": {},
   "outputs": [],
   "source": [
    "# этот результат означает, что с 95% вероятностью можно утверждать, что истинное среднее ген. совокупности находится\n",
    "# в этом интервале\n",
    "\n",
    "# другая интерпретация: если взять 100 выборок, то можно ожидать, что 95 из них будут содержать истинное среднее"
   ]
  },
  {
   "cell_type": "markdown",
   "metadata": {},
   "source": [
    "Доверительный интервал для среднего значения (вариант 2). Нормальное распределение генеральной совокупности или выборка (n) > 30. **СКО генеральной совокупности НЕизвестно**. Используем t-score."
   ]
  },
  {
   "cell_type": "code",
   "execution_count": 31,
   "metadata": {},
   "outputs": [
    {
     "name": "stdout",
     "output_type": "stream",
     "text": [
      "2.032244509317718\n",
      "5.152680281095608\n",
      "1.8473197189043917 12.15268028109561\n"
     ]
    }
   ],
   "source": [
    "conf = 0.95\n",
    "n = 35\n",
    "mean = 7\n",
    "stdev_sample = 15 # СКО выборки, в отличие от СКО ген. совокупности известно всегда\n",
    "\n",
    "df = n - 1 # степени свободы, здесь 35 - 1 = 34\n",
    "t = st.t.ppf((1+conf)/2, df) # t-score для two-tailed test\n",
    "print(t)\n",
    "\n",
    "# погрешность\n",
    "E = t * stdev_sample / math.sqrt(n)\n",
    "print(E)\n",
    "\n",
    "# интервал\n",
    "print(mean - E, mean + E)"
   ]
  },
  {
   "cell_type": "code",
   "execution_count": null,
   "metadata": {},
   "outputs": [],
   "source": [
    "# интерпретация интервала аналогична\n",
    "# обратите внимание, t-distribution дает гораздо более широкий интервал (более консертавтивная оценка)\n",
    "# при аналогичных параметрах среднего, выборки и СКО (правда здесь для выборки, а не ген. совокупности)"
   ]
  },
  {
   "cell_type": "markdown",
   "metadata": {},
   "source": [
    "#### Минимальный размер выборки"
   ]
  },
  {
   "cell_type": "code",
   "execution_count": null,
   "metadata": {},
   "outputs": [],
   "source": [
    "# зная Margin of error (погрешность) и желаемый уровень доверия можно посчитать\n",
    "# минимальный размер выборки для z-score и t-score (выводится из формулы погрешности (ME))"
   ]
  },
  {
   "cell_type": "code",
   "execution_count": null,
   "metadata": {},
   "outputs": [],
   "source": [
    "# через z-score (известно СКО ген. совокупности)\n",
    "conf = 0.95\n",
    "z = st.norm.ppf((1 + conf)/2 # two-tailed z-score\n",
    "n = ((z * stdev_population) / E) ** 2\n",
    "\n",
    "# через t-score\n",
    "# минимальный размер выборки посчитать нельзя, потому что для определения t-score уже нужно знать размер выборки\n",
    "# (от этого зависят степени свободы)"
   ]
  },
  {
   "cell_type": "code",
   "execution_count": null,
   "metadata": {},
   "outputs": [],
   "source": []
  },
  {
   "cell_type": "markdown",
   "metadata": {},
   "source": [
    "## Hypothesis testing (one sample)"
   ]
  },
  {
   "cell_type": "markdown",
   "metadata": {},
   "source": [
    "### Population standard deviation known. Z-test"
   ]
  },
  {
   "cell_type": "markdown",
   "metadata": {},
   "source": [
    "Тестирование гипотезы для среднего значения генеральной совокупности. СКО ген. совокупности известно. Ген. совокупность либо нормально распределена, либо выборка > 30."
   ]
  },
  {
   "cell_type": "markdown",
   "metadata": {},
   "source": [
    "Условие примера: считается, что средний возраст шимпанзе 20 лет. Вы как исследователь с этим не согласны. Тогда:\n",
    "\n",
    "- Нулевая гипотеза: средний возраст шимпанзе 20 лет\n",
    "- Альтернативная гипотеза: средний возраст шимпанзе НЕ 20 лет (two-tailed test)\n",
    "\n",
    "При этом известен СКО ген. совокупности (на практике этот параметр никогда не бывает известен, поэтому используется t-test)."
   ]
  },
  {
   "cell_type": "code",
   "execution_count": 17,
   "metadata": {},
   "outputs": [
    {
     "data": {
      "text/plain": [
       "1.999999999999368"
      ]
     },
     "execution_count": 17,
     "metadata": {},
     "output_type": "execute_result"
    }
   ],
   "source": [
    "# Вариант 1. Расчет вручную.\n",
    "\n",
    "alpha = 0.05 # уровень значимости, пороговое значение, задается исследователем\n",
    "conf = 1 - alpha # уровень доверия 0.95\n",
    "\n",
    "population_mean = 20\n",
    "population_sd = 11\n",
    "\n",
    "n = 45\n",
    "sample_mean = 21\n",
    "\n",
    "z_critical = st.norm.ppf((1 + 0.95) / 2)\n",
    "\n",
    "z_calc = population_mean - sample_mean / (population_sd / math.sqrt(n))\n",
    "z_calc\n",
    "\n",
    "p_value = 2 * st.norm.cdf(z_calc)\n",
    "p_value"
   ]
  },
  {
   "cell_type": "code",
   "execution_count": 16,
   "metadata": {},
   "outputs": [],
   "source": [
    "# Вариант 2. Решение из коробки\n",
    "\n",
    "\n"
   ]
  },
  {
   "cell_type": "code",
   "execution_count": null,
   "metadata": {},
   "outputs": [],
   "source": []
  }
 ],
 "metadata": {
  "kernelspec": {
   "display_name": "Python 3",
   "language": "python",
   "name": "python3"
  },
  "language_info": {
   "codemirror_mode": {
    "name": "ipython",
    "version": 3
   },
   "file_extension": ".py",
   "mimetype": "text/x-python",
   "name": "python",
   "nbconvert_exporter": "python",
   "pygments_lexer": "ipython3",
   "version": "3.8.3"
  }
 },
 "nbformat": 4,
 "nbformat_minor": 4
}
