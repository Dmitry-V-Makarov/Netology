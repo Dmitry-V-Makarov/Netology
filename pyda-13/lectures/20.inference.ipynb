{
 "cells": [
  {
   "cell_type": "code",
   "execution_count": 1,
   "metadata": {},
   "outputs": [],
   "source": [
    "import numpy as np\n",
    "import pandas as pd\n",
    "import scipy.stats as st\n",
    "import numpy as np\n",
    "import math"
   ]
  },
  {
   "cell_type": "markdown",
   "metadata": {},
   "source": [
    "## z-score и t-score"
   ]
  },
  {
   "cell_type": "markdown",
   "metadata": {},
   "source": [
    "### Поиск z-score по площади и площади по z-score"
   ]
  },
  {
   "cell_type": "code",
   "execution_count": 2,
   "metadata": {},
   "outputs": [
    {
     "name": "stdout",
     "output_type": "stream",
     "text": [
      "0.9750021048517795\n",
      "0.024997895148220435\n",
      "0.024997895148220484\n",
      "0.950004209703559\n"
     ]
    }
   ],
   "source": [
    "# поиск площади слева от z-score, например при z-score = 1.96\n",
    "print(st.norm.cdf(1.96)) # должно получиться 0.975\n",
    "# если взять -1.96\n",
    "print(st.norm.cdf(-1.96)) # должно получиться 0.025 потому что колокол симметричен\n",
    "\n",
    "# если мы хотим найти площадь справа от 1.96 (правый хвост, например при тестированни правосторонней гипотезы)\n",
    "print(1 - st.norm.cdf(1.96))\n",
    "\n",
    "# площадь между -1.96 и 1.96, из большей площади вычитаем меньшую\n",
    "print(st.norm.cdf(1.96) - st.norm.cdf(-1.96))"
   ]
  },
  {
   "cell_type": "code",
   "execution_count": 3,
   "metadata": {},
   "outputs": [
    {
     "name": "stdout",
     "output_type": "stream",
     "text": [
      "1.959963984540054\n",
      "1.959999999999999\n"
     ]
    }
   ],
   "source": [
    "# обратный процесс, поиск z-score по площади (например, 97.5% площади слева от z-score, которое мы ищем)\n",
    "print(st.norm.ppf(0.975))\n",
    "\n",
    "# показать что процессы взаимообратны можно так (погрешность связана с округлением)\n",
    "print(st.norm.ppf(st.norm.cdf(1.96)))"
   ]
  },
  {
   "cell_type": "code",
   "execution_count": 8,
   "metadata": {},
   "outputs": [
    {
     "data": {
      "text/plain": [
       "array([ 1.12724554, -1.2469956 , -0.05542642,  1.09231569,  1.16645923,\n",
       "       -0.8558472 ,  0.57858329,  0.67480514, -1.14879659, -1.33234306])"
      ]
     },
     "execution_count": 8,
     "metadata": {},
     "output_type": "execute_result"
    }
   ],
   "source": [
    "# можно также посчитать для np.array (уточнить параметры в документации, не выдает табличных значений)\n",
    "a = np.array([0.7972,  0.0767,  0.4383,  0.7866, 0.8091, 0.1954,  0.6307,  0.6599,  0.1065,  0.0508])\n",
    "\n",
    "st.zscore(a)\n",
    "\n",
    "# and for Pandas DF\n",
    "#data.apply(stats.zscore)"
   ]
  },
  {
   "cell_type": "markdown",
   "metadata": {},
   "source": [
    "### Поиск t-score по площади и площади по t-score"
   ]
  },
  {
   "cell_type": "code",
   "execution_count": 25,
   "metadata": {},
   "outputs": [
    {
     "name": "stdout",
     "output_type": "stream",
     "text": [
      "0.09999038172554342\n",
      "2.1447866879169273\n"
     ]
    }
   ],
   "source": [
    "# поиск площади слева от t-score (первый параметр - t-score, второй - df, степени свободы, объем выборки - 1)\n",
    "print(st.t.sf(3.078, 1))\n",
    "\n",
    "# площади справа и между двумя t-score считаются аналогично z-score\n",
    "\n",
    "# поиск t-score по площади\n",
    "# допустим выборка n = 15, тогда степеней свободы 14\n",
    "df = 14\n",
    "print(st.t.ppf(0.95, df))"
   ]
  },
  {
   "cell_type": "markdown",
   "metadata": {},
   "source": [
    "## Confidence intervals"
   ]
  },
  {
   "cell_type": "markdown",
   "metadata": {},
   "source": [
    "Доверительный интервал для среднего значения (вариант 1). Нормальное распределение генеральной совокупности или выборка (n) > 30. **СКО генеральной совокупности известно**. Используем z-score."
   ]
  },
  {
   "cell_type": "code",
   "execution_count": 20,
   "metadata": {},
   "outputs": [
    {
     "name": "stdout",
     "output_type": "stream",
     "text": [
      "1.959963984540054\n",
      "1.959963984540054\n"
     ]
    }
   ],
   "source": [
    "# размер выборки и уровень доверия задаются исследователем\n",
    "# СКО ген. совокупности для этого метода должно быть известно заранее\n",
    "\n",
    "# confidence level\n",
    "conf = 0.95\n",
    "\n",
    "# размер выборки\n",
    "n = 35\n",
    "\n",
    "# стандартное отклонение ген. совокупности\n",
    "stdev_population = 15\n",
    "\n",
    "# считаем среднее по выборке и например получаем 7\n",
    "mean = 7\n",
    "\n",
    "# тогда интервал считается как среднее +- погрешность (Margin of error, ME, E)\n",
    "# погрешность считается как E = z-score * stdev / sqrt(n)\n",
    "\n",
    "# сначала найдем z-score\n",
    "# так как мы рассматриваем площадь слева и справа от среднего, то для уровня доверия 0.95 нужно посчитать z-score\n",
    "# либо для 0.025 и поменять знак, либо для 0.975 (удобнее второе) - ниже даны два одинаковых варианта\n",
    "print(st.norm.ppf(0.975))\n",
    "print(st.norm.ppf((1+0.95)/2))"
   ]
  },
  {
   "cell_type": "code",
   "execution_count": 26,
   "metadata": {},
   "outputs": [
    {
     "name": "stdout",
     "output_type": "stream",
     "text": [
      "1.959963984540054\n",
      "4.969415701946049\n",
      "2.0305842980539506 11.96941570194605\n"
     ]
    }
   ],
   "source": [
    "# считаем погрешность\n",
    "z = st.norm.ppf((1+0.95)/2)\n",
    "print(z)\n",
    "E = z * stdev_population / math.sqrt(n)\n",
    "print(E) # это и есть наше отклонение от среднего при уровне доверия 95%\n",
    "\n",
    "# строим интервал\n",
    "print(mean - E, mean + E)"
   ]
  },
  {
   "cell_type": "code",
   "execution_count": 27,
   "metadata": {},
   "outputs": [],
   "source": [
    "# этот результат означает, что с 95% вероятностью можно утверждать, что истинное среднее ген. совокупности находится\n",
    "# в этом интервале\n",
    "\n",
    "# другая интерпретация: если взять 100 выборок, то можно ожидать, что 95 из них будут содержать истинное среднее"
   ]
  },
  {
   "cell_type": "markdown",
   "metadata": {},
   "source": [
    "**Минимальный размер выборки**"
   ]
  },
  {
   "cell_type": "code",
   "execution_count": null,
   "metadata": {},
   "outputs": [],
   "source": [
    "# зная Margin of error (погрешность) и желаемый уровень доверия можно посчитать\n",
    "# минимальный размер выборки для z-score и t-score (выводится из формулы погрешности (ME))"
   ]
  },
  {
   "cell_type": "code",
   "execution_count": null,
   "metadata": {},
   "outputs": [],
   "source": [
    "# через z-score (известно СКО ген. совокупности)\n",
    "conf = 0.95\n",
    "z = st.norm.ppf((1 + conf)/2 # two-tailed z-score\n",
    "n = ((z * stdev_population) / E) ** 2\n",
    "\n",
    "# через t-score\n",
    "# минимальный размер выборки посчитать нельзя, потому что для определения t-score уже нужно знать размер выборки\n",
    "# (от этого зависят степени свободы)"
   ]
  },
  {
   "cell_type": "code",
   "execution_count": 55,
   "metadata": {},
   "outputs": [
    {
     "data": {
      "text/plain": [
       "97"
      ]
     },
     "execution_count": 55,
     "metadata": {},
     "output_type": "execute_result"
    }
   ],
   "source": [
    "# пример из ДЗ\n",
    "\n",
    "var = 225 # Variance\n",
    "sigma = math.sqrt(var) # SD\n",
    "Z = round(st.norm.ppf((1+0.95)/2), 2)  # two-tailed test z-score 95%: 1.96 \n",
    "error = 3 # Погрешность (ME)\n",
    "\n",
    "N = ((sigma*Z)/error)**2\n",
    "math.ceil(N) # Округляем в большую сторону до ближайшего целого числа, чтобы обеспечить мин. выборку"
   ]
  },
  {
   "cell_type": "markdown",
   "metadata": {},
   "source": [
    "Доверительный интервал для среднего значения (вариант 2). Нормальное распределение генеральной совокупности или выборка (n) > 30. **СКО генеральной совокупности НЕизвестно**. Используем t-score."
   ]
  },
  {
   "cell_type": "code",
   "execution_count": 3,
   "metadata": {},
   "outputs": [
    {
     "name": "stdout",
     "output_type": "stream",
     "text": [
      "2.032244509317718\n",
      "5.152680281095608\n",
      "1.8473197189043917 12.15268028109561\n"
     ]
    }
   ],
   "source": [
    "conf = 0.95\n",
    "n = 35\n",
    "mean = 7\n",
    "stdev_sample = 15 # СКО выборки, в отличие от СКО ген. совокупности известно всегда\n",
    "\n",
    "df = n - 1 # степени свободы, здесь 35 - 1 = 34\n",
    "t = st.t.ppf((1 + conf)/2, df) # t-score для two-tailed test\n",
    "print(t)\n",
    "\n",
    "# погрешность\n",
    "E = t * stdev_sample / math.sqrt(n)\n",
    "print(E)\n",
    "\n",
    "# интервал\n",
    "print(mean - E, mean + E)"
   ]
  },
  {
   "cell_type": "code",
   "execution_count": null,
   "metadata": {},
   "outputs": [],
   "source": [
    "# интерпретация интервала аналогична\n",
    "# обратите внимание, t-distribution дает гораздо более широкий интервал (более консертавтивная оценка)\n",
    "# при аналогичных параметрах среднего, выборки и СКО (правда здесь для выборки, а не ген. совокупности)"
   ]
  },
  {
   "cell_type": "markdown",
   "metadata": {},
   "source": [
    "Доверительный интервал для пропорции."
   ]
  },
  {
   "cell_type": "code",
   "execution_count": 8,
   "metadata": {},
   "outputs": [
    {
     "name": "stdout",
     "output_type": "stream",
     "text": [
      "0.8229625467164996 0.8770374532835004\n"
     ]
    }
   ],
   "source": [
    "# вариант 1. Расчет руками\n",
    "successes = 85\n",
    "trials = 100\n",
    "\n",
    "p_hat = 85 / 100 # proprortion mean\n",
    "n = 670 # sample size\n",
    "\n",
    "conf = 0.95\n",
    "z = st.norm.ppf((1 + conf) / 2) # two-tailed z-score 1.96\n",
    "\n",
    "E = z * math.sqrt((p_hat * (1 - p_hat)) / n) # marfin of error, погрешность\n",
    "\n",
    "print(p_hat - E, p_hat + E)"
   ]
  },
  {
   "cell_type": "code",
   "execution_count": 17,
   "metadata": {},
   "outputs": [
    {
     "data": {
      "text/plain": [
       "(0.8229625467164996, 0.8770374532835004)"
      ]
     },
     "execution_count": 17,
     "metadata": {},
     "output_type": "execute_result"
    }
   ],
   "source": [
    "# вариант 2. Формула из коробки\n",
    "from statsmodels.stats.proportion import proportion_confint\n",
    "proportion_confint(670 * 0.85, 670)"
   ]
  },
  {
   "cell_type": "markdown",
   "metadata": {},
   "source": [
    "## Hypothesis testing (one sample)"
   ]
  },
  {
   "cell_type": "markdown",
   "metadata": {},
   "source": [
    "### Mean. Population standard deviation known. Z-test"
   ]
  },
  {
   "cell_type": "markdown",
   "metadata": {},
   "source": [
    "Тестирование гипотезы для среднего значения генеральной совокупности. СКО ген. совокупности известно. Ген. совокупность либо нормально распределена, либо выборка > 30."
   ]
  },
  {
   "cell_type": "markdown",
   "metadata": {},
   "source": [
    "Условие примера: считается, что средний возраст попугая 68 лет. Вы как исследователь с этим не согласны. Тогда:\n",
    "\n",
    "- Нулевая гипотеза: средний возраст попугая 68 лет\n",
    "- Альтернативная гипотеза: средний возраст попугая НЕ 68 лет (two-tailed test)\n",
    "\n",
    "При этом известен СКО ген. совокупности (на практике этот параметр никогда не бывает известен, поэтому используется t-test)."
   ]
  },
  {
   "cell_type": "code",
   "execution_count": 35,
   "metadata": {},
   "outputs": [
    {
     "name": "stdout",
     "output_type": "stream",
     "text": [
      "-1.005899756201694\n",
      "0.3144637935537208\n"
     ]
    }
   ],
   "source": [
    "# Вариант 1. Расчет вручную.\n",
    "\n",
    "alpha = 0.05 # уровень значимости, пороговое значение, задается исследователем\n",
    "conf = 1 - alpha # уровень доверия 0.95\n",
    "\n",
    "population_mean = 68\n",
    "population_sd = 13\n",
    "\n",
    "n = 19\n",
    "sample_mean = 65\n",
    "\n",
    "# critical regions criterion for 0.025 and 0.975\n",
    "# если z_calc будет < z_crit_lower и z_calc > z_crit_upper, нулевую гипотезу можно отвергнуть\n",
    "\n",
    "z_critical_lower = st.norm.ppf((1 - 0.95) / 2) # должно получиться -1.96\n",
    "z_crit_upper = st.norm.ppf((1 + 0.95) / 2) # должно получиться 1.96\n",
    "\n",
    "z_score =  (sample_mean - population_mean) / (population_sd / math.sqrt(n))\n",
    "print(z_score)\n",
    "\n",
    "p_value = 2 * st.norm.cdf(z_score) # в случае двустороннего теста z-score нужно умножить на 2 для получения p-value\n",
    "print(p_value) # вероятность получить среднее 65 при условии, что нулевая гипотеза верна"
   ]
  },
  {
   "cell_type": "code",
   "execution_count": 32,
   "metadata": {},
   "outputs": [],
   "source": [
    "# интерпретация результата\n",
    "# способ 1: так как -1.006 в пределах границ -1.96 и 1.96, то отвергнуться нулевую гипотезу мы не можем\n",
    "# способ 2: так как p-value > alpha, аналогичный вывод"
   ]
  },
  {
   "cell_type": "code",
   "execution_count": 33,
   "metadata": {},
   "outputs": [
    {
     "name": "stdout",
     "output_type": "stream",
     "text": [
      "[84.63215093 70.39581054 58.23910232 50.66408623 63.34727839 83.85106866\n",
      " 59.22781682 60.05499827 63.61058378 60.35889768 74.11603621 62.35292485\n",
      " 61.59836383 67.55513994 74.89254117 56.89876157 83.7565853  55.47046599\n",
      " 61.17762314]\n",
      "(-0.9084222671849591, 0.3636551655865079)\n"
     ]
    }
   ],
   "source": [
    "# Вариант 2. Решение из коробки\n",
    "\n",
    "# имитируем выборку, 19 единиц, среднее 65, СКО 13\n",
    "data = st.norm.rvs(loc=65,scale=13,size=19)\n",
    "print(data)\n",
    "\n",
    "from statsmodels.stats.weightstats import ztest\n",
    "res = ztest(data, value = 68, alternative = \"two-sided\") # alternative can also be \"smaller\" or \"larger\"\n",
    "print(res)"
   ]
  },
  {
   "cell_type": "code",
   "execution_count": null,
   "metadata": {},
   "outputs": [],
   "source": []
  },
  {
   "cell_type": "markdown",
   "metadata": {},
   "source": [
    "### Mean. Population standard deviation unknown. T-test"
   ]
  },
  {
   "cell_type": "markdown",
   "metadata": {},
   "source": [
    "Тестирование гипотезы для среднего значения генеральной совокупности. СКО ген. совокупности неизвестно. Ген. совокупность либо нормально распределена, либо выборка > 30."
   ]
  },
  {
   "cell_type": "markdown",
   "metadata": {},
   "source": [
    "Условие примера: считается, что высота растения составляет 15 дюймов. Вы как исследователь с этим не согласны. Тогда:\n",
    "\n",
    "- Нулевая гипотеза: средний высота растения 15 дюймов\n",
    "- Альтернативная гипотеза: средняя высота НЕ 15 дюймов (two-tailed test)\n",
    "\n",
    "При этом СКО ген. совокупности неизвестно"
   ]
  },
  {
   "cell_type": "code",
   "execution_count": 54,
   "metadata": {},
   "outputs": [
    {
     "name": "stdout",
     "output_type": "stream",
     "text": [
      "-2.200985160082949 2.200985160082949\n",
      "-1.7597653802562379\n",
      "0.10619043895728149\n"
     ]
    }
   ],
   "source": [
    "# Вариант 1. Расчет руками\n",
    "\n",
    "data = [14, 14, 16, 13, 12, 17, 15, 14, 15, 13, 15, 14]\n",
    "\n",
    "conf = 0.95\n",
    "alpha = 1 - conf\n",
    "\n",
    "population_mean = 15\n",
    "\n",
    "sample_stdev = np.std(data)\n",
    "sample_mean = sum(data) / len(data)\n",
    "\n",
    "n = len(data)\n",
    "df = n - 1\n",
    "\n",
    "t_critical_lower = st.t.ppf(((1 - conf) / 2), df)\n",
    "t_critical_upper = st.t.ppf(((1 + conf) / 2), df)\n",
    "print(t_critical_lower, t_critical_upper)\n",
    "\n",
    "t_score =  (sample_mean - population_mean) / (sample_stdev / math.sqrt(n))\n",
    "print(t_score)\n",
    "\n",
    "p_value = 2 * st.t.sf(-t_score, df)\n",
    "print(p_value) # почему корректный p-value появляется только, когда мы ставим \"-\" перед t-score?"
   ]
  },
  {
   "cell_type": "code",
   "execution_count": 43,
   "metadata": {},
   "outputs": [
    {
     "data": {
      "text/plain": [
       "Ttest_1sampResult(statistic=-1.6848470783484626, pvalue=0.12014460742498101)"
      ]
     },
     "execution_count": 43,
     "metadata": {},
     "output_type": "execute_result"
    }
   ],
   "source": [
    "# Вариант 2. Решение из коробки\n",
    "\n",
    "data = [14, 14, 16, 13, 12, 17, 15, 14, 15, 13, 15, 14]\n",
    "st.ttest_1samp(a = data, popmean = 15)"
   ]
  },
  {
   "cell_type": "code",
   "execution_count": 53,
   "metadata": {},
   "outputs": [],
   "source": [
    "# интерпретация результата\n",
    "# test statistic within the critical region boundaries, p-value > 0.05: fail to reject H[0]"
   ]
  },
  {
   "cell_type": "markdown",
   "metadata": {},
   "source": [
    "## Hypothesis testing (two samples)"
   ]
  },
  {
   "cell_type": "markdown",
   "metadata": {},
   "source": [
    "### T-test. Independent samples"
   ]
  },
  {
   "cell_type": "markdown",
   "metadata": {},
   "source": [
    "Ниже даны три варианта расчета: \n",
    "1. Расчет на основе данных\n",
    "1. Расчет на основе summary statistics\n",
    "1. Расчет руками"
   ]
  },
  {
   "cell_type": "code",
   "execution_count": 56,
   "metadata": {},
   "outputs": [
    {
     "name": "stdout",
     "output_type": "stream",
     "text": [
      "ttest_ind:            t = -1.5827  p = 0.118873\n",
      "ttest_ind_from_stats: t = -1.5827  p = 0.118873\n",
      "formula:              t = -1.5827  p = 0.118873\n"
     ]
    }
   ],
   "source": [
    "from __future__ import print_function\n",
    "\n",
    "import numpy as np\n",
    "from scipy.stats import ttest_ind, ttest_ind_from_stats\n",
    "from scipy.special import stdtr\n",
    "\n",
    "np.random.seed(1)\n",
    "\n",
    "# Create sample data.\n",
    "a = np.random.randn(40)\n",
    "b = 4*np.random.randn(50)\n",
    "\n",
    "# Use scipy.stats.ttest_ind.\n",
    "t, p = ttest_ind(a, b, equal_var=False)\n",
    "print(\"ttest_ind:            t = %g  p = %g\" % (t, p))\n",
    "\n",
    "# Compute the descriptive statistics of a and b.\n",
    "abar = a.mean()\n",
    "avar = a.var(ddof=1)\n",
    "na = a.size\n",
    "adof = na - 1\n",
    "\n",
    "bbar = b.mean()\n",
    "bvar = b.var(ddof=1)\n",
    "nb = b.size\n",
    "bdof = nb - 1\n",
    "\n",
    "# Use scipy.stats.ttest_ind_from_stats.\n",
    "t2, p2 = ttest_ind_from_stats(abar, np.sqrt(avar), na,\n",
    "                              bbar, np.sqrt(bvar), nb,\n",
    "                              equal_var=False)\n",
    "print(\"ttest_ind_from_stats: t = %g  p = %g\" % (t2, p2))\n",
    "\n",
    "# Use the formulas directly.\n",
    "tf = (abar - bbar) / np.sqrt(avar/na + bvar/nb) # t-score\n",
    "dof = (avar/na + bvar/nb)**2 / (avar**2/(na**2*adof) + bvar**2/(nb**2*bdof))\n",
    "pf = 2*stdtr(dof, -np.abs(tf)) # p-value (why minus?)\n",
    "\n",
    "print(\"formula:              t = %g  p = %g\" % (tf, pf))"
   ]
  },
  {
   "cell_type": "markdown",
   "metadata": {},
   "source": [
    "### T-test. Dependent samples\n",
    "Равна ли нулю средняя разница между двумя наборами наблюдений?"
   ]
  },
  {
   "cell_type": "code",
   "execution_count": 58,
   "metadata": {},
   "outputs": [
    {
     "data": {
      "text/html": [
       "<div>\n",
       "<style scoped>\n",
       "    .dataframe tbody tr th:only-of-type {\n",
       "        vertical-align: middle;\n",
       "    }\n",
       "\n",
       "    .dataframe tbody tr th {\n",
       "        vertical-align: top;\n",
       "    }\n",
       "\n",
       "    .dataframe thead th {\n",
       "        text-align: right;\n",
       "    }\n",
       "</style>\n",
       "<table border=\"1\" class=\"dataframe\">\n",
       "  <thead>\n",
       "    <tr style=\"text-align: right;\">\n",
       "      <th></th>\n",
       "      <th>weight_before</th>\n",
       "      <th>weight_after</th>\n",
       "      <th>weight_change</th>\n",
       "    </tr>\n",
       "  </thead>\n",
       "  <tbody>\n",
       "    <tr>\n",
       "      <th>count</th>\n",
       "      <td>100.000000</td>\n",
       "      <td>100.000000</td>\n",
       "      <td>100.000000</td>\n",
       "    </tr>\n",
       "    <tr>\n",
       "      <th>mean</th>\n",
       "      <td>250.345546</td>\n",
       "      <td>249.115171</td>\n",
       "      <td>-1.230375</td>\n",
       "    </tr>\n",
       "    <tr>\n",
       "      <th>std</th>\n",
       "      <td>28.132539</td>\n",
       "      <td>28.422183</td>\n",
       "      <td>4.783696</td>\n",
       "    </tr>\n",
       "    <tr>\n",
       "      <th>min</th>\n",
       "      <td>170.400443</td>\n",
       "      <td>165.913930</td>\n",
       "      <td>-11.495286</td>\n",
       "    </tr>\n",
       "    <tr>\n",
       "      <th>25%</th>\n",
       "      <td>230.421042</td>\n",
       "      <td>229.148236</td>\n",
       "      <td>-4.046211</td>\n",
       "    </tr>\n",
       "    <tr>\n",
       "      <th>50%</th>\n",
       "      <td>250.830805</td>\n",
       "      <td>251.134089</td>\n",
       "      <td>-1.413463</td>\n",
       "    </tr>\n",
       "    <tr>\n",
       "      <th>75%</th>\n",
       "      <td>270.637145</td>\n",
       "      <td>268.927258</td>\n",
       "      <td>1.738673</td>\n",
       "    </tr>\n",
       "    <tr>\n",
       "      <th>max</th>\n",
       "      <td>314.700233</td>\n",
       "      <td>316.720357</td>\n",
       "      <td>9.759282</td>\n",
       "    </tr>\n",
       "  </tbody>\n",
       "</table>\n",
       "</div>"
      ],
      "text/plain": [
       "       weight_before  weight_after  weight_change\n",
       "count     100.000000    100.000000     100.000000\n",
       "mean      250.345546    249.115171      -1.230375\n",
       "std        28.132539     28.422183       4.783696\n",
       "min       170.400443    165.913930     -11.495286\n",
       "25%       230.421042    229.148236      -4.046211\n",
       "50%       250.830805    251.134089      -1.413463\n",
       "75%       270.637145    268.927258       1.738673\n",
       "max       314.700233    316.720357       9.759282"
      ]
     },
     "execution_count": 58,
     "metadata": {},
     "output_type": "execute_result"
    }
   ],
   "source": [
    "np.random.seed(11)\n",
    "before=st.norm.rvs(scale=30,loc=250,size=100)\n",
    "after=before+st.norm.rvs(scale=5,loc=-1.25,size=100)\n",
    "weight_df=pd.DataFrame({\"weight_before\":before,\n",
    "                         \"weight_after\":after,\n",
    "                         \"weight_change\":after-before})\n",
    "weight_df.describe()"
   ]
  },
  {
   "cell_type": "code",
   "execution_count": 60,
   "metadata": {},
   "outputs": [
    {
     "data": {
      "text/plain": [
       "Ttest_relResult(statistic=2.5720175998568284, pvalue=0.011596444318439857)"
      ]
     },
     "execution_count": 60,
     "metadata": {},
     "output_type": "execute_result"
    }
   ],
   "source": [
    "st.ttest_rel(a=before,b=after)\n",
    "# Итак, мы видим, что у нас есть только 1% шансов найти такие огромные различия между образцами."
   ]
  },
  {
   "cell_type": "code",
   "execution_count": null,
   "metadata": {},
   "outputs": [],
   "source": []
  }
 ],
 "metadata": {
  "kernelspec": {
   "display_name": "Python 3",
   "language": "python",
   "name": "python3"
  },
  "language_info": {
   "codemirror_mode": {
    "name": "ipython",
    "version": 3
   },
   "file_extension": ".py",
   "mimetype": "text/x-python",
   "name": "python",
   "nbconvert_exporter": "python",
   "pygments_lexer": "ipython3",
   "version": "3.8.3"
  }
 },
 "nbformat": 4,
 "nbformat_minor": 4
}
