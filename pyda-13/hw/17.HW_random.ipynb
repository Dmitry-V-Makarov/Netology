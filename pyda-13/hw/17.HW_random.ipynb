{
 "cells": [
  {
   "cell_type": "markdown",
   "metadata": {},
   "source": [
    "## Домашнее задание к лекции «Случайные события. Случайные величины»"
   ]
  },
  {
   "cell_type": "code",
   "execution_count": 1,
   "metadata": {},
   "outputs": [],
   "source": [
    "import numpy as np"
   ]
  },
  {
   "cell_type": "markdown",
   "metadata": {},
   "source": [
    "Simulation"
   ]
  },
  {
   "cell_type": "code",
   "execution_count": 4,
   "metadata": {},
   "outputs": [
    {
     "name": "stdout",
     "output_type": "stream",
     "text": [
      "-71549\n",
      "-7.1549000000000005\n"
     ]
    }
   ],
   "source": [
    "# np.random.seed(42)\n",
    "\n",
    "trials = 1000000\n",
    "balance = 0\n",
    "\n",
    "for i in range(trials):\n",
    "    n = str(np.random.randint(0, 1000))\n",
    "    if n == '777':\n",
    "        balance += 200\n",
    "    elif n == '999':\n",
    "        balance += 100\n",
    "    elif n == '555':\n",
    "        balance += 50\n",
    "    elif n == '333':\n",
    "        balance += 15\n",
    "    elif n == '111':\n",
    "        balance += 10\n",
    "    elif len(n) == 3 and n[-2:] == '77':\n",
    "        balance += 5\n",
    "    elif len(n) == 3 and n[-1] == '7':\n",
    "        balance += 3\n",
    "    elif len(n) == 3 and n[-2:] == '00':\n",
    "        balance += 2\n",
    "    elif len(n) == 3 and n[-1] == '0':\n",
    "        balance += 1\n",
    "    else:\n",
    "        balance -= 1\n",
    "\n",
    "# баланс после 1 000 000 попыток\n",
    "print(balance)\n",
    "\n",
    "# эмпирическая вероятность\n",
    "print(balance / trials * 100)"
   ]
  },
  {
   "cell_type": "markdown",
   "metadata": {},
   "source": [
    "Theoretical probability"
   ]
  },
  {
   "cell_type": "code",
   "execution_count": 11,
   "metadata": {},
   "outputs": [
    {
     "name": "stdout",
     "output_type": "stream",
     "text": [
      "0.40000000000000036\n"
     ]
    }
   ],
   "source": [
    "probs = np.array([0.001, 0.001, 0.001, 0.001, 0.001, 0.009, 0.09, 0.01, 0.09])\n",
    "gains = np.array([200, 100, 50, 15, 10, 5, 3, 2, 1])\n",
    "\n",
    "exp_gain = np.sum(probs * gains)\n",
    "exp_loss = (1 - np.sum(probs)) * (-1)\n",
    "\n",
    "# expected value after 1,000,000 rounds\n",
    "print((exp_gain + exp_loss) * 100)"
   ]
  },
  {
   "cell_type": "markdown",
   "metadata": {},
   "source": [
    "### Correct solution:"
   ]
  },
  {
   "cell_type": "code",
   "execution_count": 25,
   "metadata": {},
   "outputs": [
    {
     "name": "stdout",
     "output_type": "stream",
     "text": [
      "-20754\n"
     ]
    }
   ],
   "source": [
    "trials = 10000000\n",
    "gains = 0\n",
    "\n",
    "for i in range(trials):\n",
    "    x = np.random.randint(0, 1000)\n",
    "    if x == 777:\n",
    "        gains += 200\n",
    "    elif x == 999:\n",
    "        gains += 100\n",
    "    elif x == 555:\n",
    "        gains += 50\n",
    "    elif x == 333:\n",
    "        gains += 15\n",
    "    elif x == 111:\n",
    "        gains += 10\n",
    "    elif x % 100 == 77:\n",
    "        gains += 5\n",
    "    elif x % 10 == 7:\n",
    "        gains += 3\n",
    "    elif x % 100 == 0:\n",
    "        gains += 2\n",
    "    elif x % 10 == 0:\n",
    "        gains += 1\n",
    "    else:\n",
    "        gains -= 1\n",
    "        \n",
    "print(gains)"
   ]
  },
  {
   "cell_type": "code",
   "execution_count": 27,
   "metadata": {},
   "outputs": [
    {
     "name": "stdout",
     "output_type": "stream",
     "text": [
      "7.000000000000006\n"
     ]
    }
   ],
   "source": [
    "probs = np.array([0.001, 0.001, 0.001, 0.001, 0.001, 0.01, 0.1, 0.01, 0.1])\n",
    "gains = np.array([200, 100, 50, 15, 10, 5, 3, 2, 1])\n",
    "\n",
    "exp_gain = np.sum(probs * gains)\n",
    "exp_loss = (1 - np.sum(probs)) * (-1)\n",
    "\n",
    "print((exp_gain + exp_loss) * 100)"
   ]
  },
  {
   "cell_type": "code",
   "execution_count": null,
   "metadata": {},
   "outputs": [],
   "source": []
  }
 ],
 "metadata": {
  "kernelspec": {
   "display_name": "Python 3",
   "language": "python",
   "name": "python3"
  },
  "language_info": {
   "codemirror_mode": {
    "name": "ipython",
    "version": 3
   },
   "file_extension": ".py",
   "mimetype": "text/x-python",
   "name": "python",
   "nbconvert_exporter": "python",
   "pygments_lexer": "ipython3",
   "version": "3.8.3"
  }
 },
 "nbformat": 4,
 "nbformat_minor": 4
}
