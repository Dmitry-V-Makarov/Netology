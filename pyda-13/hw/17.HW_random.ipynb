{
 "cells": [
  {
   "cell_type": "markdown",
   "metadata": {},
   "source": [
    "## Домашнее задание к лекции «Случайные события. Случайные величины»"
   ]
  },
  {
   "cell_type": "code",
   "execution_count": 4,
   "metadata": {},
   "outputs": [],
   "source": [
    "import numpy as np"
   ]
  },
  {
   "cell_type": "code",
   "execution_count": 27,
   "metadata": {},
   "outputs": [
    {
     "name": "stdout",
     "output_type": "stream",
     "text": [
      "807727\n",
      "0.807727\n"
     ]
    }
   ],
   "source": [
    "trials = 1000000\n",
    "gains = 0\n",
    "\n",
    "for i in range(trials):\n",
    "    x = np.random.randint(0, 1000)\n",
    "    if x == 777:\n",
    "        gains += 200\n",
    "    elif x == 999:\n",
    "        gains += 100\n",
    "    elif x == 555:\n",
    "        gains += 50\n",
    "    elif x == 333:\n",
    "        gains += 15\n",
    "    elif x == 111:\n",
    "        gains += 10\n",
    "    elif x % 100 == 77:\n",
    "        gains += 5\n",
    "    elif x % 10 == 7:\n",
    "        gains += 3\n",
    "    elif x % 100 == 0:\n",
    "        gains += 2\n",
    "    elif x % 10 == 0:\n",
    "        gains += 1\n",
    "        \n",
    "print(gains)\n",
    "print(gains / trials) # loss if less than 1"
   ]
  },
  {
   "cell_type": "code",
   "execution_count": 35,
   "metadata": {},
   "outputs": [
    {
     "name": "stdout",
     "output_type": "stream",
     "text": [
      "-0.03199999999999992\n"
     ]
    }
   ],
   "source": [
    "probs = np.array([0.001, 0.001, 0.001, 0.001, 0.001, 0.009, 0.081, 0.01, 0.09])\n",
    "gains = np.array([200, 100, 50, 15, 10, 5, 3, 2, 1])\n",
    "\n",
    "exp_gain = np.sum(probs * gains) # сумма произведений вероятнотстей выигрыша * размер выигрыша\n",
    "exp_loss = (1 - np.sum(probs)) * (-1) # вероятность проигрыша (1 - вероятность выигрыша) * размер проигрыша\n",
    "exp_value = (exp_gain + exp_loss)\n",
    "\n",
    "print(exp_value)"
   ]
  }
 ],
 "metadata": {
  "kernelspec": {
   "display_name": "Python 3",
   "language": "python",
   "name": "python3"
  },
  "language_info": {
   "codemirror_mode": {
    "name": "ipython",
    "version": 3
   },
   "file_extension": ".py",
   "mimetype": "text/x-python",
   "name": "python",
   "nbconvert_exporter": "python",
   "pygments_lexer": "ipython3",
   "version": "3.8.3"
  }
 },
 "nbformat": 4,
 "nbformat_minor": 4
}
