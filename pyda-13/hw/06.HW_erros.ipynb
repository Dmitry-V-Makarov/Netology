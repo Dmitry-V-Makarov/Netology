{
 "cells": [
  {
   "cell_type": "markdown",
   "metadata": {},
   "source": [
    "# Домашнее задание к лекции «Исключения и обработка ошибок»"
   ]
  },
  {
   "cell_type": "markdown",
   "metadata": {},
   "source": [
    "## Задание 1"
   ]
  },
  {
   "cell_type": "code",
   "execution_count": 3,
   "metadata": {},
   "outputs": [
    {
     "name": "stdout",
     "output_type": "stream",
     "text": [
      "2002-10-02 00:00:00\n",
      "2013-10-11 00:00:00\n",
      "1977-08-18 00:00:00\n"
     ]
    }
   ],
   "source": [
    "from datetime import datetime\n",
    "from datetime import timedelta\n",
    "\n",
    "# The Moscow Times - Wednesday, October 2, 2002\n",
    "moscow = 'Wednesday, October 2, 2002'\n",
    "\n",
    "moscow_dt = datetime.strptime(moscow, '%A, %B %d, %Y')\n",
    "\n",
    "print(moscow_dt)\n",
    "# moscow_dt.weekday()\n",
    "\n",
    "\n",
    "# The Guardian - Friday, 11.10.13\n",
    "guardian = 'Friday, 11.10.13'\n",
    "\n",
    "guardian_dt = datetime.strptime(guardian, '%A, %d.%m.%y')\n",
    "\n",
    "print(guardian_dt)\n",
    "# guardian_dt.weekday()\n",
    "\n",
    "\n",
    "# Daily News - Thursday, 18 August 1977\n",
    "daily = 'Thursday, 18 August 1977'\n",
    "daily_dt = datetime.strptime(daily, '%A, %d %B %Y')\n",
    "\n",
    "print(daily_dt)\n",
    "# daily_dt.weekday()"
   ]
  },
  {
   "cell_type": "markdown",
   "metadata": {},
   "source": [
    "## Задание 2"
   ]
  },
  {
   "cell_type": "code",
   "execution_count": 4,
   "metadata": {},
   "outputs": [
    {
     "name": "stdout",
     "output_type": "stream",
     "text": [
      "True\n",
      "False\n",
      "False\n"
     ]
    }
   ],
   "source": [
    "stream = ['2018-04-02', '2018-02-29', '2018-19-02']\n",
    "\n",
    "def check(dates):\n",
    "\n",
    "    for date in dates:\n",
    "\n",
    "        try:\n",
    "            date_dt = datetime.strptime(date, '%Y-%m-%d')\n",
    "            correctDate = True\n",
    "\n",
    "        except ValueError:\n",
    "            correctDate = False\n",
    "\n",
    "        print(str(correctDate))\n",
    "\n",
    "check(stream)\n",
    "    "
   ]
  },
  {
   "cell_type": "markdown",
   "metadata": {},
   "source": [
    "## Задание 3"
   ]
  },
  {
   "cell_type": "code",
   "execution_count": 5,
   "metadata": {},
   "outputs": [
    {
     "name": "stdout",
     "output_type": "stream",
     "text": [
      "Enter Start date: лл\n",
      "Enter End Date: лл\n",
      "Format error. Should be YYYY-MM-DD\n"
     ]
    },
    {
     "data": {
      "text/plain": [
       "[]"
      ]
     },
     "execution_count": 5,
     "metadata": {},
     "output_type": "execute_result"
    }
   ],
   "source": [
    "def date_range():\n",
    "    \n",
    "    dates = []\n",
    "    \n",
    "    start_date = input('Enter Start date: ')\n",
    "    end_date = input('Enter End Date: ')\n",
    "    \n",
    "    try:\n",
    "        start_date_dt = datetime.strptime(start_date, '%Y-%m-%d')\n",
    "        end_date_dt = datetime.strptime(end_date, '%Y-%m-%d')\n",
    "\n",
    "        if start_date_dt > end_date_dt:\n",
    "            print('Validation error. Start date is greater than the End date.')\n",
    "        \n",
    "        while start_date_dt <= end_date_dt:\n",
    "            dates.append(start_date_dt.strftime('%Y-%m-%d'))\n",
    "            start_date_dt += timedelta(days = 1)\n",
    "        \n",
    "        return dates\n",
    "\n",
    "    except:\n",
    "        print('Format error. Should be YYYY-MM-DD')\n",
    "        return dates\n",
    "        \n",
    "\n",
    "date_range()"
   ]
  },
  {
   "cell_type": "markdown",
   "metadata": {},
   "source": [
    "## Задание 4"
   ]
  },
  {
   "cell_type": "code",
   "execution_count": 25,
   "metadata": {},
   "outputs": [
    {
     "name": "stdout",
     "output_type": "stream",
     "text": [
      "['A100', 'A101']\n"
     ]
    },
    {
     "data": {
      "text/plain": [
       "'A101'"
      ]
     },
     "execution_count": 25,
     "metadata": {},
     "output_type": "execute_result"
    }
   ],
   "source": [
    "DEFAULT_USER_COUNT = 3\n",
    "\n",
    "def delete_and_return_last_user(region, default_list=['A100', 'A101', 'A102']):\n",
    "    \n",
    "    \"\"\"\n",
    "    Удаляет из списка default_list последнего пользователя\n",
    "    и возвращает ID нового последнего пользователя.\n",
    "    \"\"\"\n",
    "\n",
    "    element_to_delete = default_list[-1]\n",
    "    default_list.remove(element_to_delete)\n",
    "    \n",
    "    print(default_list)\n",
    "\n",
    "    return default_list[DEFAULT_USER_COUNT-2]\n",
    "\n",
    "delete_and_return_last_user(1)\n",
    "\n",
    "\n",
    "# 1. list index out of range означает, что такого индекса не существует. По мере сокращения списка\n",
    "# количество индексов уменьшается.\n",
    "# 2. При первом вызове в списке было 3 элемента, их количество сократилось до 2-х [0, 1], соответственно\n",
    "# функция вернула значение DEFAULT_USER_COUNT - 2 или 3 - 2 = 1, второй элемент списка. При повторном\n",
    "# вызове функции в списке остался уже один элемент и вызов второго элемента по индексу 1 стал\n",
    "# невозможен.\n",
    "\n",
    "# Вопрос 1:\n",
    "\n",
    "# Не показывает ошибку list index out of range, просто сокращает списко на один и дальне не идет?\n",
    "# возможно проблема с областью видимости переменной\n",
    "\n",
    "# Вопрос 2 (код ниже):\n",
    "\n",
    "# Почему не получается исправить код так, чтобы он работал? Очевидно, проблема с областью видимости\n",
    "# переменной default_list, после первого вызова функции список глобально не сокращается,\n",
    "# но не могу понять, что именно не работает.\n",
    "\n",
    "# Очень странное случайно обрануженное решение, объявить default_list перед вызовом функции, а потом \n",
    "# после первого вызова функции, закомментировать default_list. Также не понимаю почему это работает.\n",
    "\n",
    "# Заранее спасибо!\n"
   ]
  },
  {
   "cell_type": "code",
   "execution_count": 27,
   "metadata": {},
   "outputs": [
    {
     "name": "stdout",
     "output_type": "stream",
     "text": [
      "Список пуст\n"
     ]
    }
   ],
   "source": [
    "# default_list=['A100', 'A101', 'A102']\n",
    "\n",
    "def delete_and_return_last_user(default_list=['A100', 'A101', 'A102']):\n",
    "    \n",
    "    \"\"\"\n",
    "    Удаляет из списка default_list последнего пользователя\n",
    "    и возвращает ID нового последнего пользователя.\n",
    "    \"\"\"\n",
    "    try:\n",
    "        element_to_delete = default_list[-1]\n",
    "        default_list.remove(element_to_delete)\n",
    "\n",
    "        return default_list[-1]\n",
    "    \n",
    "    except IndexError:\n",
    "        print('Список пуст')\n",
    "\n",
    "delete_and_return_last_user(default_list)"
   ]
  },
  {
   "cell_type": "code",
   "execution_count": 32,
   "metadata": {},
   "outputs": [
    {
     "data": {
      "text/plain": [
       "'A101'"
      ]
     },
     "execution_count": 32,
     "metadata": {},
     "output_type": "execute_result"
    }
   ],
   "source": [
    "# не следует использовать списки в качестве значений функции по умолчанию!\n",
    "\n",
    "# рабочий вариант\n",
    "def delete_and_return_last_user(default_list):\n",
    "    \n",
    "    try:\n",
    "        element_to_delete = default_list[-1]\n",
    "        default_list.remove(element_to_delete)\n",
    "\n",
    "        return default_list[-1]\n",
    "    \n",
    "    except IndexError:\n",
    "        print('Список пуст')\n",
    "\n",
    "default_list=['A100', 'A101', 'A102']\n",
    "\n",
    "delete_and_return_last_user(default_list)"
   ]
  },
  {
   "cell_type": "code",
   "execution_count": null,
   "metadata": {},
   "outputs": [],
   "source": []
  }
 ],
 "metadata": {
  "kernelspec": {
   "display_name": "Python 3",
   "language": "python",
   "name": "python3"
  },
  "language_info": {
   "codemirror_mode": {
    "name": "ipython",
    "version": 3
   },
   "file_extension": ".py",
   "mimetype": "text/x-python",
   "name": "python",
   "nbconvert_exporter": "python",
   "pygments_lexer": "ipython3",
   "version": "3.7.6"
  }
 },
 "nbformat": 4,
 "nbformat_minor": 4
}
