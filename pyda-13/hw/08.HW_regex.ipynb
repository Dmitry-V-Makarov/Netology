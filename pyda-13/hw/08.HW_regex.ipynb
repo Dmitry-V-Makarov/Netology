{
 "cells": [
  {
   "cell_type": "markdown",
   "metadata": {},
   "source": [
    "# Домашнее задание к лекции \"Регулярные выражения\"\n",
    "\n",
    "Внимание! При реализации всех заданий необходимо использовать именно функционал регулярных выражений для обработки текста."
   ]
  },
  {
   "cell_type": "code",
   "execution_count": 2,
   "metadata": {},
   "outputs": [],
   "source": [
    "import re"
   ]
  },
  {
   "cell_type": "markdown",
   "metadata": {},
   "source": [
    "## Задание 1\n",
    "\n",
    "Напишите функцию, которая принимает на вход строку и проверяет является ли она валидным транспортным номером (1 буква, 3 цифры, 2 буквы, 2-3 цифры). Обратите внимание, что не все буквы кириллического алфавита используются в транспортных номерах.\n",
    "\n",
    "Если номер валиден, то функция должна возвращать отдельно номер и регион.\n",
    "\n",
    "Примеры работы программы:  \n",
    "\n",
    "1. `car_id = 'АВ222С96'`\n",
    "\n",
    "Результат: \n",
    "`Номер АВ222С валиден. Регион: 96`\n",
    "\n",
    "2. `car_id = 'АБ22ВВ193'`\n",
    "\n",
    "Результат: \n",
    "`Номер не валиден`"
   ]
  },
  {
   "cell_type": "code",
   "execution_count": 9,
   "metadata": {},
   "outputs": [
    {
     "name": "stdout",
     "output_type": "stream",
     "text": [
      "Введите номер автомобиля: А222МР96\n"
     ]
    },
    {
     "data": {
      "text/plain": [
       "'Номер А222МР валиден. Регион: 96'"
      ]
     },
     "execution_count": 9,
     "metadata": {},
     "output_type": "execute_result"
    }
   ],
   "source": [
    "# Паттерны для проверки\n",
    "\n",
    "## А222МР96\n",
    "## О033УХ177\n",
    "\n",
    "## АВ222С17\n",
    "## АБ22ВВ193\n",
    "## Ё203МР96\n",
    "\n",
    "\n",
    "# Используемые символы\n",
    "## АВЕКМНОРСТУХ\n",
    "def plate_check():\n",
    "\n",
    "    inp = input('Введите номер автомобиля: ')\n",
    "    pattern = r'([АВЕКМНОРСТУХ]{1}\\d{3}[АВЕКМНОРСТУХ]{2})(\\d{2,3})'\n",
    "\n",
    "    if re.search(pattern, inp):\n",
    "        # return f'Номер {inp[:6]} валиден. Регион: {inp[6:]}'\n",
    "        res = re.search(pattern, inp)\n",
    "        return f'Номер {res.group(1)} валиден. Регион: {res.group(2)}'\n",
    "    else:\n",
    "        return 'Номер не валиден'\n",
    "\n",
    "plate_check()"
   ]
  },
  {
   "cell_type": "markdown",
   "metadata": {},
   "source": [
    "## Задание 2\n",
    "\n",
    "Напишите функцию, которая будет удалять все последовательные повторы слов из заданной строки при помощи регулярных выражений.\n",
    "\n",
    "Пример работы программы:  \n",
    "\n",
    "`some_string = 'Напишите функцию функцию, которая будет будет будет будет удалять все все все все последовательные повторы слов из из из из заданной строки строки при помощи регулярных выражений'`\n",
    "\n",
    "Результат: \n",
    "`Напишите функцию, которая будет удалять все последовательные повторы слов из заданной строки при помощи регулярных выражений.`"
   ]
  },
  {
   "cell_type": "code",
   "execution_count": 4,
   "metadata": {},
   "outputs": [
    {
     "data": {
      "text/plain": [
       "'Напишите функцию, которая будет удалять все последовательные повторы слов из заданной строки при помощи регулярных выражений'"
      ]
     },
     "execution_count": 4,
     "metadata": {},
     "output_type": "execute_result"
    }
   ],
   "source": [
    "some_string = 'Напишите функцию функцию, которая будет будет будет будет удалять все все все все последовательные повторы слов из из из из заданной строки строки при помощи регулярных выражений'\n",
    "\n",
    "def remove_duplicates(text):\n",
    "    return re.sub(r'\\b(\\w+)( \\1\\b)+', r'\\1', text)\n",
    "\n",
    "remove_duplicates(some_string)\n",
    "\n",
    "# вы по-сути выделяете в отдельную группу слово, ищете любое количество повторов \n",
    "# (\\1 это обращение к группе, которая является самим словом) \n",
    "# и заменяете на одно вхождение этого слова"
   ]
  },
  {
   "cell_type": "markdown",
   "metadata": {},
   "source": [
    "## Задание 3\n",
    "\n",
    "Напишите функцию, которая будет возвращать акроним по переданной в нее строке со словами.\n",
    "\n",
    "Примеры работы программы:  \n",
    "\n",
    "1. `some_words = 'Информационные технологии'`\n",
    "\n",
    "Результат: \n",
    "`ИТ`\n",
    "\n",
    "2. `some_words = 'Near Field Communication'`\n",
    "\n",
    "Результат: \n",
    "`NFC`"
   ]
  },
  {
   "cell_type": "code",
   "execution_count": 6,
   "metadata": {},
   "outputs": [
    {
     "data": {
      "text/plain": [
       "'NFC'"
      ]
     },
     "execution_count": 6,
     "metadata": {},
     "output_type": "execute_result"
    }
   ],
   "source": [
    "# some_words = 'Информационные технологии'\n",
    "some_words = 'Near Field Communication'\n",
    "\n",
    "def acronym(text):\n",
    "    text = some_words.split(' ')\n",
    "    list_ = []\n",
    "\n",
    "    for word in text:\n",
    "        letter = re.match(r'^[а-яёА-ЯЁa-zA-Z]', word)\n",
    "        list_.append(letter.group().capitalize())\n",
    "\n",
    "    res = ''.join(list_)\n",
    "    return res\n",
    "\n",
    "acronym(some_words)"
   ]
  },
  {
   "cell_type": "code",
   "execution_count": 7,
   "metadata": {},
   "outputs": [
    {
     "data": {
      "text/plain": [
       "'NFC'"
      ]
     },
     "execution_count": 7,
     "metadata": {},
     "output_type": "execute_result"
    }
   ],
   "source": [
    "def get_acronym(some_words):\n",
    "    return re.sub(r'(\\w)\\w+(\\s|$)', r'\\1', some_words).upper()\n",
    "\n",
    "get_acronym(some_words)\n",
    "\n",
    "# ищем букву (и выделяем в группу), после которой идет любое количество букв, заканчивающееся пробелом или концом строки"
   ]
  },
  {
   "cell_type": "markdown",
   "metadata": {},
   "source": [
    "## Задание 4\n",
    "\n",
    "Напишите функцию, которая будет принимать на вход список email-адресов и выводить их распределение по доменным зонам.\n",
    "\n",
    "Пример работы программы:  \n",
    "\n",
    "`emails = ['test@gmail.com, xyz@test.in, test@ya.ru, xyz@mail.ru, xyz@ya.ru', xyz@gmail.com]`\n",
    "\n",
    "Результат: \n",
    "```\n",
    "gmail.com: 2\n",
    "test.in: 1 \n",
    "ya.ru: 2 \n",
    "mail.ru: 1\n",
    "```"
   ]
  },
  {
   "cell_type": "code",
   "execution_count": 229,
   "metadata": {},
   "outputs": [
    {
     "name": "stdout",
     "output_type": "stream",
     "text": [
      "gmail.com: 2\n",
      "test.in: 1\n",
      "ya.ru: 2\n",
      "mail.ru: 1\n"
     ]
    }
   ],
   "source": [
    "emails = ['test@gmail.com', 'xyz@test.in', 'test@ya.ru', 'xyz@mail.ru', 'xyz@ya.ru', 'xyz@gmail.com']\n",
    "\n",
    "def domain_count(emails):\n",
    "    domains = []\n",
    "    counts = {}\n",
    "\n",
    "\n",
    "    for email in emails:\n",
    "        domain = re.search(r'@([a-zA-Z0-9]*.[a-zA-Z]*)', email)\n",
    "        domains.append(domain.group()[1:])\n",
    "#         почему @ включен в результат шаблона?\n",
    "#         search всегда ищет весь шаблон (и из него при помощи метода group можно доставать нужные части). \n",
    "#         это findall будет искать только то, что в скобочных группах\n",
    "\n",
    "    for item in domains:\n",
    "        counts[item] = counts.get(item, 0) + 1\n",
    "\n",
    "    for k,v in counts.items():\n",
    "        print(k + ': ' + str(v))\n",
    "\n",
    "domain_count(emails)\n",
    "    "
   ]
  },
  {
   "cell_type": "markdown",
   "metadata": {},
   "source": [
    "## Задание 5 (необязательное)\n",
    "\n",
    "Напишите функцию, которая будет подсчитывать сколько слов начинается на гласные, а сколько на согласные буквы в тексте (текст может быть написан как с использованием букв кириллицы, так и латиницы).\n",
    "\n",
    "Пример работы программы:  \n",
    "\n",
    "`some_text = 'Эталонной реализацией Python является интерпретатор CPython, поддерживающий большинство активно используемых платформ. Он распространяется под свободной лицензией Python Software Foundation License, позволяющей использовать его без ограничений в любых приложениях, включая проприетарные.'`\n",
    "\n",
    "Результат: \n",
    "```\n",
    "Слов на гласные буквы: 9\n",
    "Слов на согласные буквы: 21 \n",
    "```"
   ]
  },
  {
   "cell_type": "code",
   "execution_count": 230,
   "metadata": {},
   "outputs": [],
   "source": [
    "some_text = 'Эталонной реализацией Python является интерпретатор CPython, поддерживающий большинство активно используемых платформ. Он распространяется под свободной лицензией Python Software Foundation License, позволяющей использовать его без ограничений в любых приложениях, включая проприетарные.'"
   ]
  },
  {
   "cell_type": "code",
   "execution_count": 231,
   "metadata": {},
   "outputs": [
    {
     "data": {
      "text/plain": [
       "'Слова на гласные буквы: 9, на согласные буквы: 21'"
      ]
     },
     "execution_count": 231,
     "metadata": {},
     "output_type": "execute_result"
    }
   ],
   "source": [
    "def VC_counter(text):\n",
    "    \n",
    "    text = re.findall(r'\\w+', text)\n",
    "\n",
    "    vowels = 0\n",
    "    consonants = 0\n",
    "\n",
    "    pattern = '^[aeiouAEIOUаяоеуюыиэеАЯОЕУЮЫИЭЕ][A-Za-zА-Яа-я0-9]*'\n",
    "\n",
    "    for word in text:\n",
    "        if re.search(pattern, word):  \n",
    "            vowels += 1\n",
    "        else:  \n",
    "            consonants += 1\n",
    "\n",
    "    return f'Слова на гласные буквы: {vowels}, на согласные буквы: {consonants}'\n",
    "\n",
    "VC_counter(some_text)"
   ]
  },
  {
   "cell_type": "markdown",
   "metadata": {},
   "source": [
    "## Задание 6 (необязательное)\n",
    "Напишите функцию, которая будет проверять номер сотового телефона на валидность, если он валиден, то переводить его в формат:   \n",
    "+7-xxx-xxx-xx-xx  \n",
    "Постарайтесь предусмотреть как можно больше адекватных форматов изначального ввода номера.\n",
    "Примеры работы программы:  \n",
    "\n",
    "1. `phone = '+7 955 555-55-55'`\n",
    "\n",
    "Результат: \n",
    "`+7-950-555-55-55`\n",
    "\n",
    "2. `phone = '8(955)555-55-55'`\n",
    "\n",
    "Результат: \n",
    "`+7-950-555-55-55`\n",
    "\n",
    "3. `phone = '+7 955 555 55 55'`\n",
    "\n",
    "Результат: \n",
    "`+7-950-555-55-55`\n",
    "\n",
    "4. `phone = '7(955) 555-55-55'`\n",
    "\n",
    "Результат: \n",
    "`+7-950-555-55-55`\n",
    "\n",
    "5. `phone = '423-555-55-5555'`\n",
    "\n",
    "Результат: \n",
    "`Номер не валиден`\n",
    "\n",
    "6. `phone = '123-456-789'`\n",
    "\n",
    "Результат: \n",
    "`Номер не валиден`"
   ]
  },
  {
   "cell_type": "code",
   "execution_count": 232,
   "metadata": {},
   "outputs": [],
   "source": [
    "validation_list = ['+79035555551',\n",
    "                 '89035555552', \n",
    "                 '79035555553',\n",
    "                 '+7 903 555 55 54',\n",
    "                 '8(903)555-55-55',\n",
    "                 '9035555556',\n",
    "                 '79035555557',\n",
    "                 '(495)5555558',\n",
    "                 '(495) 555 55 59',\n",
    "                 '89035555560',\n",
    "                 '8-903-555-55-61',\n",
    "                 '8 903 5555 562',\n",
    "                 '8 903 55 55 563',\n",
    "                 '8 903 55 555 64',\n",
    "                 '8 903 555 5 565',\n",
    "                 '+7 955 555-55-66',\n",
    "                   # invalid numbers\n",
    "                 '123-45-67',\n",
    "                 '123-456-789',\n",
    "                 '603 123-456-789',\n",
    "                 '423-555-55-5555'\n",
    "                ]"
   ]
  },
  {
   "cell_type": "code",
   "execution_count": 237,
   "metadata": {},
   "outputs": [
    {
     "name": "stdout",
     "output_type": "stream",
     "text": [
      "+7-903-555-55-51\n",
      "Valid\n",
      "\n",
      "+7-903-555-55-52\n",
      "Valid\n",
      "\n",
      "+7-903-555-55-53\n",
      "Valid\n",
      "\n",
      "+7-903-555-55-54\n",
      "Valid\n",
      "\n",
      "+7-903-555-55-55\n",
      "Valid\n",
      "\n",
      "+7-903-555-55-56\n",
      "Valid\n",
      "\n",
      "+7-903-555-55-57\n",
      "Valid\n",
      "\n",
      "+7-495-555-55-58\n",
      "Valid\n",
      "\n",
      "+7-495-555-55-59\n",
      "Valid\n",
      "\n",
      "+7-903-555-55-60\n",
      "Valid\n",
      "\n",
      "+7-903-555-55-61\n",
      "Valid\n",
      "\n",
      "+7-903-555-55-62\n",
      "Valid\n",
      "\n",
      "+7-903-555-55-63\n",
      "Valid\n",
      "\n",
      "+7-903-555-55-64\n",
      "Valid\n",
      "\n",
      "+7-903-555-55-65\n",
      "Valid\n",
      "\n",
      "+7-955-555-55-66\n",
      "Valid\n",
      "\n",
      "123-45-67\n",
      "Not valid\n",
      "\n",
      "123-456-789\n",
      "Not valid\n",
      "\n",
      "603 123-456-789\n",
      "Not valid\n",
      "\n",
      "423-555-55-5555\n",
      "Not valid\n",
      "\n"
     ]
    }
   ],
   "source": [
    "def phone_validation(validation_list):\n",
    "    for item in validation_list:\n",
    "\n",
    "        # format digits\n",
    "        split_pattern = r'\\d+'\n",
    "        number = ''.join(re.findall(split_pattern, item))\n",
    "\n",
    "        # validation criteria\n",
    "        ## option 1 - starts with '8' or '7' + 10 digits\n",
    "        ## option 2 - has 10 digits\n",
    "        validation = r'(^(8|7){1}\\d{10}$|^\\d{10}$)' \n",
    "\n",
    "        # validation check + final formatting\n",
    "        # print(f'До форматирования {item}, после форматирования {number}')\n",
    "\n",
    "        if re.match(validation, number):\n",
    "            if len(number) == 10: # i.e. has 10 digits\n",
    "                print('+7' + '-' + number[0:3] + '-' + number[3:6] + '-' + number[6:8] + '-' + number[8:10])\n",
    "            else: # i.e. starts with '8' or '7' + 10 digits\n",
    "                if number.startswith('8'):\n",
    "                    number = re.sub('8', '7', number, 1)\n",
    "                print('+' + number[0] + '-' + number[1:4] + '-' + number[4:7] + '-' + number[7:9] + '-' + number[9:11])\n",
    "\n",
    "            print('Valid')\n",
    "        else:\n",
    "            print(item)\n",
    "            print('Not valid')\n",
    "        print()\n",
    "\n",
    "phone_validation(validation_list)\n"
   ]
  },
  {
   "cell_type": "code",
   "execution_count": null,
   "metadata": {},
   "outputs": [],
   "source": []
  },
  {
   "cell_type": "code",
   "execution_count": null,
   "metadata": {},
   "outputs": [],
   "source": []
  },
  {
   "cell_type": "code",
   "execution_count": null,
   "metadata": {},
   "outputs": [],
   "source": []
  }
 ],
 "metadata": {
  "kernelspec": {
   "display_name": "Python 3",
   "language": "python",
   "name": "python3"
  },
  "language_info": {
   "codemirror_mode": {
    "name": "ipython",
    "version": 3
   },
   "file_extension": ".py",
   "mimetype": "text/x-python",
   "name": "python",
   "nbconvert_exporter": "python",
   "pygments_lexer": "ipython3",
   "version": "3.8.3"
  }
 },
 "nbformat": 4,
 "nbformat_minor": 2
}
