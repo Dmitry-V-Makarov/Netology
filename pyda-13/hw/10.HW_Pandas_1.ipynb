{
 "cells": [
  {
   "cell_type": "markdown",
   "metadata": {},
   "source": [
    "# Домашнее задание «Библиотека Pandas»"
   ]
  },
  {
   "cell_type": "code",
   "execution_count": 2,
   "metadata": {},
   "outputs": [],
   "source": [
    "import pandas as pd"
   ]
  },
  {
   "cell_type": "markdown",
   "metadata": {},
   "source": [
    "## Задание 1"
   ]
  },
  {
   "cell_type": "code",
   "execution_count": 3,
   "metadata": {},
   "outputs": [],
   "source": [
    "ratings = pd.read_csv(r'C:\\Users\\dmvma\\Downloads\\ml-latest\\ratings.csv')"
   ]
  },
  {
   "cell_type": "code",
   "execution_count": 4,
   "metadata": {},
   "outputs": [
    {
     "data": {
      "text/html": [
       "<div>\n",
       "<style scoped>\n",
       "    .dataframe tbody tr th:only-of-type {\n",
       "        vertical-align: middle;\n",
       "    }\n",
       "\n",
       "    .dataframe tbody tr th {\n",
       "        vertical-align: top;\n",
       "    }\n",
       "\n",
       "    .dataframe thead th {\n",
       "        text-align: right;\n",
       "    }\n",
       "</style>\n",
       "<table border=\"1\" class=\"dataframe\">\n",
       "  <thead>\n",
       "    <tr style=\"text-align: right;\">\n",
       "      <th></th>\n",
       "      <th>userId</th>\n",
       "      <th>rating</th>\n",
       "      <th>timestamp</th>\n",
       "    </tr>\n",
       "    <tr>\n",
       "      <th>movieId</th>\n",
       "      <th></th>\n",
       "      <th></th>\n",
       "      <th></th>\n",
       "    </tr>\n",
       "  </thead>\n",
       "  <tbody>\n",
       "    <tr>\n",
       "      <th>318</th>\n",
       "      <td>48762</td>\n",
       "      <td>48762</td>\n",
       "      <td>48762</td>\n",
       "    </tr>\n",
       "    <tr>\n",
       "      <th>296</th>\n",
       "      <td>37458</td>\n",
       "      <td>37458</td>\n",
       "      <td>37458</td>\n",
       "    </tr>\n",
       "    <tr>\n",
       "      <th>356</th>\n",
       "      <td>32009</td>\n",
       "      <td>32009</td>\n",
       "      <td>32009</td>\n",
       "    </tr>\n",
       "    <tr>\n",
       "      <th>260</th>\n",
       "      <td>31385</td>\n",
       "      <td>31385</td>\n",
       "      <td>31385</td>\n",
       "    </tr>\n",
       "    <tr>\n",
       "      <th>593</th>\n",
       "      <td>30280</td>\n",
       "      <td>30280</td>\n",
       "      <td>30280</td>\n",
       "    </tr>\n",
       "  </tbody>\n",
       "</table>\n",
       "</div>"
      ],
      "text/plain": [
       "         userId  rating  timestamp\n",
       "movieId                           \n",
       "318       48762   48762      48762\n",
       "296       37458   37458      37458\n",
       "356       32009   32009      32009\n",
       "260       31385   31385      31385\n",
       "593       30280   30280      30280"
      ]
     },
     "execution_count": 4,
     "metadata": {},
     "output_type": "execute_result"
    }
   ],
   "source": [
    "five_rated = ratings[ratings.rating == 5.0]\n",
    "five_rated.groupby('movieId').count().sort_values('rating', ascending = False).head()"
   ]
  },
  {
   "cell_type": "code",
   "execution_count": 6,
   "metadata": {},
   "outputs": [
    {
     "data": {
      "text/plain": [
       "318"
      ]
     },
     "execution_count": 6,
     "metadata": {},
     "output_type": "execute_result"
    }
   ],
   "source": [
    "five_rated.groupby('movieId').count().sort_values('rating', ascending = False).index[0]"
   ]
  },
  {
   "cell_type": "code",
   "execution_count": 8,
   "metadata": {},
   "outputs": [
    {
     "data": {
      "text/html": [
       "<div>\n",
       "<style scoped>\n",
       "    .dataframe tbody tr th:only-of-type {\n",
       "        vertical-align: middle;\n",
       "    }\n",
       "\n",
       "    .dataframe tbody tr th {\n",
       "        vertical-align: top;\n",
       "    }\n",
       "\n",
       "    .dataframe thead th {\n",
       "        text-align: right;\n",
       "    }\n",
       "</style>\n",
       "<table border=\"1\" class=\"dataframe\">\n",
       "  <thead>\n",
       "    <tr style=\"text-align: right;\">\n",
       "      <th></th>\n",
       "      <th>movieId</th>\n",
       "      <th>title</th>\n",
       "      <th>genres</th>\n",
       "    </tr>\n",
       "  </thead>\n",
       "  <tbody>\n",
       "    <tr>\n",
       "      <th>315</th>\n",
       "      <td>318</td>\n",
       "      <td>Shawshank Redemption, The (1994)</td>\n",
       "      <td>Crime|Drama</td>\n",
       "    </tr>\n",
       "  </tbody>\n",
       "</table>\n",
       "</div>"
      ],
      "text/plain": [
       "     movieId                             title       genres\n",
       "315      318  Shawshank Redemption, The (1994)  Crime|Drama"
      ]
     },
     "execution_count": 8,
     "metadata": {},
     "output_type": "execute_result"
    }
   ],
   "source": [
    "movies = pd.read_csv(r'C:\\Users\\dmvma\\Downloads\\ml-latest\\movies.csv')\n",
    "movies[movies.movieId == 318]"
   ]
  },
  {
   "cell_type": "code",
   "execution_count": 9,
   "metadata": {},
   "outputs": [
    {
     "data": {
      "text/plain": [
       "'Shawshank Redemption, The (1994)'"
      ]
     },
     "execution_count": 9,
     "metadata": {},
     "output_type": "execute_result"
    }
   ],
   "source": [
    "movies.loc[315, 'title']"
   ]
  },
  {
   "cell_type": "markdown",
   "metadata": {},
   "source": [
    "## Задание 2"
   ]
  },
  {
   "cell_type": "code",
   "execution_count": 3,
   "metadata": {},
   "outputs": [],
   "source": [
    "power = pd.read_csv(r'../data/power.csv')"
   ]
  },
  {
   "cell_type": "code",
   "execution_count": 4,
   "metadata": {},
   "outputs": [
    {
     "data": {
      "text/html": [
       "<div>\n",
       "<style scoped>\n",
       "    .dataframe tbody tr th:only-of-type {\n",
       "        vertical-align: middle;\n",
       "    }\n",
       "\n",
       "    .dataframe tbody tr th {\n",
       "        vertical-align: top;\n",
       "    }\n",
       "\n",
       "    .dataframe thead th {\n",
       "        text-align: right;\n",
       "    }\n",
       "</style>\n",
       "<table border=\"1\" class=\"dataframe\">\n",
       "  <thead>\n",
       "    <tr style=\"text-align: right;\">\n",
       "      <th></th>\n",
       "      <th>country</th>\n",
       "      <th>year</th>\n",
       "      <th>quantity</th>\n",
       "      <th>category</th>\n",
       "    </tr>\n",
       "  </thead>\n",
       "  <tbody>\n",
       "    <tr>\n",
       "      <th>9838</th>\n",
       "      <td>Swaziland</td>\n",
       "      <td>2010</td>\n",
       "      <td>0.18</td>\n",
       "      <td>4</td>\n",
       "    </tr>\n",
       "    <tr>\n",
       "      <th>9855</th>\n",
       "      <td>Colombia</td>\n",
       "      <td>2010</td>\n",
       "      <td>2.35</td>\n",
       "      <td>4</td>\n",
       "    </tr>\n",
       "    <tr>\n",
       "      <th>9862</th>\n",
       "      <td>Canada</td>\n",
       "      <td>2010</td>\n",
       "      <td>32.00</td>\n",
       "      <td>4</td>\n",
       "    </tr>\n",
       "    <tr>\n",
       "      <th>9876</th>\n",
       "      <td>Colombia</td>\n",
       "      <td>2010</td>\n",
       "      <td>1.41</td>\n",
       "      <td>4</td>\n",
       "    </tr>\n",
       "    <tr>\n",
       "      <th>9882</th>\n",
       "      <td>Colombia</td>\n",
       "      <td>2010</td>\n",
       "      <td>10.73</td>\n",
       "      <td>4</td>\n",
       "    </tr>\n",
       "  </tbody>\n",
       "</table>\n",
       "</div>"
      ],
      "text/plain": [
       "        country  year  quantity  category\n",
       "9838  Swaziland  2010      0.18         4\n",
       "9855   Colombia  2010      2.35         4\n",
       "9862     Canada  2010     32.00         4\n",
       "9876   Colombia  2010      1.41         4\n",
       "9882   Colombia  2010     10.73         4"
      ]
     },
     "execution_count": 4,
     "metadata": {},
     "output_type": "execute_result"
    }
   ],
   "source": [
    "power_f = power[(power.quantity >= 0) & (power.year >= 2010) & (power.year <= 2010) & ((power.category == 4) | (power.category == 12) | (power.category == 21))]\n",
    "power_f.head()"
   ]
  },
  {
   "cell_type": "code",
   "execution_count": 6,
   "metadata": {},
   "outputs": [
    {
     "data": {
      "text/plain": [
       "38861.0"
      ]
     },
     "execution_count": 6,
     "metadata": {},
     "output_type": "execute_result"
    }
   ],
   "source": [
    "# option 1\n",
    "power_B = power_f[(power_f.country == 'Latvia') | (power_f.country == 'Lithuania') | (power_f.country == 'Estonia')]\n",
    "power_B['quantity'].sum()"
   ]
  },
  {
   "cell_type": "code",
   "execution_count": 8,
   "metadata": {},
   "outputs": [
    {
     "data": {
      "text/plain": [
       "3830"
      ]
     },
     "execution_count": 8,
     "metadata": {},
     "output_type": "execute_result"
    }
   ],
   "source": [
    "# option 2 for selecting certain countries (returns only 'country' series)\n",
    "power_B_2 = power_f.country.isin(['Latvia', 'Estonia', 'Lithuania'])\n",
    "len(power_B_2)"
   ]
  },
  {
   "cell_type": "code",
   "execution_count": 9,
   "metadata": {},
   "outputs": [
    {
     "data": {
      "text/plain": [
       "9838    False\n",
       "9855    False\n",
       "9862    False\n",
       "9876    False\n",
       "9882    False\n",
       "Name: country, dtype: bool"
      ]
     },
     "execution_count": 9,
     "metadata": {},
     "output_type": "execute_result"
    }
   ],
   "source": [
    "power_B_2.head()"
   ]
  },
  {
   "cell_type": "markdown",
   "metadata": {},
   "source": [
    "## Задание 3"
   ]
  },
  {
   "cell_type": "code",
   "execution_count": 9,
   "metadata": {},
   "outputs": [
    {
     "data": {
      "text/html": [
       "<div>\n",
       "<style scoped>\n",
       "    .dataframe tbody tr th:only-of-type {\n",
       "        vertical-align: middle;\n",
       "    }\n",
       "\n",
       "    .dataframe tbody tr th {\n",
       "        vertical-align: top;\n",
       "    }\n",
       "\n",
       "    .dataframe thead th {\n",
       "        text-align: right;\n",
       "    }\n",
       "</style>\n",
       "<table border=\"1\" class=\"dataframe\">\n",
       "  <thead>\n",
       "    <tr style=\"text-align: right;\">\n",
       "      <th></th>\n",
       "      <th>Название</th>\n",
       "      <th>Доходность</th>\n",
       "      <th>Дата</th>\n",
       "      <th>Цена</th>\n",
       "    </tr>\n",
       "  </thead>\n",
       "  <tbody>\n",
       "    <tr>\n",
       "      <th>0</th>\n",
       "      <td>ГГарант-Инвест БО 001P-05RU000A1005T9</td>\n",
       "      <td>14,89%</td>\n",
       "      <td>05 апреля 2024через 4 года</td>\n",
       "      <td>928,22 ₽</td>\n",
       "    </tr>\n",
       "    <tr>\n",
       "      <th>1</th>\n",
       "      <td>ККарМани выпуск 2RU000A0ZZ1F6</td>\n",
       "      <td>14,73%</td>\n",
       "      <td>10 июня 2022через 2 года</td>\n",
       "      <td>1 030,3 ₽</td>\n",
       "    </tr>\n",
       "    <tr>\n",
       "      <th>2</th>\n",
       "      <td>ФФлай Плэнинг БО-П3RU000A101178</td>\n",
       "      <td>14,3%</td>\n",
       "      <td>10 ноября 2022через 2 года</td>\n",
       "      <td>1 014,5 ₽</td>\n",
       "    </tr>\n",
       "    <tr>\n",
       "      <th>3</th>\n",
       "      <td>ТТД РКС-Сочи выпуск 1RU000A101PV6</td>\n",
       "      <td>14,22%</td>\n",
       "      <td>23 мая 2023через 3 года</td>\n",
       "      <td>1 009,9 ₽</td>\n",
       "    </tr>\n",
       "    <tr>\n",
       "      <th>4</th>\n",
       "      <td>ФФлай Плэнинг БО-П2RU000A100K64</td>\n",
       "      <td>14,15%</td>\n",
       "      <td>06 июля 2022через 2 года</td>\n",
       "      <td>1 020,8 ₽</td>\n",
       "    </tr>\n",
       "  </tbody>\n",
       "</table>\n",
       "</div>"
      ],
      "text/plain": [
       "                                Название Доходность  \\\n",
       "0  ГГарант-Инвест БО 001P-05RU000A1005T9     14,89%   \n",
       "1          ККарМани выпуск 2RU000A0ZZ1F6     14,73%   \n",
       "2        ФФлай Плэнинг БО-П3RU000A101178      14,3%   \n",
       "3      ТТД РКС-Сочи выпуск 1RU000A101PV6     14,22%   \n",
       "4        ФФлай Плэнинг БО-П2RU000A100K64     14,15%   \n",
       "\n",
       "                         Дата       Цена  \n",
       "0  05 апреля 2024через 4 года   928,22 ₽  \n",
       "1    10 июня 2022через 2 года  1 030,3 ₽  \n",
       "2  10 ноября 2022через 2 года  1 014,5 ₽  \n",
       "3     23 мая 2023через 3 года  1 009,9 ₽  \n",
       "4    06 июля 2022через 2 года  1 020,8 ₽  "
      ]
     },
     "execution_count": 9,
     "metadata": {},
     "output_type": "execute_result"
    }
   ],
   "source": [
    "df = pd.read_html('https://www.tinkoff.ru/invest/bonds/')[0]\n",
    "df.head()"
   ]
  },
  {
   "cell_type": "code",
   "execution_count": null,
   "metadata": {},
   "outputs": [],
   "source": []
  },
  {
   "cell_type": "code",
   "execution_count": null,
   "metadata": {},
   "outputs": [],
   "source": []
  }
 ],
 "metadata": {
  "kernelspec": {
   "display_name": "Python 3",
   "language": "python",
   "name": "python3"
  },
  "language_info": {
   "codemirror_mode": {
    "name": "ipython",
    "version": 3
   },
   "file_extension": ".py",
   "mimetype": "text/x-python",
   "name": "python",
   "nbconvert_exporter": "python",
   "pygments_lexer": "ipython3",
   "version": "3.8.3"
  }
 },
 "nbformat": 4,
 "nbformat_minor": 4
}
