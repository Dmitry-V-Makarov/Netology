{
 "cells": [
  {
   "cell_type": "markdown",
   "metadata": {},
   "source": [
    "## Домашнее задание к лекции «Случайные события. Случайные величины»"
   ]
  },
  {
   "cell_type": "code",
   "execution_count": 39,
   "metadata": {},
   "outputs": [],
   "source": [
    "import numpy as np"
   ]
  },
  {
   "cell_type": "markdown",
   "metadata": {},
   "source": [
    "Simulation"
   ]
  },
  {
   "cell_type": "code",
   "execution_count": 148,
   "metadata": {},
   "outputs": [
    {
     "name": "stdout",
     "output_type": "stream",
     "text": [
      "-3716\n",
      "-3.7159999999999997\n"
     ]
    }
   ],
   "source": [
    "# np.random.seed(42)\n",
    "\n",
    "trials = 100000\n",
    "balance = 0\n",
    "\n",
    "for i in range(trials):\n",
    "    n = np.random.randint(0, 1000)\n",
    "    s = str(n)\n",
    "    if n == 777:\n",
    "        balance += 200\n",
    "    elif n == 999:\n",
    "        balance += 100\n",
    "    elif n == 555:\n",
    "        balance += 50\n",
    "    elif n == 333:\n",
    "        balance += 15\n",
    "    elif n == 111:\n",
    "        balance += 10\n",
    "    elif len(s) == 3 and s[-2:] == '77':\n",
    "        balance += 5\n",
    "    elif len(s) == 3 and s[-1] == '7':\n",
    "        balance += 3\n",
    "    elif len(s) == 3 and s[-2:] == '00':\n",
    "        balance += 2\n",
    "    elif len(s) == 3 and s[-1] == '0':\n",
    "        balance += 1\n",
    "    else:\n",
    "        balance -= 1\n",
    "\n",
    "# баланс после 100 000 попыток\n",
    "print(balance)\n",
    "\n",
    "# эмпирическая вероятность\n",
    "print(balance / trials * 100)"
   ]
  },
  {
   "cell_type": "markdown",
   "metadata": {},
   "source": [
    "Theoretical probability"
   ]
  },
  {
   "cell_type": "code",
   "execution_count": 147,
   "metadata": {},
   "outputs": [
    {
     "name": "stdout",
     "output_type": "stream",
     "text": [
      "100.0\n"
     ]
    }
   ],
   "source": [
    "# возможные выигрыши и их вероятности\n",
    "\n",
    "P1 = 0.001\n",
    "G1 = 200\n",
    "\n",
    "P2 = 0.001\n",
    "G2 = 100\n",
    "\n",
    "P3 = 0.001\n",
    "G3 = 50\n",
    "\n",
    "P4 = 0.001\n",
    "G4 = 15\n",
    "\n",
    "P5 = 0.001\n",
    "G5 = 10\n",
    "\n",
    "P6 = 0.009 # 9 / 1000\n",
    "G6 = 5\n",
    "\n",
    "P7 = 0.09 # 9 * 10 / 1000\n",
    "G7 = 3\n",
    "\n",
    "P8 = 0.009\n",
    "G8 = 2\n",
    "\n",
    "P9 = 0.09\n",
    "G9 = 1\n",
    "\n",
    "\n",
    "# то, что я могу выиграть\n",
    "gain = P1 * G1 + P2 * G2 + P3 * G3 + P4 * G4 + P5 * G5 + P6 * G6 + P7 * G7 + P8 * G8 + P9 * G9\n",
    "\n",
    "# то, что я могу потерять\n",
    "loss = (1 - (P1 + P2 + P3 + P4 + P5 + P6 + P7 + P8 + P9)) * -1\n",
    "\n",
    "# expected value after 100000 rounds\n",
    "res = (gain + loss) * 100000\n",
    "print(round(res, 1))"
   ]
  }
 ],
 "metadata": {
  "kernelspec": {
   "display_name": "Python 3",
   "language": "python",
   "name": "python3"
  },
  "language_info": {
   "codemirror_mode": {
    "name": "ipython",
    "version": 3
   },
   "file_extension": ".py",
   "mimetype": "text/x-python",
   "name": "python",
   "nbconvert_exporter": "python",
   "pygments_lexer": "ipython3",
   "version": "3.8.3"
  }
 },
 "nbformat": 4,
 "nbformat_minor": 4
}
