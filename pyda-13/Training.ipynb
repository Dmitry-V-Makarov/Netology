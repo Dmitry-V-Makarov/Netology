{
 "cells": [
  {
   "cell_type": "code",
   "execution_count": 1,
   "metadata": {},
   "outputs": [],
   "source": [
    "income_by_months = [['Jan', 13000], ['Feb', 10000]]"
   ]
  },
  {
   "cell_type": "code",
   "execution_count": 2,
   "metadata": {},
   "outputs": [
    {
     "name": "stdout",
     "output_type": "stream",
     "text": [
      "['Jan', 13000]\n"
     ]
    }
   ],
   "source": [
    "print(income_by_months[-2])"
   ]
  },
  {
   "cell_type": "code",
   "execution_count": 3,
   "metadata": {},
   "outputs": [
    {
     "name": "stdout",
     "output_type": "stream",
     "text": [
      "13000\n"
     ]
    }
   ],
   "source": [
    "# получить второй элемент второго списка (и так для любого уровня вложенности)\n",
    "print(income_by_months[-2][1])"
   ]
  },
  {
   "cell_type": "code",
   "execution_count": 4,
   "metadata": {},
   "outputs": [
    {
     "name": "stdout",
     "output_type": "stream",
     "text": [
      "[['Jan', 13000], ['Feb', 10000]]\n"
     ]
    }
   ],
   "source": [
    "print(income_by_months[0:2])"
   ]
  },
  {
   "cell_type": "code",
   "execution_count": 5,
   "metadata": {},
   "outputs": [
    {
     "name": "stdout",
     "output_type": "stream",
     "text": [
      "<class 'list'>\n"
     ]
    }
   ],
   "source": [
    "print(type(income_by_months))"
   ]
  },
  {
   "cell_type": "code",
   "execution_count": 6,
   "metadata": {},
   "outputs": [
    {
     "name": "stdout",
     "output_type": "stream",
     "text": [
      "[['Jan', 13100], ['Feb', 10000]]\n",
      "[['Nov', 13200], ['Feb', 13900]]\n",
      "[['Nov', 13200], ['Feb', 13900], ['Nov', 15400]]\n"
     ]
    }
   ],
   "source": [
    "# изменение списков\n",
    "income_by_months[0][1] = 13100\n",
    "print(income_by_months)\n",
    "\n",
    "income_by_months[0:2] = [['Nov', 13200], ['Feb', 13900]]\n",
    "print(income_by_months)\n",
    "\n",
    "income_by_months_2 = [['Nov', 15400]]\n",
    "income_by_month = income_by_months + income_by_months_2\n",
    "print(income_by_month)"
   ]
  },
  {
   "cell_type": "code",
   "execution_count": 7,
   "metadata": {},
   "outputs": [
    {
     "name": "stdout",
     "output_type": "stream",
     "text": [
      "Enter number of bytes: 15000\n",
      "0.015\n"
     ]
    }
   ],
   "source": [
    "# how many Megabytes in x bytes\n",
    "x = int(input('Enter number of bytes: '))\n",
    "x = x * (10**-6)\n",
    "print(x)"
   ]
  },
  {
   "cell_type": "code",
   "execution_count": 8,
   "metadata": {},
   "outputs": [
    {
     "name": "stdout",
     "output_type": "stream",
     "text": [
      "Enter number of bytes: 15000\n",
      "0.01430511474609375\n"
     ]
    }
   ],
   "source": [
    "# how many Megabytes in x bytes\n",
    "x = int(input('Enter number of bytes: '))\n",
    "x = x / (1024**2)\n",
    "print(x)"
   ]
  },
  {
   "cell_type": "code",
   "execution_count": 24,
   "metadata": {},
   "outputs": [
    {
     "name": "stdout",
     "output_type": "stream",
     "text": [
      "Enter number of bytes: 15000\n",
      "0.01430511474609375\n"
     ]
    }
   ],
   "source": [
    "# how many Megabytes in x bytes\n",
    "x = int(input('Enter number of bytes: '))\n",
    "x = x / (2**20)\n",
    "print(x)"
   ]
  },
  {
   "cell_type": "code",
   "execution_count": 25,
   "metadata": {},
   "outputs": [
    {
     "name": "stdout",
     "output_type": "stream",
     "text": [
      "0.015\n"
     ]
    }
   ],
   "source": [
    "byte_number = 15000\n",
    "x = byte_number * 1e-6\n",
    "print(x)"
   ]
  },
  {
   "cell_type": "code",
   "execution_count": 33,
   "metadata": {},
   "outputs": [
    {
     "name": "stdout",
     "output_type": "stream",
     "text": [
      "x3 is the largest\n"
     ]
    }
   ],
   "source": [
    "# сравнение чисел\n",
    "x1 = 10\n",
    "x2 = 300\n",
    "x3 = 2000\n",
    "\n",
    "if x1 > x2 and x1 > x3:\n",
    "    print('x1 is the largest')\n",
    "elif x2 > x1 and x2 > x3:\n",
    "    print('x2 is the largest')\n",
    "else:\n",
    "    print('x3 is the largest')\n"
   ]
  },
  {
   "cell_type": "code",
   "execution_count": 35,
   "metadata": {},
   "outputs": [
    {
     "name": "stdout",
     "output_type": "stream",
     "text": [
      "2000\n"
     ]
    }
   ],
   "source": [
    "# сложный вариант сравнения чисел\n",
    "a = 10\n",
    "b = 300\n",
    "c = 2000\n",
    "\n",
    "x = a if a > b else b if b > c else c if c > a else a\n",
    "print(x)"
   ]
  },
  {
   "cell_type": "code",
   "execution_count": 36,
   "metadata": {},
   "outputs": [],
   "source": [
    "# камень/ножницы/бумага"
   ]
  },
  {
   "cell_type": "code",
   "execution_count": 6,
   "metadata": {},
   "outputs": [],
   "source": [
    "my_list = ['John', 'James', 'Mary', 'John', 'David', 'Mary']"
   ]
  },
  {
   "cell_type": "code",
   "execution_count": 11,
   "metadata": {},
   "outputs": [
    {
     "name": "stdout",
     "output_type": "stream",
     "text": [
      "['John', 'James', 'Mary', 'David']\n"
     ]
    }
   ],
   "source": [
    "res = []\n",
    "\n",
    "for i in my_list:\n",
    "    if i not in res:\n",
    "        res.append(i)\n",
    "\n",
    "print(res)"
   ]
  },
  {
   "cell_type": "code",
   "execution_count": 18,
   "metadata": {},
   "outputs": [
    {
     "name": "stdout",
     "output_type": "stream",
     "text": [
      "['John', 'James', 'Mary', 'David']\n",
      "['John', 'Mary']\n"
     ]
    }
   ],
   "source": [
    "unique = []\n",
    "repeat = []\n",
    "\n",
    "for i in my_list:\n",
    "    if i not in unique:\n",
    "        unique.append(i)\n",
    "    else:\n",
    "        repeat.append(i)\n",
    "    \n",
    "print(unique)\n",
    "print(repeat)"
   ]
  },
  {
   "cell_type": "code",
   "execution_count": 25,
   "metadata": {},
   "outputs": [
    {
     "name": "stdout",
     "output_type": "stream",
     "text": [
      "['John', 'Mary']\n"
     ]
    }
   ],
   "source": [
    "res_2 = []\n",
    "\n",
    "for i in my_list:\n",
    "    if i not in res_2 and my_list.count(i) > 1:\n",
    "        res_2.append(i)\n",
    "\n",
    "print(res_2)"
   ]
  },
  {
   "cell_type": "code",
   "execution_count": 15,
   "metadata": {},
   "outputs": [
    {
     "name": "stdout",
     "output_type": "stream",
     "text": [
      "None\n",
      "['David', 'James', 'John', 'John', 'Mary', 'Mary']\n",
      "['David', 'James', 'John', 'John', 'Mary', 'Mary']\n"
     ]
    }
   ],
   "source": [
    "# Методы изменяемых и неизменяемых объектов\n",
    "\n",
    "l = ['John', 'James', 'Mary', 'John', 'David', 'Mary']\n",
    "\n",
    "\n",
    "l.sort() # меняет исходный список\n",
    "new = sorted(l) # исходный список не меняет\n",
    "\n",
    "# Методы изменяемых объектов (списков) оперируют с исходным объектом, \n",
    "# а методы неизменяемых объектов (строк) оперируют с новым объектом.\n",
    "\n",
    "print(l.sort())\n",
    "print(l)\n",
    "print(new)"
   ]
  },
  {
   "cell_type": "code",
   "execution_count": 32,
   "metadata": {},
   "outputs": [
    {
     "name": "stdout",
     "output_type": "stream",
     "text": [
      "103\n",
      "103\n"
     ]
    }
   ],
   "source": [
    "# сумма элементов диагонали\n",
    "\n",
    "data = [\n",
    "    [13, 25, 23, 34],\n",
    "    [45, 32, 44, 47],\n",
    "    [12, 33, 23, 95],\n",
    "    [13, 53, 34, 35]\n",
    "]\n",
    "\n",
    "# option 1\n",
    "total = 0\n",
    "index = 0\n",
    "for i in data:\n",
    "    l = data[index][index]\n",
    "    total = total + l\n",
    "    index += 1\n",
    "\n",
    "print(total)\n",
    "\n",
    "# option 2\n",
    "j = 0\n",
    "total = 0\n",
    "\n",
    "for n in data:\n",
    "    total += n[j]\n",
    "    j += 1\n",
    "\n",
    "print(total)"
   ]
  },
  {
   "cell_type": "code",
   "execution_count": 4,
   "metadata": {},
   "outputs": [
    {
     "data": {
      "text/plain": [
       "103"
      ]
     },
     "execution_count": 4,
     "metadata": {},
     "output_type": "execute_result"
    }
   ],
   "source": [
    "# same but using list comprehension\n",
    "\n",
    "data = [\n",
    "    [13, 25, 23, 34],\n",
    "    [45, 32, 44, 47],\n",
    "    [12, 33, 23, 95],\n",
    "    [13, 53, 34, 35]\n",
    "]\n",
    "\n",
    "sum(n[i] for i, n in enumerate(data))"
   ]
  },
  {
   "cell_type": "code",
   "execution_count": 5,
   "metadata": {},
   "outputs": [
    {
     "data": {
      "text/plain": [
       "103"
      ]
     },
     "execution_count": 5,
     "metadata": {},
     "output_type": "execute_result"
    }
   ],
   "source": [
    "# избыточный вариант (в Питоне не требуется)\n",
    "\n",
    "sum([data[i][i] for i in range(0, len(data))])"
   ]
  },
  {
   "cell_type": "code",
   "execution_count": 35,
   "metadata": {},
   "outputs": [
    {
     "name": "stdout",
     "output_type": "stream",
     "text": [
      "124\n"
     ]
    }
   ],
   "source": [
    "# сумма элементов обратной диагонали матрицы\n",
    "\n",
    "data = [\n",
    "    [13, 25, 23, 34],\n",
    "    [45, 32, 44, 47],\n",
    "    [12, 33, 23, 95],\n",
    "    [13, 53, 34, 35]\n",
    "]\n",
    "\n",
    "j = -1\n",
    "total = 0\n",
    "\n",
    "for n in data:\n",
    "    total += n[j]\n",
    "    j -= 1\n",
    "\n",
    "print(total)"
   ]
  },
  {
   "cell_type": "code",
   "execution_count": 21,
   "metadata": {},
   "outputs": [
    {
     "data": {
      "text/plain": [
       "[[13, 53, 34, 35], [12, 33, 23, 95], [45, 32, 44, 47], [13, 25, 23, 34]]"
      ]
     },
     "execution_count": 21,
     "metadata": {},
     "output_type": "execute_result"
    }
   ],
   "source": [
    "sum(n[i] for i, n in enumerate(reversed(data))) \n",
    "\n",
    "# почему это работает?\n",
    "list(reversed(data))"
   ]
  },
  {
   "cell_type": "code",
   "execution_count": 10,
   "metadata": {},
   "outputs": [
    {
     "data": {
      "text/plain": [
       "124"
      ]
     },
     "execution_count": 10,
     "metadata": {},
     "output_type": "execute_result"
    }
   ],
   "source": [
    "sum([data[i][-i - 1] for i in range(0, len(data))])"
   ]
  },
  {
   "cell_type": "code",
   "execution_count": 47,
   "metadata": {},
   "outputs": [
    {
     "name": "stdout",
     "output_type": "stream",
     "text": [
      "Python\n",
      "высокоуровненый\n",
      "программирования\n",
      "ориентированный\n",
      "повышение\n",
      "производительности\n",
      "разработчика\n",
      "читаемости\n"
     ]
    }
   ],
   "source": [
    "# Найти слова, в которых больше пяти букв\n",
    "\n",
    "text = 'Python - высокоуровненый язык программирования, ориентированный на повышение производительности разработчика и читаемости кода'\n",
    "\n",
    "text = text.split(' ')\n",
    "\n",
    "index = 0\n",
    "for i in text:\n",
    "    text[index] = text[index].strip(',')\n",
    "    \n",
    "    if i == '-':\n",
    "        continue\n",
    "\n",
    "    if len(text[index]) > 5:\n",
    "        print(text[index])\n",
    "    \n",
    "    index += 1"
   ]
  },
  {
   "cell_type": "code",
   "execution_count": 117,
   "metadata": {},
   "outputs": [
    {
     "name": "stdout",
     "output_type": "stream",
     "text": [
      "IT:\n",
      "Gates\n",
      "Jobs\n",
      "Voznyak\n",
      "\n",
      "Физика:\n",
      "Einistein\n",
      "Feinman\n",
      "\n",
      "Математика:\n",
      "Euclidus\n",
      "Newton\n",
      "\n"
     ]
    }
   ],
   "source": [
    "prof = ['IT', 'Физика', 'Математика']\n",
    "persons = [['Gates', 'Jobs', 'Voznyak'], ['Einistein', 'Feinman'], ['Euclidus', 'Newton']]\n",
    "\n",
    "index = 0\n",
    "for i in prof:\n",
    "    print(i + ':')\n",
    "    \n",
    "    for j in persons[index]:\n",
    "        print(j)\n",
    "\n",
    "    print()\n",
    "    index += 1"
   ]
  },
  {
   "cell_type": "code",
   "execution_count": 118,
   "metadata": {},
   "outputs": [
    {
     "name": "stdout",
     "output_type": "stream",
     "text": [
      "IT:\n",
      "Gates\n",
      "Jobs\n",
      "Voznyak\n",
      "\n",
      "Физика:\n",
      "Einistein\n",
      "Feinman\n",
      "\n",
      "Математика:\n",
      "Euclidus\n",
      "Newton\n",
      "\n"
     ]
    }
   ],
   "source": [
    "prof = ['IT', 'Физика', 'Математика']\n",
    "persons = [['Gates', 'Jobs', 'Voznyak'], ['Einistein', 'Feinman'], ['Euclidus', 'Newton']]\n",
    "\n",
    "for pro, names in zip(prof, persons):\n",
    "    print(f'{pro}:')\n",
    "    for name in names:\n",
    "          print(name)\n",
    "    print()"
   ]
  },
  {
   "cell_type": "code",
   "execution_count": 120,
   "metadata": {},
   "outputs": [
    {
     "name": "stdout",
     "output_type": "stream",
     "text": [
      "IT:\n",
      "Gates\n",
      "Jobs\n",
      "Voznyak \n",
      "\n",
      "Физика:\n",
      "Einistein\n",
      "Feinman \n",
      "\n",
      "Математика:\n",
      "Euclidus\n",
      "Newton \n",
      "\n"
     ]
    }
   ],
   "source": [
    "# Преобразование элементов списка в строку\n",
    "\n",
    "prof = ['IT', 'Физика', 'Математика']\n",
    "persons = [['Gates', 'Jobs', 'Voznyak'], ['Einistein', 'Feinman'], ['Euclidus', 'Newton']]\n",
    "\n",
    "for pro, names in zip(prof, persons):\n",
    "    print(f'{pro}:')\n",
    "    print('\\n'.join(names), '\\n')\n"
   ]
  },
  {
   "cell_type": "code",
   "execution_count": 14,
   "metadata": {},
   "outputs": [
    {
     "name": "stdout",
     "output_type": "stream",
     "text": [
      "\n",
      "1\n",
      "22\n",
      "333\n",
      "4444\n",
      "55555\n",
      "666666\n",
      "7777777\n",
      "88888888\n",
      "999999999\n"
     ]
    }
   ],
   "source": [
    "# Нарисовать представленный шаблон\n",
    "\n",
    "i = 1\n",
    "for i in range(10):\n",
    "    for j in range(i):\n",
    "        print(i, end = '')\n",
    "    print()"
   ]
  },
  {
   "cell_type": "code",
   "execution_count": 9,
   "metadata": {},
   "outputs": [
    {
     "name": "stdout",
     "output_type": "stream",
     "text": [
      "1\n",
      "22\n",
      "333\n",
      "4444\n",
      "55555\n",
      "666666\n",
      "7777777\n",
      "88888888\n",
      "999999999\n"
     ]
    }
   ],
   "source": [
    "num = 1\n",
    "while num < 10:\n",
    "    # при умножении строки на число n, строка повторяется n раз\n",
    "    print(str(num) * num)\n",
    "    num += 1"
   ]
  },
  {
   "cell_type": "code",
   "execution_count": 15,
   "metadata": {},
   "outputs": [
    {
     "name": "stdout",
     "output_type": "stream",
     "text": [
      "\n",
      "1\n",
      "22\n",
      "333\n",
      "4444\n",
      "55555\n",
      "666666\n",
      "7777777\n",
      "88888888\n",
      "999999999\n"
     ]
    }
   ],
   "source": [
    "for i in range(10):\n",
    "    print(str(i) * i)"
   ]
  },
  {
   "cell_type": "code",
   "execution_count": 18,
   "metadata": {},
   "outputs": [
    {
     "name": "stdout",
     "output_type": "stream",
     "text": [
      "['Екатеринбург', 'Москва', 'Санкт-Петербург', 'Норильск', 'Пермь', 'Астрахань']\n"
     ]
    }
   ],
   "source": [
    "# разглаживание списка (сделать из вложенных списков один большой список)\n",
    "\n",
    "my_list = [['Екатеринбург', 'Москва'], ['Санкт-Петербург', 'Норильск'], ['Пермь', 'Астрахань']]\n",
    "\n",
    "res = []\n",
    "for i in my_list:\n",
    "    for j in i:\n",
    "        res.append(j)\n",
    "\n",
    "print(res)\n"
   ]
  },
  {
   "cell_type": "code",
   "execution_count": 1,
   "metadata": {},
   "outputs": [
    {
     "name": "stdout",
     "output_type": "stream",
     "text": [
      "['Екатеринбург', 'Москва', 'Санкт-Петербург', 'Норильск', 'Пермь', 'Астрахань']\n",
      "[['Екатеринбург', 'Москва'], ['Санкт-Петербург', 'Норильск'], ['Пермь', 'Астрахань']]\n"
     ]
    }
   ],
   "source": [
    "my_list = [['Екатеринбург', 'Москва'], ['Санкт-Петербург', 'Норильск'], ['Пермь', 'Астрахань']]\n",
    "\n",
    "# нужно начать складывать с пустого списка, а не со встроенного нуля\n",
    "print(sum(my_list, []))\n",
    "\n",
    "# ниже мы начинаем с my_list и добавляем пустые списки\n",
    "print(sum([], my_list))"
   ]
  },
  {
   "cell_type": "code",
   "execution_count": 6,
   "metadata": {},
   "outputs": [
    {
     "name": "stdout",
     "output_type": "stream",
     "text": [
      "27\n",
      "100\n"
     ]
    }
   ],
   "source": [
    "def square(number):\n",
    "    result = number ** 2\n",
    "    return result\n",
    "\n",
    "x = square(5)\n",
    "print(x + 2)\n",
    "print(square(number = 10))"
   ]
  },
  {
   "cell_type": "code",
   "execution_count": 8,
   "metadata": {},
   "outputs": [],
   "source": [
    "?print"
   ]
  },
  {
   "cell_type": "code",
   "execution_count": 12,
   "metadata": {},
   "outputs": [
    {
     "name": "stdout",
     "output_type": "stream",
     "text": [
      "Help on built-in function print in module builtins:\n",
      "\n",
      "print(...)\n",
      "    print(value, ..., sep=' ', end='\\n', file=sys.stdout, flush=False)\n",
      "    \n",
      "    Prints the values to a stream, or to sys.stdout by default.\n",
      "    Optional keyword arguments:\n",
      "    file:  a file-like object (stream); defaults to the current sys.stdout.\n",
      "    sep:   string inserted between values, default a space.\n",
      "    end:   string appended after the last value, default a newline.\n",
      "    flush: whether to forcibly flush the stream.\n",
      "\n"
     ]
    }
   ],
   "source": [
    "help(print)"
   ]
  },
  {
   "cell_type": "code",
   "execution_count": 9,
   "metadata": {},
   "outputs": [
    {
     "name": "stdout",
     "output_type": "stream",
     "text": [
      "27\n",
      "100\n"
     ]
    }
   ],
   "source": [
    "def square(number):\n",
    "    \"\"\"\n",
    "    squares any integer number\n",
    "    \"\"\"\n",
    "    result = number ** 2\n",
    "    return result\n",
    "\n",
    "x = square(5)\n",
    "print(x + 2)\n",
    "print(square(number = 10))"
   ]
  },
  {
   "cell_type": "code",
   "execution_count": 13,
   "metadata": {},
   "outputs": [
    {
     "name": "stdout",
     "output_type": "stream",
     "text": [
      "Help on function square in module __main__:\n",
      "\n",
      "square(number)\n",
      "    squares any integer number\n",
      "\n"
     ]
    }
   ],
   "source": [
    "help(square)\n",
    "?square"
   ]
  },
  {
   "cell_type": "code",
   "execution_count": 15,
   "metadata": {},
   "outputs": [
    {
     "name": "stdout",
     "output_type": "stream",
     "text": [
      "Введите число: 5\n"
     ]
    },
    {
     "data": {
      "text/plain": [
       "25"
      ]
     },
     "execution_count": 15,
     "metadata": {},
     "output_type": "execute_result"
    }
   ],
   "source": [
    "# функция без параметров\n",
    "def square_2():\n",
    "    user_input = int(input('Введите число: '))\n",
    "    result = user_input ** 2\n",
    "    return result\n",
    "\n",
    "square_2()"
   ]
  },
  {
   "cell_type": "code",
   "execution_count": 17,
   "metadata": {},
   "outputs": [
    {
     "data": {
      "text/plain": [
       "16"
      ]
     },
     "execution_count": 17,
     "metadata": {},
     "output_type": "execute_result"
    }
   ],
   "source": [
    "# функция с двумя параметрами\n",
    "def power(number, number_2):\n",
    "    result = number ** number_2\n",
    "    return result\n",
    "\n",
    "power(4, 2)"
   ]
  },
  {
   "cell_type": "code",
   "execution_count": 19,
   "metadata": {},
   "outputs": [
    {
     "data": {
      "text/plain": [
       "100"
      ]
     },
     "execution_count": 19,
     "metadata": {},
     "output_type": "execute_result"
    }
   ],
   "source": [
    "# функция с параметром по умолчанию\n",
    "def power(number, number_2 = 2):\n",
    "    result = number ** number_2\n",
    "    return result\n",
    "\n",
    "power(10)"
   ]
  },
  {
   "cell_type": "code",
   "execution_count": 22,
   "metadata": {},
   "outputs": [
    {
     "name": "stdout",
     "output_type": "stream",
     "text": [
      "None\n"
     ]
    }
   ],
   "source": [
    "# Если не указан return, функция всегда возвращает None!\n",
    "def square_3(number):\n",
    "    result = number ** 2\n",
    "#     return None\n",
    "#     return\n",
    "    \n",
    "print(square_3(5))"
   ]
  },
  {
   "cell_type": "code",
   "execution_count": 24,
   "metadata": {},
   "outputs": [
    {
     "name": "stdout",
     "output_type": "stream",
     "text": [
      "36\n",
      "125\n"
     ]
    }
   ],
   "source": [
    "number = 5\n",
    "power = 3\n",
    "\n",
    "def power_2():\n",
    "    number = 6\n",
    "    power = 2\n",
    "    return number ** power\n",
    "\n",
    "print(power_2())\n",
    "print(number ** power)"
   ]
  },
  {
   "cell_type": "code",
   "execution_count": 30,
   "metadata": {},
   "outputs": [
    {
     "data": {
      "text/plain": [
       "[0, 4, 8, 12, 16, 20, 24, 28, 32, 36, 40, 44, 48]"
      ]
     },
     "execution_count": 30,
     "metadata": {},
     "output_type": "execute_result"
    }
   ],
   "source": [
    "x = list(range(0, 50, 4))\n",
    "x"
   ]
  },
  {
   "cell_type": "code",
   "execution_count": 37,
   "metadata": {},
   "outputs": [
    {
     "data": {
      "text/plain": [
       "[('id2', 39484032), ('id3', 59502222), ('id1', 92832323)]"
      ]
     },
     "execution_count": 37,
     "metadata": {},
     "output_type": "execute_result"
    }
   ],
   "source": [
    "# сортировка словарей\n",
    "\n",
    "my_dict = {\n",
    "    'id1' : 92832323,\n",
    "    'id2' : 39484032,\n",
    "    'id3' : 59502222\n",
    "}\n",
    "\n",
    "# сортировка по ключу\n",
    "sorted(my_dict, reverse = True)\n",
    "\n",
    "# сортировка по значению\n",
    "sorted(my_dict.values(), reverse = True)\n",
    "\n",
    "# сортировать словарь [0] - по ключу, [1] - по значению\n",
    "sorted(my_dict.items(), key = lambda kv : kv[1])"
   ]
  },
  {
   "cell_type": "code",
   "execution_count": 46,
   "metadata": {},
   "outputs": [
    {
     "data": {
      "text/plain": [
       "{'id2': 39484032, 'id3': 59502222, 'id1': 92832323}"
      ]
     },
     "execution_count": 46,
     "metadata": {},
     "output_type": "execute_result"
    }
   ],
   "source": [
    "{k : v for k, v in sorted(my_dict.items(), key = lambda kv : kv[1])}"
   ]
  },
  {
   "cell_type": "code",
   "execution_count": 44,
   "metadata": {},
   "outputs": [
    {
     "name": "stdout",
     "output_type": "stream",
     "text": [
      "id2 39484032\n",
      "id3 59502222\n",
      "id1 92832323\n"
     ]
    }
   ],
   "source": [
    "for k, v in sorted(my_dict.items(), key = lambda kv : kv[1]):\n",
    "    print(k, v)"
   ]
  },
  {
   "cell_type": "code",
   "execution_count": 24,
   "metadata": {},
   "outputs": [
    {
     "data": {
      "text/plain": [
       "{1: 1,\n",
       " 2: 4,\n",
       " 3: 9,\n",
       " 4: 16,\n",
       " 5: 25,\n",
       " 6: 36,\n",
       " 7: 49,\n",
       " 8: 64,\n",
       " 9: 81,\n",
       " 10: 100,\n",
       " 11: 121,\n",
       " 12: 144,\n",
       " 13: 169,\n",
       " 14: 196,\n",
       " 15: 225,\n",
       " 16: 256,\n",
       " 17: 289,\n",
       " 18: 324,\n",
       " 19: 361,\n",
       " 20: 400}"
      ]
     },
     "execution_count": 24,
     "metadata": {},
     "output_type": "execute_result"
    }
   ],
   "source": [
    "# сформируйте словарь, ключами в котором будут числа от 1 до 20, а значениями - квадраты этих чисел\n",
    "\n",
    "{n: n**2 for n in range(1, 21)}"
   ]
  },
  {
   "cell_type": "code",
   "execution_count": 35,
   "metadata": {},
   "outputs": [
    {
     "name": "stdout",
     "output_type": "stream",
     "text": [
      "27.5\n"
     ]
    }
   ],
   "source": [
    "# посчитать среднее значение\n",
    "\n",
    "people = {\n",
    "    1: {'name': 'Oleg', 'age': '29', 'sex': 'Male'},\n",
    "    2: {'name': 'Kate', 'age': '21', 'sex': 'Female'},\n",
    "    3: {'name': 'Liza', 'age': '24', 'sex': 'Female'},\n",
    "    4: {'name': 'Pavel', 'age': '36', 'sex': 'Male'},\n",
    "}\n",
    "\n",
    "total = 0\n",
    "\n",
    "for i, v in enumerate(people.values()):\n",
    "    total += int(v['age'])\n",
    "    \n",
    "print(total / len(people))"
   ]
  },
  {
   "cell_type": "code",
   "execution_count": 34,
   "metadata": {},
   "outputs": [
    {
     "data": {
      "text/plain": [
       "27.5"
      ]
     },
     "execution_count": 34,
     "metadata": {},
     "output_type": "execute_result"
    }
   ],
   "source": [
    "sum([int(user_dict['age']) for user_dict in people.values()]) / len(people)"
   ]
  },
  {
   "cell_type": "code",
   "execution_count": 56,
   "metadata": {},
   "outputs": [
    {
     "data": {
      "text/plain": [
       "[{'visit1': ['Москва', 'Россия']},\n",
       " {'visit3': ['Владимир', 'Россия']},\n",
       " {'visit7': ['Тула', 'Россия']},\n",
       " {'visit8': ['Тула', 'Россия']},\n",
       " {'visit9': ['Курск', 'Россия']},\n",
       " {'visit10': ['Архангельск', 'Россия']}]"
      ]
     },
     "execution_count": 56,
     "metadata": {},
     "output_type": "execute_result"
    }
   ],
   "source": [
    "# отфильтровать список geo_logs по визитам из России\n",
    "\n",
    "geo_logs = [\n",
    "    {'visit1' : ['Москва', 'Россия']},\n",
    "    {'visit2' : ['Дели', 'Индия']},\n",
    "    {'visit3' : ['Владимир', 'Россия']},\n",
    "    {'visit4' : ['Лиссабон', 'Португалия']},\n",
    "    {'visit5' : ['Париж', 'Франция']},\n",
    "    {'visit6' : ['Лиссабон', 'Португалия']},\n",
    "    {'visit7' : ['Тула', 'Россия']},\n",
    "    {'visit8' : ['Тула', 'Россия']},\n",
    "    {'visit9' : ['Курск', 'Россия']},\n",
    "    {'visit10' : ['Архангельск', 'Россия']},\n",
    "]\n",
    "\n",
    "# for dict_ in geo_logs:\n",
    "#     if list(dict_.values())[0][1] == 'Россия': print(dict_)\n",
    "\n",
    "res = []\n",
    "for visit in geo_logs:\n",
    "    if 'Россия' in list(visit.values())[0]: res.append(visit)\n",
    "        \n",
    "res"
   ]
  },
  {
   "cell_type": "code",
   "execution_count": 53,
   "metadata": {},
   "outputs": [
    {
     "data": {
      "text/plain": [
       "[{'visit1': ['Москва', 'Россия']},\n",
       " {'visit3': ['Владимир', 'Россия']},\n",
       " {'visit7': ['Тула', 'Россия']},\n",
       " {'visit8': ['Тула', 'Россия']},\n",
       " {'visit9': ['Курск', 'Россия']},\n",
       " {'visit10': ['Архангельск', 'Россия']}]"
      ]
     },
     "execution_count": 53,
     "metadata": {},
     "output_type": "execute_result"
    }
   ],
   "source": [
    "res = [dict_ for dict_ in geo_logs if 'Россия' == list(dict_.values())[0][1]]\n",
    "res"
   ]
  },
  {
   "cell_type": "code",
   "execution_count": 58,
   "metadata": {},
   "outputs": [
    {
     "data": {
      "text/plain": [
       "[{'visit1': ['Москва', 'Россия']},\n",
       " {'visit3': ['Владимир', 'Россия']},\n",
       " {'visit7': ['Тула', 'Россия']},\n",
       " {'visit8': ['Тула', 'Россия']},\n",
       " {'visit9': ['Курск', 'Россия']},\n",
       " {'visit10': ['Архангельск', 'Россия']}]"
      ]
     },
     "execution_count": 58,
     "metadata": {},
     "output_type": "execute_result"
    }
   ],
   "source": [
    "# filter по определенной функции фильтрует данные\n",
    "\n",
    "param = 'Россия'\n",
    "a = list(filter(lambda x: param in list(x.values())[0], geo_logs))\n",
    "a"
   ]
  },
  {
   "cell_type": "code",
   "execution_count": 62,
   "metadata": {},
   "outputs": [
    {
     "data": {
      "text/plain": [
       "[{'visit1': ['Москва', 'Россия']},\n",
       " {'visit3': ['Владимир', 'Россия']},\n",
       " {'visit7': ['Тула', 'Россия']},\n",
       " {'visit8': ['Тула', 'Россия']},\n",
       " {'visit9': ['Курск', 'Россия']},\n",
       " {'visit10': ['Архангельск', 'Россия']}]"
      ]
     },
     "execution_count": 62,
     "metadata": {},
     "output_type": "execute_result"
    }
   ],
   "source": [
    "geo_logs_2 = geo_logs.copy()\n",
    "\n",
    "geo_logs = [\n",
    "    {'visit1' : ['Москва', 'Россия']},\n",
    "    {'visit2' : ['Дели', 'Индия']},\n",
    "    {'visit3' : ['Владимир', 'Россия']},\n",
    "    {'visit4' : ['Лиссабон', 'Португалия']},\n",
    "    {'visit5' : ['Париж', 'Франция']},\n",
    "    {'visit6' : ['Лиссабон', 'Португалия']},\n",
    "    {'visit7' : ['Тула', 'Россия']},\n",
    "    {'visit8' : ['Тула', 'Россия']},\n",
    "    {'visit9' : ['Курск', 'Россия']},\n",
    "    {'visit10' : ['Архангельск', 'Россия']},\n",
    "]\n",
    "\n",
    "for visit in geo_logs_2:\n",
    "    if list(visit.values())[0][1] != 'Россия':\n",
    "        geo_logs.remove(visit)\n",
    "        \n",
    "geo_logs"
   ]
  },
  {
   "cell_type": "code",
   "execution_count": 3,
   "metadata": {},
   "outputs": [
    {
     "name": "stdout",
     "output_type": "stream",
     "text": [
      "21500\n",
      "2\n",
      "36500\n",
      "3\n",
      "56000\n",
      "6\n"
     ]
    },
    {
     "data": {
      "text/plain": [
       "9333.333333333334"
      ]
     },
     "execution_count": 3,
     "metadata": {},
     "output_type": "execute_result"
    }
   ],
   "source": [
    "# Напишем функцию, которая будет находить среднюю цену на квартиры в городе\n",
    "\n",
    "dict_1 = {'flat_1': 10500, 'flat_2': 11000} # например, это район в городе\n",
    "dict_2 = {'flat_3': 15000}\n",
    "dict_3 = {'flat_4': 6500, 'flat_5': 7000, 'flat_6': 6000}\n",
    "\n",
    "def get_avg_price(*districts):\n",
    "    prices = 0\n",
    "    count = 0\n",
    "    for district in districts:\n",
    "        prices += sum(district.values())\n",
    "        count += len(district.values())\n",
    "        print(prices)\n",
    "        print(count)\n",
    "    return prices / count\n",
    "\n",
    "get_avg_price(dict_1, dict_2, dict_3)"
   ]
  },
  {
   "cell_type": "code",
   "execution_count": 17,
   "metadata": {},
   "outputs": [
    {
     "data": {
      "text/plain": [
       "[325.0, 350.0, 125.0, 850.0]"
      ]
     },
     "execution_count": 17,
     "metadata": {},
     "output_type": "execute_result"
    }
   ],
   "source": [
    "# map and lambda\n",
    "prices = [[100, 200, 400, 600], [200, 500], [100, 200, 100, 100], [800, 900]]\n",
    "\n",
    "res = []\n",
    "for price in prices:\n",
    "    res.append(sum(price) / len(price))\n",
    "\n",
    "res\n"
   ]
  },
  {
   "cell_type": "code",
   "execution_count": 18,
   "metadata": {},
   "outputs": [
    {
     "data": {
      "text/plain": [
       "[325.0, 350.0, 125.0, 850.0]"
      ]
     },
     "execution_count": 18,
     "metadata": {},
     "output_type": "execute_result"
    }
   ],
   "source": [
    "# map применяет функцию (анонимную или нет) ко всем элементам итерируемого объекта (обычно списка)\n",
    "# lambda - способ анонимного вызова функции (без объявления)\n",
    "# часто в функцию map передается lambda функция\n",
    "\n",
    "list(map(lambda x: sum(x) / len(x), prices))"
   ]
  },
  {
   "cell_type": "code",
   "execution_count": 19,
   "metadata": {},
   "outputs": [
    {
     "data": {
      "text/plain": [
       "[6, 6]"
      ]
     },
     "execution_count": 19,
     "metadata": {},
     "output_type": "execute_result"
    }
   ],
   "source": [
    "dict_1 = {'flat_1': 10500, 'flat_2': 11000}\n",
    "\n",
    "list(map(len, dict_1)) # применяется к ключам словаря"
   ]
  },
  {
   "cell_type": "code",
   "execution_count": 21,
   "metadata": {},
   "outputs": [
    {
     "data": {
      "text/plain": [
       "[12500, 12500]"
      ]
     },
     "execution_count": 21,
     "metadata": {},
     "output_type": "execute_result"
    }
   ],
   "source": [
    "dict_1 = {'flat_1': [10500, 2000], 'flat_2': [11000, 1500]}\n",
    "\n",
    "# list(map(len, dict_1.values()))\n",
    "list(map(sum, dict_1.values()))"
   ]
  },
  {
<<<<<<< HEAD
   "cell_type": "code",
   "execution_count": 5,
   "metadata": {},
   "outputs": [
    {
     "name": "stdout",
     "output_type": "stream",
     "text": [
      "Requirement already satisfied: sympy in c:\\users\\dmvma\\anaconda3\\lib\\site-packages (1.5.1)\n",
      "Requirement already satisfied: mpmath>=0.19 in c:\\users\\dmvma\\anaconda3\\lib\\site-packages (from sympy) (1.1.0)\n"
     ]
    }
   ],
   "source": [
    "!pip install sympy"
   ]
  },
  {
   "cell_type": "code",
   "execution_count": 18,
   "metadata": {},
   "outputs": [
    {
     "name": "stdout",
     "output_type": "stream",
     "text": [
      "Expression : 0.0598*x**2 - 0.379*x + 8.44 \n",
      "Derivative of expression with respect to x : Derivative(0.0598*x**2 - 0.379*x + 8.44, x)\n",
      "Value of the derivative : 0.1196*x - 0.379 \n",
      "1.1758\n"
     ]
    }
   ],
   "source": [
    "from sympy import * \n",
    "  \n",
    "x, y = symbols('x y') \n",
    "expr = (0.0598 * (x ** 2)) - (0.379 * x) + 8.44\n",
    "print(\"Expression : {} \".format(expr))\n",
    "\n",
    "expr_diff = Derivative(expr, x)\n",
    "\n",
    "print(\"Derivative of expression with respect to x : {}\".format(expr_diff))   \n",
    "print(\"Value of the derivative : {} \".format(expr_diff.doit()))\n",
    "\n",
    "print(0.1196*13 - 0.379)\n",
    "# answer: R'(13) aprox. = $1.18/year"
=======
   "cell_type": "markdown",
   "metadata": {},
   "source": [
    "$\\int_a^b f(x) = F(b) - F(a)$"
>>>>>>> 89e4afb73b03275fbfa7840273acac278a0bd6ae
   ]
  },
  {
   "cell_type": "code",
   "execution_count": null,
   "metadata": {},
   "outputs": [],
   "source": []
  }
 ],
 "metadata": {
  "kernelspec": {
   "display_name": "Python 3",
   "language": "python",
   "name": "python3"
  },
  "language_info": {
   "codemirror_mode": {
    "name": "ipython",
    "version": 3
   },
   "file_extension": ".py",
   "mimetype": "text/x-python",
   "name": "python",
   "nbconvert_exporter": "python",
   "pygments_lexer": "ipython3",
   "version": "3.8.3"
  }
 },
 "nbformat": 4,
 "nbformat_minor": 4
}
