{
 "cells": [
  {
   "cell_type": "markdown",
   "metadata": {},
   "source": [
    "**Задача с собеседований:**\n",
    "\n",
    "Дана строчка sequence с последовательностью натуральных чисел, разделенных пробелом. Посчитайте:\n",
    "\n",
    "1. Количество четный и нечетных чисел в этой строке\n",
    "1. Если четных больше, то укажите номер позиции первого \"лишнего\" нечетного числа\n",
    "1. Если нечетных больше, то укажите позицию первого \"лишнего\" четного числа\n",
    "1. Как бонусный вариант, оформите код в виде функции"
   ]
  },
  {
   "cell_type": "code",
   "execution_count": 9,
   "metadata": {},
   "outputs": [
    {
     "name": "stdout",
     "output_type": "stream",
     "text": [
      "2\n"
     ]
    }
   ],
   "source": [
    "sequence = '2 3 1 5 9 22 3 5'\n",
    "\n",
    "odd = []\n",
    "even = []\n",
    "\n",
    "numbers = sequence.split(' ')\n",
    "\n",
    "for number in numbers:\n",
    "    number = int(number)\n",
    "    if number % 2 == 0:\n",
    "        even.append(number)\n",
    "    else:\n",
    "        odd.append(number)\n",
    "\n",
    "if len(even) > len(odd):\n",
    "    print(odd[0])\n",
    "else:\n",
    "    print(even[0])"
   ]
  },
  {
   "cell_type": "code",
   "execution_count": 13,
   "metadata": {},
   "outputs": [
    {
     "name": "stdout",
     "output_type": "stream",
     "text": [
      "2 0\n"
     ]
    }
   ],
   "source": [
    "sequence = '2 3 1 5 9 22 3 5'\n",
    "\n",
    "sequence = [int(x) for x in sequence.split(' ')]\n",
    "sequence\n",
    "\n",
    "even = [x for x in sequence if x % 2 == 0]\n",
    "even\n",
    "\n",
    "odd = [x for x in sequence if x % 2 != 0]\n",
    "odd\n",
    "\n",
    "if len(odd) > len(even):\n",
    "    print(even[0], sequence.index(even[0])) \n",
    "    # index указывает на номер первого четного числа в исходном списке sequence\n",
    "else:\n",
    "    print(odd[0], sequence.index(odd[0]))"
   ]
  },
  {
   "cell_type": "code",
   "execution_count": null,
   "metadata": {},
   "outputs": [],
   "source": [
    "# алгоритмическая сложность\n",
    "# во сколько раз увеличивается сложность (время работы алгоритма) при увеличении данных в n раз\n",
    "\n",
    "3 * len(sequence) # тройку можно убрать если проходить все за один цикл\n",
    "\n",
    "# при увеличении списка в 10 раз, время работы также увеличится в 10 раз\n",
    "O(N) # читается \"O от N\"\n",
    "\n",
    "# идеальный вариант (наименьшая алгоритмическая сложность)\n",
    "O(1)"
   ]
  },
  {
   "cell_type": "code",
   "execution_count": null,
   "metadata": {},
   "outputs": [],
   "source": [
    "# Бинарный поиск (логарифмический рост по отсортированным данным)\n",
    "\n",
    "# 32 --> 3\n",
    "\n",
    "# 2 * 32 --> 3 + 1 = 4\n",
    "# 4 * 32 --> 3 + 2 = 5"
   ]
  },
  {
   "cell_type": "code",
   "execution_count": 16,
   "metadata": {},
   "outputs": [
    {
     "data": {
      "text/plain": [
       "[0, 1, 2, 3, 4]"
      ]
     },
     "execution_count": 16,
     "metadata": {},
     "output_type": "execute_result"
    }
   ],
   "source": [
    "# O(1)\n",
    "\n",
    "data = list(range(1000))\n",
    "data[:5]\n",
    "\n"
   ]
  },
  {
   "cell_type": "code",
   "execution_count": 18,
   "metadata": {},
   "outputs": [
    {
     "name": "stdout",
     "output_type": "stream",
     "text": [
      "Wall time: 509 ms\n"
     ]
    }
   ],
   "source": [
    "%%time\n",
    "\n",
    "for _ in range(10**5):\n",
    "    500 in data"
   ]
  },
  {
   "cell_type": "code",
   "execution_count": 19,
   "metadata": {},
   "outputs": [],
   "source": [
    "data_set = set(data)"
   ]
  },
  {
   "cell_type": "code",
   "execution_count": 20,
   "metadata": {},
   "outputs": [
    {
     "name": "stdout",
     "output_type": "stream",
     "text": [
      "Wall time: 7.98 ms\n"
     ]
    }
   ],
   "source": [
    "%%time\n",
    "\n",
    "for _ in range(10**5):\n",
    "    500 in data_set"
   ]
  },
  {
   "cell_type": "markdown",
   "metadata": {},
   "source": [
    "## Способы указания пути файлов"
   ]
  },
  {
   "cell_type": "code",
   "execution_count": 9,
   "metadata": {},
   "outputs": [
    {
     "name": "stdout",
     "output_type": "stream",
     "text": [
      "{\"user_id\": \"user_id\", \"category\": \"category\"}\n",
      "{\"user_id\": \"1840e0b9d4\", \"category\": \"Продукты\"}\n",
      "{\"user_id\": \"4e4f90fcfb\", \"category\": \"Электроника\"}\n",
      "{\"user_id\": \"afea8d72fc\", \"category\": \"Электроника\"}\n"
     ]
    }
   ],
   "source": [
    "# Вариант 1. Файл лежит в той же папке или во внутренней папке\n",
    "\n",
    "d = open('lecture_notebooks/data/file1.csv', 'r', encoding = 'utf-8')\n",
    "\n",
    "# Вариант 2. Более далекий файл в Windows\n",
    "e = open('C:\\\\Users\\\\dmvma\\\\Documents\\\\Netology\\\\pyda-13\\\\lecture_notebooks\\\\purchase_log.txt', 'r', encoding = 'utf-8')\n",
    "\n",
    "for i, line in enumerate(e):\n",
    "    print(line.strip())\n",
    "    if i > 2:\n",
    "        break\n"
   ]
  },
  {
   "cell_type": "code",
   "execution_count": 10,
   "metadata": {},
   "outputs": [
    {
     "name": "stdout",
     "output_type": "stream",
     "text": [
      "{\"user_id\": \"user_id\", \"category\": \"category\"}\n",
      "{\"user_id\": \"1840e0b9d4\", \"category\": \"Продукты\"}\n",
      "{\"user_id\": \"4e4f90fcfb\", \"category\": \"Электроника\"}\n",
      "{\"user_id\": \"afea8d72fc\", \"category\": \"Электроника\"}\n"
     ]
    }
   ],
   "source": [
    "# Вариант 3. Без двойного \"\\\"\n",
    "e = open(r'C:\\Users\\dmvma\\Documents\\Netology\\pyda-13\\lecture_notebooks\\purchase_log.txt', 'r', encoding = 'utf-8')\n",
    "\n",
    "for i, line in enumerate(e):\n",
    "    print(line.strip())\n",
    "    if i > 2:\n",
    "        break"
   ]
  },
  {
   "cell_type": "code",
   "execution_count": null,
   "metadata": {},
   "outputs": [],
   "source": []
  },
  {
   "cell_type": "markdown",
   "metadata": {},
   "source": [
    "# Кодировка"
   ]
  },
  {
   "cell_type": "code",
   "execution_count": null,
   "metadata": {},
   "outputs": [],
   "source": [
    "'UTF-8'"
   ]
  },
  {
   "cell_type": "code",
   "execution_count": null,
   "metadata": {},
   "outputs": [],
   "source": [
    "'Windows-1251'\n",
    "'cp1251' # то же самое в Питоне"
   ]
  },
  {
   "cell_type": "code",
   "execution_count": null,
   "metadata": {},
   "outputs": [],
   "source": [
    "d = open('lecture_notebooks/data/file1.csv', 'r', encoding = 'utf-8')"
   ]
  },
  {
   "cell_type": "code",
   "execution_count": null,
   "metadata": {},
   "outputs": [],
   "source": [
    ".encode\n",
    ".decode"
   ]
  },
  {
   "cell_type": "code",
   "execution_count": null,
   "metadata": {},
   "outputs": [],
   "source": [
    "# unicode"
   ]
  },
  {
   "cell_type": "code",
   "execution_count": null,
   "metadata": {},
   "outputs": [],
   "source": [
    "import "
   ]
  },
  {
   "cell_type": "code",
   "execution_count": null,
   "metadata": {},
   "outputs": [],
   "source": []
  },
  {
   "cell_type": "markdown",
   "metadata": {},
   "source": [
    "## Задача на поиск числа слева"
   ]
  },
  {
   "cell_type": "code",
   "execution_count": 22,
   "metadata": {},
   "outputs": [],
   "source": [
    "# найти значение слева от n\n",
    "data = [1, 7, 17, 23, 27, 35, 65]"
   ]
  },
  {
   "cell_type": "code",
   "execution_count": 23,
   "metadata": {},
   "outputs": [],
   "source": [
    "n = 20"
   ]
  },
  {
   "cell_type": "code",
   "execution_count": 24,
   "metadata": {},
   "outputs": [
    {
     "name": "stdout",
     "output_type": "stream",
     "text": [
      "17\n"
     ]
    }
   ],
   "source": [
    "for i, number in enumerate(data):\n",
    "    # print(i, number)\n",
    "    if number > n:\n",
    "        print(data[i-1])\n",
    "        break"
   ]
  },
  {
   "cell_type": "code",
   "execution_count": 34,
   "metadata": {},
   "outputs": [
    {
     "data": {
      "text/plain": [
       "[17]"
      ]
     },
     "execution_count": 34,
     "metadata": {},
     "output_type": "execute_result"
    }
   ],
   "source": [
    "[data[i] for i, number in enumerate(data[:-1]) if data[i] <= n < data[i+1]]\n",
    "# data[:-1] нужно, чтобы не выйти за границу интервала"
   ]
  },
  {
   "cell_type": "code",
   "execution_count": 26,
   "metadata": {},
   "outputs": [
    {
     "data": {
      "text/plain": [
       "[1, 7, 17, 23, 27, 35, 65, 20]"
      ]
     },
     "execution_count": 26,
     "metadata": {},
     "output_type": "execute_result"
    }
   ],
   "source": [
    "data_2 = [1, 7, 17, 23, 27, 35, 65]\n",
    "\n",
    "data_2.append(n)\n",
    "data_2"
   ]
  },
  {
   "cell_type": "code",
   "execution_count": 27,
   "metadata": {},
   "outputs": [
    {
     "data": {
      "text/plain": [
       "[1, 7, 17, 20, 23, 27, 35, 65]"
      ]
     },
     "execution_count": 27,
     "metadata": {},
     "output_type": "execute_result"
    }
   ],
   "source": [
    "data_2 = sorted(data_2)\n",
    "data_2"
   ]
  },
  {
   "cell_type": "code",
   "execution_count": 28,
   "metadata": {},
   "outputs": [
    {
     "data": {
      "text/plain": [
       "17"
      ]
     },
     "execution_count": 28,
     "metadata": {},
     "output_type": "execute_result"
    }
   ],
   "source": [
    "data_2[data_2.index(n) - 1]"
   ]
  },
  {
   "cell_type": "code",
   "execution_count": null,
   "metadata": {},
   "outputs": [],
   "source": [
    "# отдельный случай если n уже есть в списке, нужно его предусмотреть"
   ]
  },
  {
   "cell_type": "markdown",
   "metadata": {},
   "source": [
    "### То же, но методом бинарного поиска"
   ]
  },
  {
   "cell_type": "code",
   "execution_count": null,
   "metadata": {},
   "outputs": [],
   "source": []
  },
  {
   "cell_type": "code",
   "execution_count": null,
   "metadata": {},
   "outputs": [],
   "source": []
  },
  {
   "cell_type": "code",
   "execution_count": null,
   "metadata": {},
   "outputs": [],
   "source": []
  },
  {
   "cell_type": "code",
   "execution_count": null,
   "metadata": {},
   "outputs": [],
   "source": []
  }
 ],
 "metadata": {
  "kernelspec": {
   "display_name": "Python 3",
   "language": "python",
   "name": "python3"
  },
  "language_info": {
   "codemirror_mode": {
    "name": "ipython",
    "version": 3
   },
   "file_extension": ".py",
   "mimetype": "text/x-python",
   "name": "python",
   "nbconvert_exporter": "python",
   "pygments_lexer": "ipython3",
   "version": "3.8.3"
  }
 },
 "nbformat": 4,
 "nbformat_minor": 4
}
