{
 "cells": [
  {
   "cell_type": "markdown",
   "metadata": {},
   "source": [
    "# Домашнее задание к лекции «Исключения и обработка ошибок»"
   ]
  },
  {
   "cell_type": "markdown",
   "metadata": {},
   "source": [
    "## Задание 1"
   ]
  },
  {
   "cell_type": "code",
   "execution_count": 32,
   "metadata": {},
   "outputs": [
    {
     "name": "stdout",
     "output_type": "stream",
     "text": [
      "2002-10-02 00:00:00\n",
      "2013-10-11 00:00:00\n",
      "1977-08-18 00:00:00\n"
     ]
    }
   ],
   "source": [
    "from datetime import datetime\n",
    "from datetime import timedelta\n",
    "\n",
    "# The Moscow Times - Wednesday, October 2, 2002\n",
    "moscow = 'Wednesday, October 2, 2002'\n",
    "\n",
    "moscow_dt = datetime.strptime(moscow, '%A, %B %d, %Y')\n",
    "\n",
    "print(moscow_dt)\n",
    "# moscow_dt.weekday()\n",
    "\n",
    "\n",
    "# The Guardian - Friday, 11.10.13\n",
    "guardian = 'Friday, 11.10.13'\n",
    "\n",
    "guardian_dt = datetime.strptime(guardian, '%A, %d.%m.%y')\n",
    "\n",
    "print(guardian_dt)\n",
    "# guardian_dt.weekday()\n",
    "\n",
    "\n",
    "# Daily News - Thursday, 18 August 1977\n",
    "daily = 'Thursday, 18 August 1977'\n",
    "daily_dt = datetime.strptime(daily, '%A, %d %B %Y')\n",
    "\n",
    "print(daily_dt)\n",
    "# daily_dt.weekday()"
   ]
  },
  {
   "cell_type": "markdown",
   "metadata": {},
   "source": [
    "## Задание 2"
   ]
  },
  {
   "cell_type": "code",
   "execution_count": 33,
   "metadata": {},
   "outputs": [
    {
     "name": "stdout",
     "output_type": "stream",
     "text": [
      "True\n",
      "False\n",
      "False\n"
     ]
    }
   ],
   "source": [
    "stream = ['2018-04-02', '2018-02-29', '2018-19-02']\n",
    "\n",
    "def check(dates):\n",
    "\n",
    "    for date in dates:\n",
    "\n",
    "        try:\n",
    "            date_dt = datetime.strptime(date, '%Y-%m-%d')\n",
    "            correctDate = True\n",
    "\n",
    "        except ValueError:\n",
    "            correctDate = False\n",
    "\n",
    "        print(str(correctDate))\n",
    "\n",
    "check(stream)\n",
    "    "
   ]
  },
  {
   "cell_type": "markdown",
   "metadata": {},
   "source": [
    "## Задание 3"
   ]
  },
  {
   "cell_type": "code",
   "execution_count": 43,
   "metadata": {},
   "outputs": [
    {
     "name": "stdout",
     "output_type": "stream",
     "text": [
      "Введите начальную дату: 2200\n",
      "Введите конечную дату: 222\n",
      "Date format error\n",
      "[]\n"
     ]
    }
   ],
   "source": [
    "def date_range():\n",
    "    \n",
    "    dates = []\n",
    "    \n",
    "    start_date = input('Введите начальную дату: ')\n",
    "    end_date = input('Введите конечную дату: ')\n",
    "    \n",
    "    try:\n",
    "        start_date_dt = datetime.strptime(start_date, '%Y-%m-%d')\n",
    "        end_date_dt = datetime.strptime(end_date, '%Y-%m-%d')\n",
    "\n",
    "        if start_date_dt > end_date_dt:\n",
    "            dates = []\n",
    "            print('Start date after end date')\n",
    "            print(dates)\n",
    "            return\n",
    "        \n",
    "        while start_date_dt <= end_date_dt:\n",
    "            dates.append(start_date_dt.strftime('%Y-%m-%d'))\n",
    "            start_date_dt += timedelta(days = 1)\n",
    "        \n",
    "        print(dates)\n",
    "\n",
    "    except:\n",
    "        print('Date format error')\n",
    "        print(dates)\n",
    "        \n",
    "\n",
    "date_range()"
   ]
  },
  {
   "cell_type": "markdown",
   "metadata": {},
   "source": [
    "## Задание 4"
   ]
  },
  {
   "cell_type": "code",
   "execution_count": 84,
   "metadata": {},
   "outputs": [
    {
     "name": "stdout",
     "output_type": "stream",
     "text": [
      "['A100', 'A101']\n"
     ]
    },
    {
     "data": {
      "text/plain": [
       "'A101'"
      ]
     },
     "execution_count": 84,
     "metadata": {},
     "output_type": "execute_result"
    }
   ],
   "source": [
    "DEFAULT_USER_COUNT = 3\n",
    "\n",
    "def delete_and_return_last_user(region, default_list=['A100', 'A101', 'A102']):\n",
    "    \n",
    "    \"\"\"\n",
    "    Удаляет из списка default_list последнего пользователя\n",
    "    и возвращает ID нового последнего пользователя.\n",
    "    \"\"\"\n",
    "\n",
    "    element_to_delete = default_list[-1]\n",
    "    default_list.remove(element_to_delete)\n",
    "    \n",
    "    print(default_list)\n",
    "\n",
    "    return default_list[DEFAULT_USER_COUNT-2]\n",
    "\n",
    "delete_and_return_last_user(1)\n",
    "\n",
    "\"\"\"\n",
    "\n",
    "\n",
    "\"\"\""
   ]
  },
  {
   "cell_type": "code",
   "execution_count": null,
   "metadata": {},
   "outputs": [],
   "source": []
  }
 ],
 "metadata": {
  "kernelspec": {
   "display_name": "Python 3",
   "language": "python",
   "name": "python3"
  },
  "language_info": {
   "codemirror_mode": {
    "name": "ipython",
    "version": 3
   },
   "file_extension": ".py",
   "mimetype": "text/x-python",
   "name": "python",
   "nbconvert_exporter": "python",
   "pygments_lexer": "ipython3",
   "version": "3.7.6"
  }
 },
 "nbformat": 4,
 "nbformat_minor": 4
}
