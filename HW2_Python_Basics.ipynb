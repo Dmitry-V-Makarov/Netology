{
 "cells": [
  {
   "cell_type": "markdown",
   "metadata": {},
   "source": [
    "# Тема \"Основы Python\""
   ]
  },
  {
   "cell_type": "markdown",
   "metadata": {},
   "source": [
    "## Задание 1"
   ]
  },
  {
   "cell_type": "code",
   "execution_count": 12,
   "metadata": {},
   "outputs": [
    {
     "name": "stdout",
     "output_type": "stream",
     "text": [
      "Фраза 1 длиннее фразы 2\n"
     ]
    }
   ],
   "source": [
    "phrase_1 = 'Насколько проще было бы писать программы, если бы не заказчики'\n",
    "phrase_2 = '640Кб должно хватить для любых задач. Билл Гейтс (по легенде)'\n",
    "\n",
    "if len(phrase_1) > len(phrase_2) :\n",
    "    print('Фраза 1 длиннее фразы 2')\n",
    "if len(phrase_1) < len(phrase_2):\n",
    "    print('Фраза 2 длиннее фразы 1')\n",
    "if len(phrase_1) == len(phrase_2):\n",
    "    print('Фразы равной длины')"
   ]
  },
  {
   "cell_type": "markdown",
   "metadata": {},
   "source": [
    "## Задание 2"
   ]
  },
  {
   "cell_type": "code",
   "execution_count": 23,
   "metadata": {},
   "outputs": [
    {
     "name": "stdout",
     "output_type": "stream",
     "text": [
      "Високосный год\n"
     ]
    }
   ],
   "source": [
    "y = 2020\n",
    "\n",
    "if ((y % 4 == 0 and y % 100 != 0) or y % 400 == 0):\n",
    "    print('Високосный год')\n",
    "else:    \n",
    "    print('Обычный год')"
   ]
  },
  {
   "cell_type": "markdown",
   "metadata": {},
   "source": [
    "## Задание 3"
   ]
  },
  {
   "cell_type": "code",
   "execution_count": 37,
   "metadata": {},
   "outputs": [
    {
     "name": "stdout",
     "output_type": "stream",
     "text": [
      "Введите день: 19\n",
      "Введите месяц (с заглавной буквы): Февраль\n",
      "\n",
      "\n",
      "Результат\n",
      "Ваш знак зодиака:\n",
      "Водолей\n"
     ]
    }
   ],
   "source": [
    "day = input('Введите день: ')\n",
    "month = input('Введите месяц (с заглавной буквы): ')\n",
    "\n",
    "if month == 'Январь':\n",
    "    month = 1\n",
    "if month == 'Февраль':\n",
    "    month = 2\n",
    "if month == 'Март':\n",
    "    month = 3\n",
    "if month == 'Апрель':\n",
    "    month = 4\n",
    "if month == 'Май':\n",
    "    month = 5\n",
    "if month == 'Июнь':\n",
    "    month = 6\n",
    "if month == 'Июль':\n",
    "    month = 7\n",
    "if month == 'Август':\n",
    "    month = 8\n",
    "if month == 'Сентябрь':\n",
    "    month = 9\n",
    "if month == 'Октябрь':\n",
    "    month = 10\n",
    "if month == 'Ноябрь':\n",
    "    month = 11\n",
    "if month == 'Декабрь':\n",
    "    month = 12\n",
    "\n",
    "def date(month, day):\n",
    "    return int(f\"{month}{day}\")\n",
    "\n",
    "date = date(month, day)\n",
    "\n",
    "print('\\n')\n",
    "print('Результат')\n",
    "print('Ваш знак зодиака:')\n",
    "\n",
    "if (321 <= date <= 420) :\n",
    "    print('Овен')\n",
    "if (421 <= date <= 521) :\n",
    "    print('Телец')\n",
    "if (522 <= date <= 621) :\n",
    "    print('Близнецы')\n",
    "if (622 <= date <= 722) :\n",
    "    print('Рак')\n",
    "if (723 <= date <= 823) :\n",
    "    print('Лев')\n",
    "if (824 <= date <= 923) :\n",
    "    print('Дева')\n",
    "if (924 <= date <= 1023) :\n",
    "    print('Весы')\n",
    "if (1024 <= date <= 1122) :\n",
    "    print('Скорпион')\n",
    "if (1123 <= date <= 1222) :\n",
    "    print('Стрелец')\n",
    "if (1223 <= date <= 120) :\n",
    "    print('Козерог')\n",
    "if (121 <= date <= 219) :\n",
    "    print('Водолей')\n",
    "if (220 <= date <= 320) :\n",
    "    print('Рыбы')\n",
    "    "
   ]
  },
  {
   "cell_type": "markdown",
   "metadata": {},
   "source": [
    "## Задание 4"
   ]
  },
  {
   "cell_type": "code",
   "execution_count": 3,
   "metadata": {},
   "outputs": [
    {
     "name": "stdout",
     "output_type": "stream",
     "text": [
      "Упаковка для лыж\n"
     ]
    }
   ],
   "source": [
    "width = 10\n",
    "length = 205\n",
    "height = 5\n",
    "\n",
    "if width < 15 and length < 15 and height < 15:\n",
    "    print('Коробка №1')\n",
    "elif 15 < width < 50 or 15 < length < 50 or 15 < height < 50:\n",
    "    print('Коробка №2')\n",
    "elif length > 200:\n",
    "    print('Упаковка для лыж')\n",
    "else:\n",
    "    print('Стандартная коробка №3')"
   ]
  },
  {
   "cell_type": "markdown",
   "metadata": {},
   "source": [
    "## Задание 5"
   ]
  },
  {
   "cell_type": "code",
   "execution_count": 62,
   "metadata": {},
   "outputs": [
    {
     "name": "stdout",
     "output_type": "stream",
     "text": [
      "Счастливый билет\n"
     ]
    }
   ],
   "source": [
    "n = 123321\n",
    "\n",
    "digits = [int(x) for x in str(n)]\n",
    "\n",
    "sum1 = sum(digits[:3])\n",
    "sum2 = sum(digits[3:])\n",
    "\n",
    "if sum1 != sum2:\n",
    "    print('Несчастливый билет')\n",
    "if sum1 == sum2:\n",
    "    print('Счастливый билет')\n",
    "\n"
   ]
  },
  {
   "cell_type": "markdown",
   "metadata": {},
   "source": [
    "## Задание 6"
   ]
  },
  {
   "cell_type": "code",
   "execution_count": 83,
   "metadata": {},
   "outputs": [
    {
     "name": "stdout",
     "output_type": "stream",
     "text": [
      "Введите тип фигуры (\"Круг\", \"Треугольник\" или \"Прямоугольник\"): Круг\n",
      "Введите радиус: 10\n",
      "Площадь круга: 314.16\n"
     ]
    }
   ],
   "source": [
    "import math\n",
    "\n",
    "shape = input('Введите тип фигуры (\"Круг\", \"Треугольник\" или \"Прямоугольник\"): ')\n",
    "\n",
    "if shape == 'Круг':\n",
    "    radius = int(input('Введите радиус: '))\n",
    "    area = round(((radius**2) * math.pi), 2)\n",
    "    print('Площадь круга: ' + str(area))\n",
    "    \n",
    "elif shape == 'Треугольник':\n",
    "    a = int(input('Введите длину стороны A: '))\n",
    "    b = int(input('Введите длину стороны B: '))\n",
    "    c = int(input('Введите длину стороны C: '))\n",
    "    s = (a + b + c)/2\n",
    "    area = round(math.sqrt(s * (s - a) * (s - b) * (s - c)), 2)\n",
    "    print('Площадь треугольника: ' + str(area))\n",
    "    \n",
    "elif shape == 'Прямоугольник':\n",
    "    a = int(input('Введите длину стороны A: '))\n",
    "    b = int(input('Введите длину стороны B: '))\n",
    "    area = a * b\n",
    "    print('Площадь прямоугольника: ' + str(area))\n",
    "    \n",
    "else:\n",
    "    print('Неверный ввод')"
   ]
  }
 ],
 "metadata": {
  "kernelspec": {
   "display_name": "Python 3",
   "language": "python",
   "name": "python3"
  },
  "language_info": {
   "codemirror_mode": {
    "name": "ipython",
    "version": 3
   },
   "file_extension": ".py",
   "mimetype": "text/x-python",
   "name": "python",
   "nbconvert_exporter": "python",
   "pygments_lexer": "ipython3",
   "version": "3.8.3"
  }
 },
 "nbformat": 4,
 "nbformat_minor": 4
}
