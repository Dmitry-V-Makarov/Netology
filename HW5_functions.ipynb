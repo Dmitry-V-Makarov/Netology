{
 "cells": [
  {
   "cell_type": "markdown",
   "metadata": {},
   "source": [
    "# Домашнее задание к лекции «Функции»"
   ]
  },
  {
   "cell_type": "code",
   "execution_count": 2,
   "metadata": {},
   "outputs": [],
   "source": [
    "documents = [\n",
    " {'type': 'passport', 'number': '2207 876234', 'name': 'Василий Гупкин'},\n",
    " {'type': 'invoice', 'number': '11-2', 'name': 'Геннадий Покемонов'},\n",
    " {'type': 'insurance', 'number': '10006', 'name': 'Аристарх Павлов'}\n",
    "]\n",
    "\n",
    "directories = {\n",
    " '1': ['2207 876234', '11-2'],\n",
    " '2': ['10006'],\n",
    " '3': []\n",
    "}"
   ]
  },
  {
   "cell_type": "code",
   "execution_count": null,
   "metadata": {},
   "outputs": [
    {
     "name": "stdout",
     "output_type": "stream",
     "text": [
      "Введите команду: s\n",
      "По номеру документа узнать на какой полке он хранится\n",
      "Введите номер документа: 10006\n",
      "2\n",
      "Введите команду: s\n",
      "По номеру документа узнать на какой полке он хранится\n",
      "Введите номер документа: 10007\n",
      "Документ не найден\n",
      "Введите команду: p\n",
      "Узнать владельца документа по его номеру\n",
      "Введите номер документа: 11-2\n",
      "Геннадий Покемонов\n",
      "Введите команду: 2207 876234\n",
      "Не знаю такой команды\n",
      "Введите команду: p\n",
      "Узнать владельца документа по его номеру\n",
      "Введите номер документа: 2207 876234\n",
      "Василий Гупкин\n",
      "Введите команду: s\n",
      "По номеру документа узнать на какой полке он хранится\n",
      "Введите номер документа: 2207 876234\n",
      "1\n"
     ]
    }
   ],
   "source": [
    "while True:\n",
    "    user_input = input('Введите команду: ')\n",
    "    if user_input == 'p':\n",
    "        print('Узнать владельца документа по его номеру')\n",
    "        \n",
    "        doc_input = input('Введите номер документа: ')\n",
    "        \n",
    "        found = False\n",
    "        for i in documents:\n",
    "            if i['number'] == doc_input:\n",
    "                print(i['name'])\n",
    "                found = True\n",
    "            \n",
    "        if found == False:\n",
    "            print('Документ не найден')\n",
    "        \n",
    "    elif user_input == 's':\n",
    "        print('По номеру документа узнать на какой полке он хранится')\n",
    "        \n",
    "        doc_input = input('Введите номер документа: ')\n",
    "        \n",
    "        found = False\n",
    "        for k, v in directories.items():\n",
    "            if doc_input in v:\n",
    "                print(k)\n",
    "                found = True\n",
    "        \n",
    "        if found == False:\n",
    "            print('Документ не найден')\n",
    "        \n",
    "        \n",
    "    elif user_input == 'l':\n",
    "        print('Увидеть полную информацию по всем документам')\n",
    "        \n",
    "        # Повторить два предыщущих блока\n",
    "        \n",
    "        \n",
    "    elif user_input == 'as':\n",
    "        print('Добавить новую полку')\n",
    "        \n",
    "        \n",
    "        \n",
    "    elif user_input == 'ds':\n",
    "        print('Удалить существующую полку из данных (только если пустая)')\n",
    "\n",
    "        \n",
    "        \n",
    "    elif user_input == 'q':\n",
    "        print('Выход')\n",
    "        break\n",
    "        \n",
    "        \n",
    "    else:\n",
    "        print('Не знаю такой команды')\n",
    "    "
   ]
  },
  {
   "cell_type": "code",
   "execution_count": null,
   "metadata": {},
   "outputs": [],
   "source": []
  }
 ],
 "metadata": {
  "kernelspec": {
   "display_name": "Python 3",
   "language": "python",
   "name": "python3"
  },
  "language_info": {
   "codemirror_mode": {
    "name": "ipython",
    "version": 3
   },
   "file_extension": ".py",
   "mimetype": "text/x-python",
   "name": "python",
   "nbconvert_exporter": "python",
   "pygments_lexer": "ipython3",
   "version": "3.8.3"
  }
 },
 "nbformat": 4,
 "nbformat_minor": 4
}
