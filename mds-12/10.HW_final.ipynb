{
 "cells": [
  {
   "cell_type": "markdown",
   "metadata": {},
   "source": [
    "# Итоговая работа"
   ]
  },
  {
   "cell_type": "code",
   "execution_count": 2,
   "metadata": {},
   "outputs": [],
   "source": [
    "import matplotlib.pyplot as plt\n",
    "import numpy as np\n",
    "from sympy import *\n",
    "\n",
    "import math\n",
    "%matplotlib inline"
   ]
  },
  {
   "cell_type": "markdown",
   "metadata": {},
   "source": [
    "## Задание 1\n",
    "\n",
    "Дана матрица рейтингов фильмов (строки - пользователи (10 человек), столбцы - фильмы (15 фильмов))"
   ]
  },
  {
   "cell_type": "code",
   "execution_count": 3,
   "metadata": {},
   "outputs": [],
   "source": [
    "ratings = np.array([[ 4,  4,  9,  4,  1,  6, 10,  7,  9,  6,  9,  2,  8,  6,  6],\n",
    "                     [ 9,  2,  5, 10,  7,  8, 10,  5,  6,  2,  1,  6,  8,  9,  7],\n",
    "                     [ 1,  6,  8,  8,  4,  9,  3,  8, 10,  5,  2,  6,  8,  1,  6],\n",
    "                     [ 6,  1,  9,  7,  7,  9,  2,  3,  5,  1,  6,  6,  3,  2,  7],\n",
    "                     [ 3,  7,  3,  5,  7,  9,  9,  6,  2,  9,  1,  2,  8, 10,  6],\n",
    "                     [ 8,  3,  7,  3,  8,  6,  1,  8,  8,  6,  1,  9,  4, 10,  1],\n",
    "                     [ 9,  8,  4,  8,  8, 10,  6,  1,  1,  2,  9,  5,  2,  7,  2],\n",
    "                     [ 4,  1,  6,  4,  3, 10,  4,  4,  2,  8,  7,  9,  3,  8,  3],\n",
    "                     [ 2,  7,  7,  6, 10,  6,  8,  9,  8,  6, 10,  1,  7, 10,  4],\n",
    "                     [ 5, 10,  8,  8,  9,  7,  2,  9,  9, 10,  8,  8,  8,  6, 10]])"
   ]
  },
  {
   "cell_type": "markdown",
   "metadata": {},
   "source": [
    "a) Необходимо найти наиболее похожего пользователя по косинусной метрике для каждого пользователя (ответ: 10 пар вида (x, y), где y - наиболее похожий пользователь на пользователя x)."
   ]
  },
  {
   "cell_type": "code",
   "execution_count": 4,
   "metadata": {},
   "outputs": [],
   "source": [
    "def cosine( a, b ):\n",
    "    \"\"\"\n",
    "    Подсчет косинуса угла между векторами a, b по их координатам\n",
    "    \"\"\"\n",
    "    \n",
    "    # длины векторов\n",
    "    aLength = np.linalg.norm( a )\n",
    "    bLength = np.linalg.norm( b )\n",
    "    \n",
    "    return np.dot( a, b ) / ( aLength * bLength )"
   ]
  },
  {
   "cell_type": "code",
   "execution_count": 5,
   "metadata": {
    "scrolled": false
   },
   "outputs": [
    {
     "name": "stdout",
     "output_type": "stream",
     "text": [
      "User 1 ([ 4  4  9  4  1  6 10  7  9  6  9  2  8  6  6]) is most similar to\n",
      "User 9 ([ 2  7  7  6 10  6  8  9  8  6 10  1  7 10  4]) with cosine similarity of 0.911\n",
      "\n",
      "\n",
      "User 2 ([ 9  2  5 10  7  8 10  5  6  2  1  6  8  9  7]) is most similar to\n",
      "User 5 ([ 3  7  3  5  7  9  9  6  2  9  1  2  8 10  6]) with cosine similarity of 0.871\n",
      "\n",
      "\n",
      "User 3 ([ 1  6  8  8  4  9  3  8 10  5  2  6  8  1  6]) is most similar to\n",
      "User 10 ([ 5 10  8  8  9  7  2  9  9 10  8  8  8  6 10]) with cosine similarity of 0.919\n",
      "\n",
      "\n",
      "User 4 ([6 1 9 7 7 9 2 3 5 1 6 6 3 2 7]) is most similar to\n",
      "User 10 ([ 5 10  8  8  9  7  2  9  9 10  8  8  8  6 10]) with cosine similarity of 0.859\n",
      "\n",
      "\n",
      "User 5 ([ 3  7  3  5  7  9  9  6  2  9  1  2  8 10  6]) is most similar to\n",
      "User 9 ([ 2  7  7  6 10  6  8  9  8  6 10  1  7 10  4]) with cosine similarity of 0.879\n",
      "\n",
      "\n",
      "User 6 ([ 8  3  7  3  8  6  1  8  8  6  1  9  4 10  1]) is most similar to\n",
      "User 10 ([ 5 10  8  8  9  7  2  9  9 10  8  8  8  6 10]) with cosine similarity of 0.855\n",
      "\n",
      "\n",
      "User 7 ([ 9  8  4  8  8 10  6  1  1  2  9  5  2  7  2]) is most similar to\n",
      "User 4 ([6 1 9 7 7 9 2 3 5 1 6 6 3 2 7]) with cosine similarity of 0.833\n",
      "\n",
      "\n",
      "User 8 ([ 4  1  6  4  3 10  4  4  2  8  7  9  3  8  3]) is most similar to\n",
      "User 6 ([ 8  3  7  3  8  6  1  8  8  6  1  9  4 10  1]) with cosine similarity of 0.845\n",
      "\n",
      "\n",
      "User 9 ([ 2  7  7  6 10  6  8  9  8  6 10  1  7 10  4]) is most similar to\n",
      "User 1 ([ 4  4  9  4  1  6 10  7  9  6  9  2  8  6  6]) with cosine similarity of 0.911\n",
      "\n",
      "\n",
      "User 10 ([ 5 10  8  8  9  7  2  9  9 10  8  8  8  6 10]) is most similar to\n",
      "User 3 ([ 1  6  8  8  4  9  3  8 10  5  2  6  8  1  6]) with cosine similarity of 0.919\n",
      "\n",
      "\n"
     ]
    }
   ],
   "source": [
    "for i, user in enumerate(ratings, 1):\n",
    "    print(f'User {i} ({user}) is most similar to')\n",
    "    max_so_far = 0\n",
    "    for similar_user in ratings:\n",
    "        similarity = round(cosine( user, similar_user ), 3)\n",
    "        if similarity == 1.0:\n",
    "            continue\n",
    "        elif max_so_far < similarity:\n",
    "            max_so_far = similarity\n",
    "    for k, similar_user in enumerate(ratings, 1):\n",
    "        similarity = round(cosine( user, similar_user ), 3)\n",
    "        if max_so_far == similarity:\n",
    "            print(f'User {k} ({similar_user}) with cosine similarity of {similarity}')\n",
    "    print('\\n')"
   ]
  },
  {
   "cell_type": "code",
   "execution_count": 6,
   "metadata": {},
   "outputs": [
    {
     "name": "stdout",
     "output_type": "stream",
     "text": [
      "0 8\n",
      "1 4\n",
      "2 9\n",
      "3 9\n",
      "4 8\n",
      "5 9\n",
      "6 3\n",
      "7 5\n",
      "8 0\n",
      "9 2\n"
     ]
    }
   ],
   "source": [
    "from sklearn.metrics import pairwise_distances\n",
    "\n",
    "user_index = 0\n",
    "\n",
    "for i in pairwise_distances(ratings, metric=\"cosine\"):\n",
    "    print(user_index, list(i).index(np.min(i[np.nonzero(i)])))\n",
    "    user_index += 1"
   ]
  },
  {
   "cell_type": "markdown",
   "metadata": {},
   "source": [
    "b) Предположим, вы захотели сжать признаковые описания пользователя с 15 фильмов, до, скажем, 5-ти признаков, как вы это сделаете?"
   ]
  },
  {
   "cell_type": "code",
   "execution_count": 7,
   "metadata": {},
   "outputs": [],
   "source": [
    "from sklearn.decomposition import TruncatedSVD"
   ]
  },
  {
   "cell_type": "code",
   "execution_count": 8,
   "metadata": {},
   "outputs": [],
   "source": [
    "svd = TruncatedSVD(5)\n",
    "ratings_transformed = svd.fit_transform(ratings)"
   ]
  },
  {
   "cell_type": "code",
   "execution_count": 9,
   "metadata": {},
   "outputs": [
    {
     "data": {
      "text/plain": [
       "array([[23.41982063, -5.36092136,  3.83196779, -4.06950174,  1.10267269],\n",
       "       [24.76774917,  4.52188701,  1.35815965,  1.58128545,  8.59912002],\n",
       "       [22.27728589, -6.96492049, -4.84461485, -0.47661647,  3.37152266],\n",
       "       [19.4257757 ,  2.64575227, -6.86014009, -4.76604765,  1.96075707],\n",
       "       [22.8146354 ,  0.51464093,  7.70180188,  4.42379773,  1.29124163],\n",
       "       [21.76961656,  1.94294987, -4.56934779,  8.32306487, -2.21887359],\n",
       "       [21.23427453,  9.78047778,  1.16340271, -4.86074521, -2.60815471],\n",
       "       [19.97476815,  4.00048677, -1.67456316,  1.1512346 , -3.5637169 ],\n",
       "       [26.39306998, -3.03090482,  5.86422753, -1.67503491, -3.71500141],\n",
       "       [29.94016844, -4.82012297, -3.48912415,  0.05527083, -3.62526487]])"
      ]
     },
     "execution_count": 9,
     "metadata": {},
     "output_type": "execute_result"
    }
   ],
   "source": [
    "ratings_transformed"
   ]
  },
  {
   "cell_type": "code",
   "execution_count": 10,
   "metadata": {},
   "outputs": [
    {
     "data": {
      "text/plain": [
       "array([0.07951819, 0.22322522, 0.19305559, 0.14061375, 0.12711606])"
      ]
     },
     "execution_count": 10,
     "metadata": {},
     "output_type": "execute_result"
    }
   ],
   "source": [
    "svd.explained_variance_ratio_"
   ]
  },
  {
   "cell_type": "code",
   "execution_count": 11,
   "metadata": {},
   "outputs": [],
   "source": [
    "from sklearn.decomposition import PCA\n",
    "import pandas as pd"
   ]
  },
  {
   "cell_type": "code",
   "execution_count": 12,
   "metadata": {},
   "outputs": [],
   "source": [
    "pca = PCA(n_components=5)\n",
    "principalComponents = pca.fit_transform(ratings)\n",
    "principalDf = pd.DataFrame(data = principalComponents, columns = ['PC 1', 'PC 2', 'PC 3', 'PC 4', 'PC 5'])"
   ]
  },
  {
   "cell_type": "code",
   "execution_count": 13,
   "metadata": {},
   "outputs": [
    {
     "data": {
      "text/html": [
       "<div>\n",
       "<style scoped>\n",
       "    .dataframe tbody tr th:only-of-type {\n",
       "        vertical-align: middle;\n",
       "    }\n",
       "\n",
       "    .dataframe tbody tr th {\n",
       "        vertical-align: top;\n",
       "    }\n",
       "\n",
       "    .dataframe thead th {\n",
       "        text-align: right;\n",
       "    }\n",
       "</style>\n",
       "<table border=\"1\" class=\"dataframe\">\n",
       "  <thead>\n",
       "    <tr style=\"text-align: right;\">\n",
       "      <th></th>\n",
       "      <th>PC 1</th>\n",
       "      <th>PC 2</th>\n",
       "      <th>PC 3</th>\n",
       "      <th>PC 4</th>\n",
       "      <th>PC 5</th>\n",
       "    </tr>\n",
       "  </thead>\n",
       "  <tbody>\n",
       "    <tr>\n",
       "      <th>0</th>\n",
       "      <td>-5.309861</td>\n",
       "      <td>1.929198</td>\n",
       "      <td>-4.933000</td>\n",
       "      <td>2.701880</td>\n",
       "      <td>5.504979</td>\n",
       "    </tr>\n",
       "    <tr>\n",
       "      <th>1</th>\n",
       "      <td>2.877634</td>\n",
       "      <td>2.716596</td>\n",
       "      <td>1.405928</td>\n",
       "      <td>7.263258</td>\n",
       "      <td>-4.503223</td>\n",
       "    </tr>\n",
       "    <tr>\n",
       "      <th>2</th>\n",
       "      <td>-4.940104</td>\n",
       "      <td>-6.688612</td>\n",
       "      <td>-0.945502</td>\n",
       "      <td>3.615567</td>\n",
       "      <td>-0.689693</td>\n",
       "    </tr>\n",
       "    <tr>\n",
       "      <th>3</th>\n",
       "      <td>5.149399</td>\n",
       "      <td>-6.280273</td>\n",
       "      <td>-4.659786</td>\n",
       "      <td>1.090240</td>\n",
       "      <td>-1.014711</td>\n",
       "    </tr>\n",
       "    <tr>\n",
       "      <th>4</th>\n",
       "      <td>-1.374887</td>\n",
       "      <td>7.543580</td>\n",
       "      <td>4.008344</td>\n",
       "      <td>2.128400</td>\n",
       "      <td>-0.163249</td>\n",
       "    </tr>\n",
       "    <tr>\n",
       "      <th>5</th>\n",
       "      <td>2.653420</td>\n",
       "      <td>-3.770756</td>\n",
       "      <td>8.584307</td>\n",
       "      <td>-1.466283</td>\n",
       "      <td>1.674018</td>\n",
       "    </tr>\n",
       "    <tr>\n",
       "      <th>6</th>\n",
       "      <td>8.615739</td>\n",
       "      <td>3.786033</td>\n",
       "      <td>-4.027210</td>\n",
       "      <td>-4.375826</td>\n",
       "      <td>-3.138803</td>\n",
       "    </tr>\n",
       "    <tr>\n",
       "      <th>7</th>\n",
       "      <td>5.396583</td>\n",
       "      <td>-1.017047</td>\n",
       "      <td>1.014567</td>\n",
       "      <td>-1.895128</td>\n",
       "      <td>6.548835</td>\n",
       "    </tr>\n",
       "    <tr>\n",
       "      <th>8</th>\n",
       "      <td>-5.784349</td>\n",
       "      <td>5.298571</td>\n",
       "      <td>-1.480836</td>\n",
       "      <td>-3.712955</td>\n",
       "      <td>0.213127</td>\n",
       "    </tr>\n",
       "    <tr>\n",
       "      <th>9</th>\n",
       "      <td>-7.283574</td>\n",
       "      <td>-3.517291</td>\n",
       "      <td>1.033188</td>\n",
       "      <td>-5.349152</td>\n",
       "      <td>-4.431280</td>\n",
       "    </tr>\n",
       "  </tbody>\n",
       "</table>\n",
       "</div>"
      ],
      "text/plain": [
       "       PC 1      PC 2      PC 3      PC 4      PC 5\n",
       "0 -5.309861  1.929198 -4.933000  2.701880  5.504979\n",
       "1  2.877634  2.716596  1.405928  7.263258 -4.503223\n",
       "2 -4.940104 -6.688612 -0.945502  3.615567 -0.689693\n",
       "3  5.149399 -6.280273 -4.659786  1.090240 -1.014711\n",
       "4 -1.374887  7.543580  4.008344  2.128400 -0.163249\n",
       "5  2.653420 -3.770756  8.584307 -1.466283  1.674018\n",
       "6  8.615739  3.786033 -4.027210 -4.375826 -3.138803\n",
       "7  5.396583 -1.017047  1.014567 -1.895128  6.548835\n",
       "8 -5.784349  5.298571 -1.480836 -3.712955  0.213127\n",
       "9 -7.283574 -3.517291  1.033188 -5.349152 -4.431280"
      ]
     },
     "execution_count": 13,
     "metadata": {},
     "output_type": "execute_result"
    }
   ],
   "source": [
    "principalDf"
   ]
  },
  {
   "cell_type": "code",
   "execution_count": 14,
   "metadata": {},
   "outputs": [
    {
     "data": {
      "text/plain": [
       "array([0.25373748, 0.1970209 , 0.14113306, 0.12956371, 0.11289928])"
      ]
     },
     "execution_count": 14,
     "metadata": {},
     "output_type": "execute_result"
    }
   ],
   "source": [
    "pca.explained_variance_ratio_"
   ]
  },
  {
   "cell_type": "markdown",
   "metadata": {},
   "source": [
    "## Задание 2\n",
    "\n",
    "$f(x) = tg^2(sin(x) + cos (2x + 3))$  в точке $x_0 = 1$. Найти производную в python и на бумаге."
   ]
  },
  {
   "cell_type": "code",
   "execution_count": 15,
   "metadata": {},
   "outputs": [],
   "source": [
    "x = Symbol('x')\n",
    "f = tan(sin(x)+cos(2*x+3))**2\n",
    "f_prime = f.diff(x)"
   ]
  },
  {
   "cell_type": "code",
   "execution_count": 16,
   "metadata": {},
   "outputs": [
    {
     "data": {
      "text/latex": [
       "$\\displaystyle \\tan^{2}{\\left(\\sin{\\left(x \\right)} + \\cos{\\left(2 x + 3 \\right)} \\right)}$"
      ],
      "text/plain": [
       "tan(sin(x) + cos(2*x + 3))**2"
      ]
     },
     "execution_count": 16,
     "metadata": {},
     "output_type": "execute_result"
    }
   ],
   "source": [
    "f"
   ]
  },
  {
   "cell_type": "code",
   "execution_count": 17,
   "metadata": {},
   "outputs": [
    {
     "data": {
      "text/latex": [
       "$\\displaystyle 2 \\left(- 2 \\sin{\\left(2 x + 3 \\right)} + \\cos{\\left(x \\right)}\\right) \\left(\\tan^{2}{\\left(\\sin{\\left(x \\right)} + \\cos{\\left(2 x + 3 \\right)} \\right)} + 1\\right) \\tan{\\left(\\sin{\\left(x \\right)} + \\cos{\\left(2 x + 3 \\right)} \\right)}$"
      ],
      "text/plain": [
       "2*(-2*sin(2*x + 3) + cos(x))*(tan(sin(x) + cos(2*x + 3))**2 + 1)*tan(sin(x) + cos(2*x + 3))"
      ]
     },
     "execution_count": 17,
     "metadata": {},
     "output_type": "execute_result"
    }
   ],
   "source": [
    "f_prime"
   ]
  },
  {
   "cell_type": "code",
   "execution_count": 18,
   "metadata": {},
   "outputs": [
    {
     "data": {
      "text/plain": [
       "55.385917635337854"
      ]
     },
     "execution_count": 18,
     "metadata": {},
     "output_type": "execute_result"
    }
   ],
   "source": [
    "f = lambdify(x, f)\n",
    "f_prime = lambdify(x, f_prime)\n",
    "f_prime(1)"
   ]
  },
  {
   "cell_type": "markdown",
   "metadata": {},
   "source": [
    "$f(x) = tan^2 (sin(x) + cos(2x+3))$"
   ]
  },
  {
   "cell_type": "markdown",
   "metadata": {},
   "source": [
    "$f'(x) = 2(cos(x) - 2sin(2x+3)) sec^2(cos(2x+3)+sin(x))tan(cos(2x+3)+sin(x))$"
   ]
  },
  {
   "cell_type": "markdown",
   "metadata": {},
   "source": [
    "$f'(1) = 2\\times((cos(1) - 2sin(2\\times1 +3)) \\times sec^2(cos(2\\times1 + 3)+sin(1)) \\times tan(cos(2\\times1+3)+sin(1)) = 55.386$"
   ]
  },
  {
   "cell_type": "code",
   "execution_count": null,
   "metadata": {},
   "outputs": [],
   "source": []
  },
  {
   "cell_type": "markdown",
   "metadata": {},
   "source": [
    "## Задание 3\n",
    "\n",
    "Дана функция с неизвестными параметрами a и b, вам также известны значения функции fx в точках x. Найдите оптимальные параметры a, b, минимизирующие абсолютную ошибку error."
   ]
  },
  {
   "cell_type": "code",
   "execution_count": 19,
   "metadata": {},
   "outputs": [],
   "source": [
    "from scipy.optimize import minimize"
   ]
  },
  {
   "cell_type": "code",
   "execution_count": 20,
   "metadata": {},
   "outputs": [],
   "source": [
    "def f(x, a, b):\n",
    "    return np.e**a * np.sin(b*x) + x"
   ]
  },
  {
   "cell_type": "code",
   "execution_count": 21,
   "metadata": {},
   "outputs": [],
   "source": [
    "x = np.array([0.        , 0.26315789, 0.52631579, 0.78947368, 1.05263158,\n",
    "              1.31578947, 1.57894737, 1.84210526, 2.10526316, 2.36842105,\n",
    "              2.63157895, 2.89473684, 3.15789474, 3.42105263, 3.68421053,\n",
    "              3.94736842, 4.21052632, 4.47368421, 4.73684211, 5.        ])"
   ]
  },
  {
   "cell_type": "code",
   "execution_count": 22,
   "metadata": {},
   "outputs": [],
   "source": [
    "fx = np.array([  0.        , -12.01819092, -18.90968634, -17.68786571,\n",
    "                -8.7529108 ,   4.27524517,  16.06801336,  21.81250213,\n",
    "                19.22059845,   9.48411207,  -3.22273056, -13.48576488,\n",
    "               -16.91096359, -11.95866834,  -0.58630088,  12.56873816,\n",
    "                22.12489421,  24.20292139,  18.04522521,   6.33211092])"
   ]
  },
  {
   "cell_type": "code",
   "execution_count": 23,
   "metadata": {},
   "outputs": [
    {
     "data": {
      "image/png": "[encoded data removed]",
      "text/plain": [
       "<Figure size 432x288 with 1 Axes>"
      ]
     },
     "metadata": {
      "needs_background": "light"
     },
     "output_type": "display_data"
    }
   ],
   "source": [
    "plt.plot(x, fx)\n",
    "plt.show()"
   ]
  },
  {
   "cell_type": "code",
   "execution_count": 28,
   "metadata": {},
   "outputs": [],
   "source": [
    "a = []\n",
    "b = []\n",
    "\n",
    "for i in range(20):\n",
    "    def error(params):\n",
    "        return np.sum(np.abs(fx[i] - f(x[i], params[0], params[1])))\n",
    "    \n",
    "    x_initial = np.array([0, 0])\n",
    "    \n",
    "    res = minimize(error, x_initial, method = 'COBYLA')\n",
    "    a.append(res.x[0])\n",
    "    b.append(res.x[1])"
   ]
  },
  {
   "cell_type": "code",
   "execution_count": 29,
   "metadata": {},
   "outputs": [
    {
     "data": {
      "text/plain": [
       "array([ 0.28742268, -0.93466439])"
      ]
     },
     "execution_count": 29,
     "metadata": {},
     "output_type": "execute_result"
    }
   ],
   "source": [
    "# res.x"
   ]
  },
  {
   "cell_type": "code",
   "execution_count": 25,
   "metadata": {},
   "outputs": [
    {
     "name": "stdout",
     "output_type": "stream",
     "text": [
      "[0.0, 2.811401387700519, 3.14909190802297, 2.917605707016274, 2.340087152508976, 1.1282124367199577, 2.7595797458877893, 2.9972235206177276, 2.856968781758458, 1.9932052121022024, 1.7700697317606846, 2.818051689769964, 3.123228529521066, 2.7351824151456445, 1.4554232794755138, 2.2021401744115874, 2.8865624883601977, 2.982650313122326, 2.5989665834097484, 0.2874226809019529]\n"
     ]
    }
   ],
   "source": [
    "print(a)"
   ]
  },
  {
   "cell_type": "code",
   "execution_count": 26,
   "metadata": {},
   "outputs": [
    {
     "name": "stdout",
     "output_type": "stream",
     "text": [
      "[0.0, -3.1567684108070675, -4.0959331524674765, -1.9344744975027817, -1.1739084005036162, 0.9716128016822525, 0.7354347570102733, 0.8115854817188071, 0.8338570909284111, 0.5589741805913602, -0.625124148247652, -0.4707640104719594, 1.6466125027499858, 1.358633906240041, 1.256046289294116, -1.2715869442883678, -1.108287811190607, -1.0617113020381086, -1.0256841969077064, -0.9346643918199722]\n"
     ]
    }
   ],
   "source": [
    "print(b)"
   ]
  },
  {
   "cell_type": "code",
   "execution_count": 27,
   "metadata": {},
   "outputs": [
    {
     "ename": "TypeError",
     "evalue": "unsupported operand type(s) for ** or pow(): 'float' and 'list'",
     "output_type": "error",
     "traceback": [
      "\u001b[1;31m---------------------------------------------------------------------------\u001b[0m",
      "\u001b[1;31mTypeError\u001b[0m                                 Traceback (most recent call last)",
      "\u001b[1;32m<ipython-input-27-7a3c6c0741b1>\u001b[0m in \u001b[0;36m<module>\u001b[1;34m\u001b[0m\n\u001b[1;32m----> 1\u001b[1;33m \u001b[0mf\u001b[0m\u001b[1;33m(\u001b[0m\u001b[0mx\u001b[0m\u001b[1;33m,\u001b[0m \u001b[0ma\u001b[0m\u001b[1;33m,\u001b[0m \u001b[0mb\u001b[0m\u001b[1;33m)\u001b[0m\u001b[1;33m\u001b[0m\u001b[1;33m\u001b[0m\u001b[0m\n\u001b[0m",
      "\u001b[1;32m<ipython-input-20-eae290ae639a>\u001b[0m in \u001b[0;36mf\u001b[1;34m(x, a, b)\u001b[0m\n\u001b[0;32m      1\u001b[0m \u001b[1;32mdef\u001b[0m \u001b[0mf\u001b[0m\u001b[1;33m(\u001b[0m\u001b[0mx\u001b[0m\u001b[1;33m,\u001b[0m \u001b[0ma\u001b[0m\u001b[1;33m,\u001b[0m \u001b[0mb\u001b[0m\u001b[1;33m)\u001b[0m\u001b[1;33m:\u001b[0m\u001b[1;33m\u001b[0m\u001b[1;33m\u001b[0m\u001b[0m\n\u001b[1;32m----> 2\u001b[1;33m     \u001b[1;32mreturn\u001b[0m \u001b[0mnp\u001b[0m\u001b[1;33m.\u001b[0m\u001b[0me\u001b[0m\u001b[1;33m**\u001b[0m\u001b[0ma\u001b[0m \u001b[1;33m*\u001b[0m \u001b[0mnp\u001b[0m\u001b[1;33m.\u001b[0m\u001b[0msin\u001b[0m\u001b[1;33m(\u001b[0m\u001b[0mb\u001b[0m\u001b[1;33m*\u001b[0m\u001b[0mx\u001b[0m\u001b[1;33m)\u001b[0m \u001b[1;33m+\u001b[0m \u001b[0mx\u001b[0m\u001b[1;33m\u001b[0m\u001b[1;33m\u001b[0m\u001b[0m\n\u001b[0m",
      "\u001b[1;31mTypeError\u001b[0m: unsupported operand type(s) for ** or pow(): 'float' and 'list'"
     ]
    }
   ],
   "source": [
    "f(x, a, b)"
   ]
  },
  {
   "cell_type": "code",
   "execution_count": 28,
   "metadata": {},
   "outputs": [
    {
     "data": {
      "image/png": "[encoded data removed]",
      "text/plain": [
       "<Figure size 1080x576 with 1 Axes>"
      ]
     },
     "metadata": {
      "needs_background": "light"
     },
     "output_type": "display_data"
    }
   ],
   "source": [
    "# 100 linearly spaced numbers\n",
    "x = np.linspace(-5,5,500)\n",
    "\n",
    "# the functions\n",
    "res = np.e**np.mean(a) * np.sin(np.mean(b)*x) + x\n",
    "\n",
    "# setting the axes at the centre\n",
    "fig = plt.figure(figsize=(15,8))\n",
    "ax = fig.add_subplot(1, 1, 1)\n",
    "ax.spines['left'].set_position('center')\n",
    "ax.spines['bottom'].set_position('center')\n",
    "ax.spines['right'].set_color('none')\n",
    "ax.spines['top'].set_color('none')\n",
    "ax.xaxis.set_ticks_position('bottom')\n",
    "ax.yaxis.set_ticks_position('left')\n",
    "\n",
    "# plot the functions\n",
    "plt.plot(x,res, color=\"red\")\n",
    "\n",
    "# show the plot\n",
    "plt.show()"
   ]
  },
  {
   "cell_type": "code",
   "execution_count": 29,
   "metadata": {},
   "outputs": [],
   "source": [
    "from scipy.optimize import differential_evolution"
   ]
  },
  {
   "cell_type": "code",
   "execution_count": 30,
   "metadata": {},
   "outputs": [],
   "source": [
    "bounds = [(-5, 5), (-25, 25)]"
   ]
  },
  {
   "cell_type": "code",
   "execution_count": 31,
   "metadata": {},
   "outputs": [],
   "source": [
    "a = []\n",
    "b = []\n",
    "\n",
    "for i in range(20):\n",
    "    def error(params):\n",
    "        return np.sum(np.abs(fx[i] - f(x[i], params[0], params[1])))\n",
    "    \n",
    "    res = differential_evolution(error, \n",
    "                                bounds,\n",
    "                                popsize = 15, \n",
    "                                tol=0.09, \n",
    "                                mutation=0.1, \n",
    "                                recombination=0.7, \n",
    "                                seed=42, \n",
    "                                updating='immediate')\n",
    "    a.append(res.x[0])\n",
    "    b.append(res.x[1])"
   ]
  },
  {
   "cell_type": "code",
   "execution_count": 32,
   "metadata": {},
   "outputs": [
    {
     "name": "stdout",
     "output_type": "stream",
     "text": [
      "[1.612563228623215, 1.9517776576905932, 3.062573979352404, 3.0796979017600146, 2.8754944974319963, 2.2523138119914066, 3.0467453079566376, 3.433447421388961, 3.183354152941462, 2.833514802149427, 0.584240553059634, 2.2226440251447945, 2.5000850813016218, 3.153131814700801, 1.9106145260307783, 2.926782249905929, 3.344778003131296, 3.5363095072821316, 3.6850026350058207, 2.397441188790398]\n"
     ]
    }
   ],
   "source": [
    "print(a)"
   ]
  },
  {
   "cell_type": "code",
   "execution_count": 33,
   "metadata": {},
   "outputs": [
    {
     "name": "stdout",
     "output_type": "stream",
     "text": [
      "[7.241467056379896, 10.403150104915133, -17.591788196982847, -3.6890294931113705, 17.19672747700023, 13.839408358731509, -14.505396322233635, -21.11965594919337, -17.217441312263354, 14.132934067093489, -12.212724863441979, -6.315261154605767, -10.24626154184856, 3.248134031398103, 10.124518841699953, 7.6049425288505725, 9.13451687932209, -15.04795504190675, -10.027036806707592, 7.801972712732957]\n"
     ]
    }
   ],
   "source": [
    "print(b)"
   ]
  },
  {
   "cell_type": "code",
   "execution_count": 34,
   "metadata": {},
   "outputs": [
    {
     "data": {
      "image/png": "[encoded data removed]",
      "text/plain": [
       "<Figure size 1080x576 with 1 Axes>"
      ]
     },
     "metadata": {
      "needs_background": "light"
     },
     "output_type": "display_data"
    }
   ],
   "source": [
    "# 100 linearly spaced numbers\n",
    "x = np.linspace(-5,5,500)\n",
    "\n",
    "# the functions\n",
    "res = np.e**np.mean(a) * np.sin(np.mean(b)*x) + x\n",
    "\n",
    "# setting the axes at the centre\n",
    "fig = plt.figure(figsize=(15,8))\n",
    "ax = fig.add_subplot(1, 1, 1)\n",
    "ax.spines['left'].set_position('center')\n",
    "ax.spines['bottom'].set_position('center')\n",
    "ax.spines['right'].set_color('none')\n",
    "ax.spines['top'].set_color('none')\n",
    "ax.xaxis.set_ticks_position('bottom')\n",
    "ax.yaxis.set_ticks_position('left')\n",
    "\n",
    "# plot the functions\n",
    "plt.plot(x,res, color=\"red\")\n",
    "\n",
    "# show the plot\n",
    "plt.show()"
   ]
  },
  {
   "cell_type": "markdown",
   "metadata": {},
   "source": [
    "## Задание 4\n",
    "\n",
    "Создайте собственную дискретную случайную величину с 20 значениями. Сгенерируйте 1000 выборок размера 50. Посчитайте среднее для каждой выборки. Постройте гистограмму распределения средних."
   ]
  },
  {
   "cell_type": "code",
   "execution_count": 40,
   "metadata": {},
   "outputs": [],
   "source": [
    "means = np.array([])\n",
    "\n",
    "for i in range(1000):\n",
    "    sample = np.random.randint(20, size=50)\n",
    "    means = np.append(means, sample.mean())"
   ]
  },
  {
   "cell_type": "code",
   "execution_count": 41,
   "metadata": {},
   "outputs": [
    {
     "data": {
      "image/png": "[encoded data removed]",
      "text/plain": [
       "<Figure size 432x288 with 1 Axes>"
      ]
     },
     "metadata": {
      "needs_background": "light"
     },
     "output_type": "display_data"
    }
   ],
   "source": [
    "plt.hist(means, bins=10)\n",
    "plt.show()"
   ]
  },
  {
   "cell_type": "markdown",
   "metadata": {},
   "source": [
    "## Задание 5\n",
    "\n",
    "Найдите собственные значения и собственные вектора матрицы (на python и на бумаге):"
   ]
  },
  {
   "cell_type": "code",
   "execution_count": 42,
   "metadata": {},
   "outputs": [],
   "source": [
    "from scipy import linalg"
   ]
  },
  {
   "cell_type": "code",
   "execution_count": 43,
   "metadata": {},
   "outputs": [
    {
     "name": "stdout",
     "output_type": "stream",
     "text": [
      "[[1 4]\n",
      " [1 1]]\n"
     ]
    }
   ],
   "source": [
    "m = np.array([[1, 4],\n",
    "              [1, 1]])\n",
    "print(m)"
   ]
  },
  {
   "cell_type": "code",
   "execution_count": 44,
   "metadata": {},
   "outputs": [
    {
     "name": "stdout",
     "output_type": "stream",
     "text": [
      "Собственное значение (3+0j) 0\n",
      "соответствующий ему собственный вектор [0.89442719 0.4472136 ]\n",
      "Собственное значение (-1+0j) 0\n",
      "соответствующий ему собственный вектор [-0.89442719  0.4472136 ]\n"
     ]
    }
   ],
   "source": [
    "a, U = linalg.eig(m)\n",
    "\n",
    "for i in range(len(a)):\n",
    "    print(\"Собственное значение \" + str(np.round(a[i])), 0)\n",
    "    print(\"соответствующий ему собственный вектор \" + str(U[:,i]))"
   ]
  },
  {
   "cell_type": "code",
   "execution_count": null,
   "metadata": {},
   "outputs": [],
   "source": []
  },
  {
   "cell_type": "markdown",
   "metadata": {},
   "source": [
    "$det(A-\\lambda I) = 0$\n",
    "\n",
    "\n",
    "$\\begin{bmatrix} \n",
    "1-\\lambda & 4 \\\\\n",
    "1 & 1-\\lambda \\\\\n",
    "\\end{bmatrix}$\n",
    "\n",
    "$(1-\\lambda)^2 - 4 = 0$\n",
    "\n",
    "$\\lambda_1 = -1$\n",
    "\n",
    "$\\begin{bmatrix} \n",
    "2 & 4 \\\\\n",
    "1 & 2 \\\\\n",
    "\\end{bmatrix}\n",
    "\\times\n",
    "\\begin{bmatrix} \n",
    "x_1 \\\\\n",
    "x_2 \\\\\n",
    "\\end{bmatrix}\n",
    "= 0 $\n",
    "\n",
    "$\\begin{equation}\n",
    "\\begin{cases}\n",
    "2x_1 + 4x_2 = 0 \\\\\n",
    "x_1 + 2x_2 = 0\n",
    "\\end{cases}\n",
    "\\end{equation}\n",
    "$\n",
    "\n",
    "$x_1 = -2, x_2 = 1$\n",
    "\n",
    "$\\begin{bmatrix} \n",
    "-2\\\\\n",
    "1\\\\\n",
    "\\end{bmatrix}$\n",
    "\n",
    "$\\lambda_2 = 3$\n",
    "\n",
    "$\\begin{bmatrix} \n",
    "-2 & 4 \\\\\n",
    "1 & -2 \\\\\n",
    "\\end{bmatrix}\n",
    "\\times\n",
    "\\begin{bmatrix} \n",
    "x_1 \\\\\n",
    "x_2 \\\\\n",
    "\\end{bmatrix}\n",
    "= 0 $\n",
    "\n",
    "$\\begin{equation}\n",
    "\\begin{cases}\n",
    "-2x_1 + 4x_2 = 0 \\\\\n",
    "x_1 - 2x_2 = 0\n",
    "\\end{cases}\n",
    "\\end{equation}\n",
    "$\n",
    "\n",
    "$x_1 = 2, x_2 = 1$\n",
    "\n",
    "$\\begin{bmatrix} \n",
    "2\\\\\n",
    "1\\\\\n",
    "\\end{bmatrix}$"
   ]
  },
  {
   "cell_type": "code",
   "execution_count": 49,
   "metadata": {},
   "outputs": [],
   "source": []
  },
  {
   "cell_type": "code",
   "execution_count": null,
   "metadata": {},
   "outputs": [],
   "source": []
  }
 ],
 "metadata": {
  "kernelspec": {
   "display_name": "Python 3",
   "language": "python",
   "name": "python3"
  },
  "language_info": {
   "codemirror_mode": {
    "name": "ipython",
    "version": 3
   },
   "file_extension": ".py",
   "mimetype": "text/x-python",
   "name": "python",
   "nbconvert_exporter": "python",
   "pygments_lexer": "ipython3",
   "version": "3.8.5"
  }
 },
 "nbformat": 4,
 "nbformat_minor": 4
}
