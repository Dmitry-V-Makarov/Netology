{
 "cells": [
  {
   "cell_type": "markdown",
   "metadata": {},
   "source": [
    "## W5 Partial Derivatives, Gratient, Gradient Descent"
   ]
  },
  {
   "cell_type": "code",
   "execution_count": 2,
   "metadata": {},
   "outputs": [],
   "source": [
    "import numpy as np\n",
    "from scipy.optimize import approx_fprime, minimize\n",
    "from sympy import *"
   ]
  },
  {
   "cell_type": "markdown",
   "metadata": {},
   "source": [
    "### Уровень 0"
   ]
  },
  {
   "cell_type": "markdown",
   "metadata": {},
   "source": [
    "Посчитайте частные производные функций:\n",
    "\n",
    "1) $f(x,y)=2x^2y^3 + 1/x + y^2x + 7$, а для этой функции также градиент в точке $(1,2)$"
   ]
  },
  {
   "cell_type": "code",
   "execution_count": 3,
   "metadata": {},
   "outputs": [],
   "source": [
    "# by hand"
   ]
  },
  {
   "cell_type": "markdown",
   "metadata": {},
   "source": [
    "$\\frac{\\partial f}{\\partial x} (2x^2y^3 + 1/x + y^2x + 7) = 4xy^3-\\frac{1}{x^2}+y^2$"
   ]
  },
  {
   "cell_type": "markdown",
   "metadata": {},
   "source": [
    "$\\frac{\\partial f}{\\partial y} (2x^2y^3 + 1/x + y^2x + 7) = 6x^2y^2+2xy$"
   ]
  },
  {
   "cell_type": "markdown",
   "metadata": {},
   "source": [
    "$\\nabla f(x,y)= \\begin{bmatrix}4xy^3-\\frac{1}{x^2}+y^2\\\\6x^2y^2+2xy\\end{bmatrix}$"
   ]
  },
  {
   "cell_type": "markdown",
   "metadata": {},
   "source": [
    "$\\nabla f(1,2)= \\begin{bmatrix}4*1*2^3-\\frac{1}{1^2}+2^2\\\\6*1^2*2^2+2*1*2\\end{bmatrix}$"
   ]
  },
  {
   "cell_type": "markdown",
   "metadata": {},
   "source": [
    "$\\nabla f(1,2)= \\begin{bmatrix}35\\\\28\\end{bmatrix}$"
   ]
  },
  {
   "cell_type": "code",
   "execution_count": 4,
   "metadata": {},
   "outputs": [],
   "source": [
    "# Python"
   ]
  },
  {
   "cell_type": "code",
   "execution_count": 5,
   "metadata": {},
   "outputs": [],
   "source": [
    "# partial derivatives\n",
    "x, y = symbols('x y', real=True)\n",
    "f = 2*x**2*y**3 + 1/x + y**2*x + 7"
   ]
  },
  {
   "cell_type": "code",
   "execution_count": 6,
   "metadata": {},
   "outputs": [
    {
     "data": {
      "text/latex": [
       "$\\displaystyle 4 x y^{3} + y^{2} - \\frac{1}{x^{2}}$"
      ],
      "text/plain": [
       "4*x*y**3 + y**2 - 1/x**2"
      ]
     },
     "execution_count": 6,
     "metadata": {},
     "output_type": "execute_result"
    }
   ],
   "source": [
    "diff(f, x)"
   ]
  },
  {
   "cell_type": "code",
   "execution_count": 7,
   "metadata": {},
   "outputs": [
    {
     "data": {
      "text/latex": [
       "$\\displaystyle 6 x^{2} y^{2} + 2 x y$"
      ],
      "text/plain": [
       "6*x**2*y**2 + 2*x*y"
      ]
     },
     "execution_count": 7,
     "metadata": {},
     "output_type": "execute_result"
    }
   ],
   "source": [
    "diff(f, y)"
   ]
  },
  {
   "cell_type": "code",
   "execution_count": 8,
   "metadata": {},
   "outputs": [],
   "source": [
    "# gradient\n",
    "def grad(x, y):\n",
    "    return float(4*x*y**3-1/x**2+y**2), float(6*x**2*y**2+2*x*y)"
   ]
  },
  {
   "cell_type": "code",
   "execution_count": 9,
   "metadata": {},
   "outputs": [
    {
     "data": {
      "text/plain": [
       "(35.0, 28.0)"
      ]
     },
     "execution_count": 9,
     "metadata": {},
     "output_type": "execute_result"
    }
   ],
   "source": [
    "grad(1,2)"
   ]
  },
  {
   "cell_type": "code",
   "execution_count": 10,
   "metadata": {},
   "outputs": [],
   "source": [
    "# altertive method"
   ]
  },
  {
   "cell_type": "code",
   "execution_count": 11,
   "metadata": {},
   "outputs": [],
   "source": [
    "def func(x, c0, c1):\n",
    "    \"Coordinate vector `x` should be an array of size two.\"\n",
    "    return c0 * x[0]**2 * x[1]**3 + 1/x[0] + x[1]**2 * x[0] + c1"
   ]
  },
  {
   "cell_type": "code",
   "execution_count": 12,
   "metadata": {},
   "outputs": [],
   "source": [
    "x = np.array([1, 2])\n",
    "eps = np.sqrt(np.finfo(float).eps)\n",
    "c0, c1 = (2,7)"
   ]
  },
  {
   "cell_type": "code",
   "execution_count": 13,
   "metadata": {},
   "outputs": [
    {
     "data": {
      "text/plain": [
       "array([35.00000024, 28.00000024])"
      ]
     },
     "execution_count": 13,
     "metadata": {},
     "output_type": "execute_result"
    }
   ],
   "source": [
    "approx_fprime(x, func, [eps, eps], c0, c1)"
   ]
  },
  {
   "cell_type": "markdown",
   "metadata": {},
   "source": [
    "2) $f(x,y)=x^2y - sin(xy) + cos(x^2) + 6y$"
   ]
  },
  {
   "cell_type": "code",
   "execution_count": 14,
   "metadata": {},
   "outputs": [],
   "source": [
    "# by hand"
   ]
  },
  {
   "cell_type": "markdown",
   "metadata": {},
   "source": [
    "$\\frac{\\partial f}{\\partial x} (x^2y - sin(xy) + cos(x^2) + 6y) = 2xy-2x\\sin \\left(x^2\\right)-y\\cos \\left(xy\\right)$"
   ]
  },
  {
   "cell_type": "markdown",
   "metadata": {},
   "source": [
    "$\\frac{\\partial f}{\\partial y} (x^2y - sin(xy) + cos(x^2) + 6y) = x^2-x\\cos \\left(xy\\right)+6$"
   ]
  },
  {
   "cell_type": "code",
   "execution_count": 15,
   "metadata": {},
   "outputs": [],
   "source": [
    "# Python"
   ]
  },
  {
   "cell_type": "code",
   "execution_count": 16,
   "metadata": {},
   "outputs": [],
   "source": [
    "x, y = symbols('x y', real=True)\n",
    "f = x**2*y - sin(x*y) + cos(x**2) + 6*y"
   ]
  },
  {
   "cell_type": "code",
   "execution_count": 17,
   "metadata": {},
   "outputs": [
    {
     "data": {
      "text/latex": [
       "$\\displaystyle 2 x y - 2 x \\sin{\\left(x^{2} \\right)} - y \\cos{\\left(x y \\right)}$"
      ],
      "text/plain": [
       "2*x*y - 2*x*sin(x**2) - y*cos(x*y)"
      ]
     },
     "execution_count": 17,
     "metadata": {},
     "output_type": "execute_result"
    }
   ],
   "source": [
    "diff(f, x)"
   ]
  },
  {
   "cell_type": "code",
   "execution_count": 18,
   "metadata": {},
   "outputs": [
    {
     "data": {
      "text/latex": [
       "$\\displaystyle x^{2} - x \\cos{\\left(x y \\right)} + 6$"
      ],
      "text/plain": [
       "x**2 - x*cos(x*y) + 6"
      ]
     },
     "execution_count": 18,
     "metadata": {},
     "output_type": "execute_result"
    }
   ],
   "source": [
    "diff(f, y)"
   ]
  },
  {
   "cell_type": "code",
   "execution_count": null,
   "metadata": {},
   "outputs": [],
   "source": []
  },
  {
   "cell_type": "markdown",
   "metadata": {},
   "source": [
    "### Уровень 1"
   ]
  },
  {
   "cell_type": "code",
   "execution_count": 19,
   "metadata": {},
   "outputs": [],
   "source": [
    "# вычисление градиента (пример)"
   ]
  },
  {
   "cell_type": "code",
   "execution_count": 20,
   "metadata": {},
   "outputs": [],
   "source": [
    "def func(x, c0, c1):\n",
    "    \"Coordinate vector `x` should be an array of size two.\"\n",
    "    return c0 * x[ 0 ] **2 + c1 * x[ 1 ] ** 2"
   ]
  },
  {
   "cell_type": "code",
   "execution_count": 21,
   "metadata": {},
   "outputs": [
    {
     "data": {
      "text/plain": [
       "array([2.        , 4.00000003])"
      ]
     },
     "execution_count": 21,
     "metadata": {},
     "output_type": "execute_result"
    }
   ],
   "source": [
    "x = np.ones(2) # returns a 2D vector \n",
    "c0, c1 = (1,2)\n",
    "eps = np.sqrt(np.finfo(float).eps)\n",
    "approx_fprime(x, func, [eps, eps], c0, c1)"
   ]
  },
  {
   "cell_type": "markdown",
   "metadata": {},
   "source": [
    "approx_fprime(x, func, [eps, eps], c0, c1) – первая координата – точка в которой вычисляем градиент, вторая – наша фунция,\n",
    "третья – это погрешность вычисления, и коэффициенты из функции."
   ]
  },
  {
   "cell_type": "code",
   "execution_count": 22,
   "metadata": {},
   "outputs": [],
   "source": [
    "# градиентный спуск"
   ]
  },
  {
   "cell_type": "code",
   "execution_count": 23,
   "metadata": {},
   "outputs": [],
   "source": [
    "def f(x):\n",
    "    return c0 * x[ 0 ] **2 + c1 * x[ 1 ] ** 2"
   ]
  },
  {
   "cell_type": "code",
   "execution_count": 25,
   "metadata": {},
   "outputs": [],
   "source": [
    "x = np.array([100, 200])\n",
    "learning_rate = 0.1"
   ]
  },
  {
   "cell_type": "code",
   "execution_count": 26,
   "metadata": {},
   "outputs": [],
   "source": [
    "for i in range(100):\n",
    "    # Calculate gradient\n",
    "    c0, c1 = (1,2)\n",
    "    eps = np.sqrt(np.finfo(float).eps)\n",
    "    grad = approx_fprime(x, func, [eps, eps], c0, c1)\n",
    "    \n",
    "    # Update x with gradient\n",
    "    x = x - learning_rate * grad # двигаемся по вектору градиента в обратном направлении (направлении спуска)"
   ]
  },
  {
   "cell_type": "code",
   "execution_count": 27,
   "metadata": {},
   "outputs": [
    {
     "name": "stdout",
     "output_type": "stream",
     "text": [
      "Минимум достигается в:  [ 1.29197818e-08 -1.86264515e-09]\n",
      "Значение функции в минимуме:  1.7385965623746275e-16\n"
     ]
    }
   ],
   "source": [
    "print(\"Минимум достигается в: \", x)\n",
    "print(\"Значение функции в минимуме: \", f(x))"
   ]
  },
  {
   "cell_type": "markdown",
   "metadata": {},
   "source": [
    "Проверка 1:"
   ]
  },
  {
   "cell_type": "code",
   "execution_count": 28,
   "metadata": {},
   "outputs": [
    {
     "name": "stdout",
     "output_type": "stream",
     "text": [
      "Optimization terminated successfully.\n",
      "         Current function value: 0.000000\n",
      "         Iterations: 1\n",
      "         Function evaluations: 3\n"
     ]
    },
    {
     "data": {
      "text/plain": [
       " final_simplex: (array([[ 1.29197818e-08, -1.86264515e-09],\n",
       "       [ 1.29197818e-08, -1.95577741e-09],\n",
       "       [ 1.35657709e-08, -1.86264515e-09]]), array([1.73859656e-16, 1.74570893e-16, 1.90969034e-16]))\n",
       "           fun: 1.7385965623746275e-16\n",
       "       message: 'Optimization terminated successfully.'\n",
       "          nfev: 3\n",
       "           nit: 1\n",
       "        status: 0\n",
       "       success: True\n",
       "             x: array([ 1.29197818e-08, -1.86264515e-09])"
      ]
     },
     "execution_count": 28,
     "metadata": {},
     "output_type": "execute_result"
    }
   ],
   "source": [
    "# we start with the obtained value and minimize() function arrives at the same function value \n",
    "res = minimize(f, x, method = 'nelder-mead' , options = { 'xtol' : 1e-6 , 'disp' : True })\n",
    "res"
   ]
  },
  {
   "cell_type": "markdown",
   "metadata": {},
   "source": [
    "Проверка 2:"
   ]
  },
  {
   "cell_type": "code",
   "execution_count": null,
   "metadata": {},
   "outputs": [],
   "source": [
    "x_initial = np.array([100, 200])"
   ]
  },
  {
   "cell_type": "code",
   "execution_count": 29,
   "metadata": {},
   "outputs": [
    {
     "name": "stdout",
     "output_type": "stream",
     "text": [
      "Optimization terminated successfully.\n",
      "         Current function value: 0.000000\n",
      "         Iterations: 76\n",
      "         Function evaluations: 143\n"
     ]
    },
    {
     "data": {
      "text/plain": [
       " final_simplex: (array([[-2.01521612e-07,  4.10798009e-07],\n",
       "       [ 5.84406908e-07, -1.75013324e-07],\n",
       "       [-8.22658235e-07, -3.03029999e-08]]), array([3.78120968e-13, 4.02790761e-13, 6.78603114e-13]))\n",
       "           fun: 3.78120968349969e-13\n",
       "       message: 'Optimization terminated successfully.'\n",
       "          nfev: 143\n",
       "           nit: 76\n",
       "        status: 0\n",
       "       success: True\n",
       "             x: array([-2.01521612e-07,  4.10798009e-07])"
      ]
     },
     "execution_count": 29,
     "metadata": {},
     "output_type": "execute_result"
    }
   ],
   "source": [
    "# we start from the initial values (see above) and see where the algorithm lands\n",
    "res = minimize(f, x_initial, method = 'nelder-mead' , options = { 'xtol' : 1e-6 , 'disp' : True })\n",
    "res"
   ]
  },
  {
   "cell_type": "code",
   "execution_count": null,
   "metadata": {},
   "outputs": [],
   "source": []
  }
 ],
 "metadata": {
  "kernelspec": {
   "display_name": "Python 3",
   "language": "python",
   "name": "python3"
  },
  "language_info": {
   "codemirror_mode": {
    "name": "ipython",
    "version": 3
   },
   "file_extension": ".py",
   "mimetype": "text/x-python",
   "name": "python",
   "nbconvert_exporter": "python",
   "pygments_lexer": "ipython3",
   "version": "3.8.5"
  }
 },
 "nbformat": 4,
 "nbformat_minor": 4
}
