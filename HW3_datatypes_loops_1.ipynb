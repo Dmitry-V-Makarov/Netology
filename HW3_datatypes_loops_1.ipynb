{
 "cells": [
  {
   "cell_type": "markdown",
   "metadata": {},
   "source": [
    "# Домашнее задание \"Управляющие конструкции и коллекции\" часть 1"
   ]
  },
  {
   "cell_type": "markdown",
   "metadata": {},
   "source": [
    "## Задание 1"
   ]
  },
  {
   "cell_type": "code",
   "execution_count": 3,
   "metadata": {},
   "outputs": [
    {
     "name": "stdout",
     "output_type": "stream",
     "text": [
      "es\n"
     ]
    }
   ],
   "source": [
    "word = 'test'\n",
    "\n",
    "if len(word) % 2 == 0:\n",
    "    # print('Even')\n",
    "    middle = len(word) // 2\n",
    "    print(word[middle - 1] + word[middle])\n",
    "else:\n",
    "    # print('Odd')\n",
    "    middle = len(word) // 2\n",
    "    print(word[middle])"
   ]
  },
  {
   "cell_type": "markdown",
   "metadata": {},
   "source": [
    "## Задание 2"
   ]
  },
  {
   "cell_type": "code",
   "execution_count": 2,
   "metadata": {},
   "outputs": [
    {
     "name": "stdout",
     "output_type": "stream",
     "text": [
      "Введите число: 0\n",
      "Результат:\n",
      "0\n"
     ]
    }
   ],
   "source": [
    "total = 0\n",
    "number = 1\n",
    "\n",
    "while number != 0:\n",
    "    number = int(input('Введите число: '))\n",
    "    total = number + total\n",
    "\n",
    "print('Результат:')\n",
    "print(total)"
   ]
  },
  {
   "cell_type": "markdown",
   "metadata": {},
   "source": [
    "## Задание 3"
   ]
  },
  {
   "cell_type": "code",
   "execution_count": 3,
   "metadata": {},
   "outputs": [
    {
     "name": "stdout",
     "output_type": "stream",
     "text": [
      "Participants:\n",
      "['Peter', 'Alex', 'John', 'Arthur', 'Richard']\n",
      "['Kate', 'Liza', 'Kira', 'Emma', 'Trisha']\n",
      "\n",
      "\n",
      "Result (ideal pairs):\n",
      "\n",
      "Alex and Emma\n",
      "Arthur and Kate\n",
      "John and Kira\n",
      "Peter and Liza\n",
      "Richard and Trisha\n"
     ]
    }
   ],
   "source": [
    "boys = ['Peter', 'Alex', 'John', 'Arthur', 'Richard']\n",
    "girls = ['Kate', 'Liza', 'Kira', 'Emma', 'Trisha']\n",
    "\n",
    "print('Participants:')\n",
    "print(boys)\n",
    "print(girls)\n",
    "print('\\n')\n",
    "\n",
    "print('Result (ideal pairs):\\n')\n",
    "\n",
    "if len(boys) == len(girls) :\n",
    "    \n",
    "    boys = sorted(boys)\n",
    "    girls = sorted(girls)\n",
    "    \n",
    "    pairs = zip(boys, girls)\n",
    "    pairs = (list(pairs))\n",
    "    \n",
    "    index = 0\n",
    "    for i in pairs:\n",
    "        print(str(pairs[index][0]) + ' and ' + str(pairs[index][1]))\n",
    "        index += 1\n",
    "else :\n",
    "    print('Внимание, кто-то может остаться без пары!')\n"
   ]
  },
  {
   "cell_type": "markdown",
   "metadata": {},
   "source": [
    "## Задание 4"
   ]
  },
  {
   "cell_type": "code",
   "execution_count": 4,
   "metadata": {},
   "outputs": [
    {
     "name": "stdout",
     "output_type": "stream",
     "text": [
      "Средняя температура в странах:\n",
      "\n",
      "Thailand - 23.9 C\n",
      "Germany - 13.8 C\n",
      "Russia - 3.7 C\n",
      "Poland - 12.0 C\n"
     ]
    }
   ],
   "source": [
    "temp = [\n",
    "['Thailand', [75.2, 77, 78.8, 73.4, 68, 75.2, 77]],\n",
    "['Germany', [57.2, 55.4, 59, 59, 53.6]],\n",
    "['Russia', [35.6, 37.4, 39.2, 41, 42.8, 39.2, 35.6]],\n",
    "['Poland', [50, 50, 53.6, 57.2, 55.4, 55.4]]\n",
    "]\n",
    "\n",
    "print('Средняя температура в странах:\\n')\n",
    "\n",
    "index = 0\n",
    "for i in temp:\n",
    "    country = str(temp[index][0])\n",
    "    avg_temp = sum(temp[index][1]) / len(temp[index][1])\n",
    "    celsius = round((avg_temp - 32) * 5/9, 1)\n",
    "    text = f\"{country} - {celsius} C\"\n",
    "    print(text)\n",
    "    index +=1\n"
   ]
  },
  {
   "cell_type": "markdown",
   "metadata": {},
   "source": [
    "## Задание 5"
   ]
  },
  {
   "cell_type": "code",
   "execution_count": 5,
   "metadata": {},
   "outputs": [
    {
     "name": "stdout",
     "output_type": "stream",
     "text": [
      "Среднее количество просмотров на уникального пользователя:\n",
      "145.33\n"
     ]
    }
   ],
   "source": [
    "stream = [\n",
    "'2018-01-01,user100,150',\n",
    "'2018-01-07,user99,205',\n",
    "'2018-03-29,user1001,81'\n",
    "]\n",
    "\n",
    "total_users = list()\n",
    "views_per_session = list()\n",
    "\n",
    "index = 0\n",
    "for i in stream:\n",
    "    entry = i.split(',')\n",
    "    \n",
    "    total_users.append(entry[1])\n",
    "    views_per_session.append(entry[2])\n",
    "    views_per_session[index] = int(views_per_session[index])\n",
    "    \n",
    "    index += 1\n",
    "\n",
    "# counting unique users\n",
    "a_set = set(total_users)\n",
    "# print(a_set)\n",
    "unique_users = len(a_set)\n",
    "\n",
    "# counting time\n",
    "total_views = sum(views_per_session)\n",
    "\n",
    "print('Среднее количество просмотров на уникального пользователя:')\n",
    "print(round((total_views / unique_users), 2))"
   ]
  },
  {
   "cell_type": "markdown",
   "metadata": {},
   "source": [
    "### Дополнение к заданию 5"
   ]
  },
  {
   "cell_type": "code",
   "execution_count": 16,
   "metadata": {},
   "outputs": [
    {
     "name": "stdout",
     "output_type": "stream",
     "text": [
      "У пользователя user1 5.25 просмотр(ов)\n",
      "У пользователя user2 7.0 просмотр(ов)\n",
      "У пользователя user3 7.0 просмотр(ов)\n",
      "У пользователя user4 10.2 просмотр(ов)\n"
     ]
    }
   ],
   "source": [
    "streams = [\n",
    "    '2018-01-01,user1,3',\n",
    "    '2018-01-07,user1,4',\n",
    "    '2018-03-29,user1,1',\n",
    "    '2018-04-04,user1,13',\n",
    "    '2018-01-05,user2,7',\n",
    "    '2018-06-14,user3,4',\n",
    "    '2018-07-02,user3,10',\n",
    "    '2018-03-21,user4,19',\n",
    "    '2018-03-22,user4,4',\n",
    "    '2018-04-22,user4,8',\n",
    "    '2018-05-03,user4,9',\n",
    "    '2018-05-11,user4,11',\n",
    "]\n",
    "\n",
    "users_list = []\n",
    "views_list = []\n",
    "\n",
    "for stream in streams:\n",
    "    splitted_stream = stream.split(',')\n",
    "    user = splitted_stream[1]\n",
    "    views = splitted_stream[2]\n",
    "    if user not in users_list:\n",
    "        users_list.append(user)\n",
    "        views_list.insert(users_list.index(user), [int(views)])\n",
    "    else:\n",
    "        # прибавляем новое число в списке [] к имеющемуся списку\n",
    "        views_list[users_list.index(user)] += [int(views)]\n",
    "        \n",
    "# print(users_list)\n",
    "# print(views_list)\n",
    "\n",
    "for u, v in zip(users_list, views_list):\n",
    "    print(f'У пользователя {u} {sum(v)/len(v)} просмотр(ов)')"
   ]
  },
  {
   "cell_type": "markdown",
   "metadata": {},
   "source": [
    "## Задание 6"
   ]
  },
  {
   "cell_type": "code",
   "execution_count": 23,
   "metadata": {},
   "outputs": [
    {
     "name": "stdout",
     "output_type": "stream",
     "text": [
      "Введите числа, разделенные пробелом: 4 8 0 3 4 2 0 3\n",
      "0 3 4\n"
     ]
    }
   ],
   "source": [
    "# Примеры работы программы:\n",
    "\n",
    "# Введите числа:\n",
    "# 4 8 0 3 4 2 0 3\n",
    "# Результат:\n",
    "# 0 3 4\n",
    "\n",
    "# Введите числа:\n",
    "# 1 1 2 2 3 3\n",
    "# Результат:\n",
    "# 1 2 3\n",
    "\n",
    "# Введите числа:\n",
    "# 1 1 1 1 1 2 2 2\n",
    "# Результат:\n",
    "# 1 2\n",
    "\n",
    "\n",
    "numbers = input('Введите числа, разделенные пробелом: ')\n",
    "numbers = numbers.split(' ')\n",
    "\n",
    "unique = []\n",
    "index = 0\n",
    "\n",
    "for i in numbers:\n",
    "    numbers[index] = int(numbers[index])\n",
    "    \n",
    "    if numbers.count(numbers[index]) > 1:\n",
    "        unique.append(numbers[index])\n",
    "        \n",
    "    index += 1\n",
    "\n",
    "a_set = set(unique)\n",
    "\n",
    "list_of_strings = [str(s) for s in a_set]\n",
    "joined_string = \" \".join(list_of_strings)\n",
    "\n",
    "print(joined_string)"
   ]
  }
 ],
 "metadata": {
  "kernelspec": {
   "display_name": "Python 3",
   "language": "python",
   "name": "python3"
  },
  "language_info": {
   "codemirror_mode": {
    "name": "ipython",
    "version": 3
   },
   "file_extension": ".py",
   "mimetype": "text/x-python",
   "name": "python",
   "nbconvert_exporter": "python",
   "pygments_lexer": "ipython3",
   "version": "3.8.3"
  }
 },
 "nbformat": 4,
 "nbformat_minor": 4
}
