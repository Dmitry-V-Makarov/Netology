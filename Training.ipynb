{
 "cells": [
  {
   "cell_type": "code",
   "execution_count": 12,
   "metadata": {},
   "outputs": [],
   "source": [
    "income_by_months = [['Jan', 13000], ['Feb', 10000]]"
   ]
  },
  {
   "cell_type": "code",
   "execution_count": 13,
   "metadata": {},
   "outputs": [
    {
     "name": "stdout",
     "output_type": "stream",
     "text": [
      "['Jan', 13000]\n"
     ]
    }
   ],
   "source": [
    "print(income_by_months[-2])"
   ]
  },
  {
   "cell_type": "code",
   "execution_count": 14,
   "metadata": {},
   "outputs": [
    {
     "name": "stdout",
     "output_type": "stream",
     "text": [
      "13000\n"
     ]
    }
   ],
   "source": [
    "# получить второй элемент второго списка (и так для любого уровня вложенности)\n",
    "print(income_by_months[-2][1])"
   ]
  },
  {
   "cell_type": "code",
   "execution_count": 7,
   "metadata": {},
   "outputs": [
    {
     "name": "stdout",
     "output_type": "stream",
     "text": [
      "[['Jan, 13000'], ['Feb', 10000]]\n"
     ]
    }
   ],
   "source": [
    "print(income_by_months[0:2])"
   ]
  },
  {
   "cell_type": "code",
   "execution_count": 5,
   "metadata": {},
   "outputs": [
    {
     "name": "stdout",
     "output_type": "stream",
     "text": [
      "<class 'list'>\n"
     ]
    }
   ],
   "source": [
    "print(type(income_by_months))"
   ]
  },
  {
   "cell_type": "code",
   "execution_count": 17,
   "metadata": {},
   "outputs": [
    {
     "name": "stdout",
     "output_type": "stream",
     "text": [
      "[['Nov', 13100], ['Feb', 13900]]\n",
      "[['Nov', 13200], ['Feb', 13900]]\n",
      "[['Nov', 13200], ['Feb', 13900], ['Nov', 15400]]\n"
     ]
    }
   ],
   "source": [
    "# изменение списков\n",
    "income_by_months[0][1] = 13100\n",
    "print(income_by_months)\n",
    "\n",
    "income_by_months[0:2] = [['Nov', 13200], ['Feb', 13900]]\n",
    "print(income_by_months)\n",
    "\n",
    "income_by_months_2 = [['Nov', 15400]]\n",
    "income_by_month = income_by_months + income_by_months_2\n",
    "print(income_by_month)"
   ]
  },
  {
   "cell_type": "code",
   "execution_count": 19,
   "metadata": {},
   "outputs": [
    {
     "name": "stdout",
     "output_type": "stream",
     "text": [
      "Enter number of bytes: 15000\n",
      "0.015\n"
     ]
    }
   ],
   "source": [
    "# how many Megabytes in x bytes\n",
    "x = int(input('Enter number of bytes: '))\n",
    "x = x * (10**-6)\n",
    "print(x)"
   ]
  },
  {
   "cell_type": "code",
   "execution_count": 23,
   "metadata": {},
   "outputs": [
    {
     "name": "stdout",
     "output_type": "stream",
     "text": [
      "Enter number of bytes: 15000\n",
      "0.01430511474609375\n"
     ]
    }
   ],
   "source": [
    "# how many Megabytes in x bytes\n",
    "x = int(input('Enter number of bytes: '))\n",
    "x = x / (1024**2)\n",
    "print(x)"
   ]
  },
  {
   "cell_type": "code",
   "execution_count": 24,
   "metadata": {},
   "outputs": [
    {
     "name": "stdout",
     "output_type": "stream",
     "text": [
      "Enter number of bytes: 15000\n",
      "0.01430511474609375\n"
     ]
    }
   ],
   "source": [
    "# how many Megabytes in x bytes\n",
    "x = int(input('Enter number of bytes: '))\n",
    "x = x / (2**20)\n",
    "print(x)"
   ]
  },
  {
   "cell_type": "code",
   "execution_count": 25,
   "metadata": {},
   "outputs": [
    {
     "name": "stdout",
     "output_type": "stream",
     "text": [
      "0.015\n"
     ]
    }
   ],
   "source": [
    "byte_number = 15000\n",
    "x = byte_number * 1e-6\n",
    "print(x)"
   ]
  },
  {
   "cell_type": "code",
   "execution_count": 33,
   "metadata": {},
   "outputs": [
    {
     "name": "stdout",
     "output_type": "stream",
     "text": [
      "x3 is the largest\n"
     ]
    }
   ],
   "source": [
    "# сравнение чисел\n",
    "x1 = 10\n",
    "x2 = 300\n",
    "x3 = 2000\n",
    "\n",
    "if x1 > x2 and x1 > x3:\n",
    "    print('x1 is the largest')\n",
    "elif x2 > x1 and x2 > x3:\n",
    "    print('x2 is the largest')\n",
    "else:\n",
    "    print('x3 is the largest')\n"
   ]
  },
  {
   "cell_type": "code",
   "execution_count": 35,
   "metadata": {},
   "outputs": [
    {
     "name": "stdout",
     "output_type": "stream",
     "text": [
      "2000\n"
     ]
    }
   ],
   "source": [
    "# сложный вариант сравнения чисел\n",
    "a = 10\n",
    "b = 300\n",
    "c = 2000\n",
    "\n",
    "x = a if a > b else b if b > c else c if c > a else a\n",
    "print(x)"
   ]
  },
  {
   "cell_type": "code",
   "execution_count": 36,
   "metadata": {},
   "outputs": [],
   "source": [
    "# камень/ножницы/бумага"
   ]
  },
  {
   "cell_type": "code",
   "execution_count": null,
   "metadata": {},
   "outputs": [],
   "source": []
  }
 ],
 "metadata": {
  "kernelspec": {
   "display_name": "Python 3",
   "language": "python",
   "name": "python3"
  },
  "language_info": {
   "codemirror_mode": {
    "name": "ipython",
    "version": 3
   },
   "file_extension": ".py",
   "mimetype": "text/x-python",
   "name": "python",
   "nbconvert_exporter": "python",
   "pygments_lexer": "ipython3",
   "version": "3.8.3"
  }
 },
 "nbformat": 4,
 "nbformat_minor": 4
}
