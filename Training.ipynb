{
 "cells": [
  {
   "cell_type": "code",
   "execution_count": 1,
   "metadata": {},
   "outputs": [],
   "source": [
    "income_by_months = [['Jan', 13000], ['Feb', 10000]]"
   ]
  },
  {
   "cell_type": "code",
   "execution_count": 2,
   "metadata": {},
   "outputs": [
    {
     "name": "stdout",
     "output_type": "stream",
     "text": [
      "['Jan', 13000]\n"
     ]
    }
   ],
   "source": [
    "print(income_by_months[-2])"
   ]
  },
  {
   "cell_type": "code",
   "execution_count": 3,
   "metadata": {},
   "outputs": [
    {
     "name": "stdout",
     "output_type": "stream",
     "text": [
      "13000\n"
     ]
    }
   ],
   "source": [
    "# получить второй элемент второго списка (и так для любого уровня вложенности)\n",
    "print(income_by_months[-2][1])"
   ]
  },
  {
   "cell_type": "code",
   "execution_count": 4,
   "metadata": {},
   "outputs": [
    {
     "name": "stdout",
     "output_type": "stream",
     "text": [
      "[['Jan', 13000], ['Feb', 10000]]\n"
     ]
    }
   ],
   "source": [
    "print(income_by_months[0:2])"
   ]
  },
  {
   "cell_type": "code",
   "execution_count": 5,
   "metadata": {},
   "outputs": [
    {
     "name": "stdout",
     "output_type": "stream",
     "text": [
      "<class 'list'>\n"
     ]
    }
   ],
   "source": [
    "print(type(income_by_months))"
   ]
  },
  {
   "cell_type": "code",
   "execution_count": 6,
   "metadata": {},
   "outputs": [
    {
     "name": "stdout",
     "output_type": "stream",
     "text": [
      "[['Jan', 13100], ['Feb', 10000]]\n",
      "[['Nov', 13200], ['Feb', 13900]]\n",
      "[['Nov', 13200], ['Feb', 13900], ['Nov', 15400]]\n"
     ]
    }
   ],
   "source": [
    "# изменение списков\n",
    "income_by_months[0][1] = 13100\n",
    "print(income_by_months)\n",
    "\n",
    "income_by_months[0:2] = [['Nov', 13200], ['Feb', 13900]]\n",
    "print(income_by_months)\n",
    "\n",
    "income_by_months_2 = [['Nov', 15400]]\n",
    "income_by_month = income_by_months + income_by_months_2\n",
    "print(income_by_month)"
   ]
  },
  {
   "cell_type": "code",
   "execution_count": 7,
   "metadata": {},
   "outputs": [
    {
     "name": "stdout",
     "output_type": "stream",
     "text": [
      "Enter number of bytes: 15000\n",
      "0.015\n"
     ]
    }
   ],
   "source": [
    "# how many Megabytes in x bytes\n",
    "x = int(input('Enter number of bytes: '))\n",
    "x = x * (10**-6)\n",
    "print(x)"
   ]
  },
  {
   "cell_type": "code",
   "execution_count": 8,
   "metadata": {},
   "outputs": [
    {
     "name": "stdout",
     "output_type": "stream",
     "text": [
      "Enter number of bytes: 15000\n",
      "0.01430511474609375\n"
     ]
    }
   ],
   "source": [
    "# how many Megabytes in x bytes\n",
    "x = int(input('Enter number of bytes: '))\n",
    "x = x / (1024**2)\n",
    "print(x)"
   ]
  },
  {
   "cell_type": "code",
   "execution_count": 24,
   "metadata": {},
   "outputs": [
    {
     "name": "stdout",
     "output_type": "stream",
     "text": [
      "Enter number of bytes: 15000\n",
      "0.01430511474609375\n"
     ]
    }
   ],
   "source": [
    "# how many Megabytes in x bytes\n",
    "x = int(input('Enter number of bytes: '))\n",
    "x = x / (2**20)\n",
    "print(x)"
   ]
  },
  {
   "cell_type": "code",
   "execution_count": 25,
   "metadata": {},
   "outputs": [
    {
     "name": "stdout",
     "output_type": "stream",
     "text": [
      "0.015\n"
     ]
    }
   ],
   "source": [
    "byte_number = 15000\n",
    "x = byte_number * 1e-6\n",
    "print(x)"
   ]
  },
  {
   "cell_type": "code",
   "execution_count": 33,
   "metadata": {},
   "outputs": [
    {
     "name": "stdout",
     "output_type": "stream",
     "text": [
      "x3 is the largest\n"
     ]
    }
   ],
   "source": [
    "# сравнение чисел\n",
    "x1 = 10\n",
    "x2 = 300\n",
    "x3 = 2000\n",
    "\n",
    "if x1 > x2 and x1 > x3:\n",
    "    print('x1 is the largest')\n",
    "elif x2 > x1 and x2 > x3:\n",
    "    print('x2 is the largest')\n",
    "else:\n",
    "    print('x3 is the largest')\n"
   ]
  },
  {
   "cell_type": "code",
   "execution_count": 35,
   "metadata": {},
   "outputs": [
    {
     "name": "stdout",
     "output_type": "stream",
     "text": [
      "2000\n"
     ]
    }
   ],
   "source": [
    "# сложный вариант сравнения чисел\n",
    "a = 10\n",
    "b = 300\n",
    "c = 2000\n",
    "\n",
    "x = a if a > b else b if b > c else c if c > a else a\n",
    "print(x)"
   ]
  },
  {
   "cell_type": "code",
   "execution_count": 36,
   "metadata": {},
   "outputs": [],
   "source": [
    "# камень/ножницы/бумага"
   ]
  },
  {
   "cell_type": "code",
   "execution_count": 6,
   "metadata": {},
   "outputs": [],
   "source": [
    "my_list = ['John', 'James', 'Mary', 'John', 'David', 'Mary']"
   ]
  },
  {
   "cell_type": "code",
   "execution_count": 11,
   "metadata": {},
   "outputs": [
    {
     "name": "stdout",
     "output_type": "stream",
     "text": [
      "['John', 'James', 'Mary', 'David']\n"
     ]
    }
   ],
   "source": [
    "res = []\n",
    "\n",
    "for i in my_list:\n",
    "    if i not in res:\n",
    "        res.append(i)\n",
    "\n",
    "print(res)"
   ]
  },
  {
   "cell_type": "code",
   "execution_count": 18,
   "metadata": {},
   "outputs": [
    {
     "name": "stdout",
     "output_type": "stream",
     "text": [
      "['John', 'James', 'Mary', 'David']\n",
      "['John', 'Mary']\n"
     ]
    }
   ],
   "source": [
    "unique = []\n",
    "repeat = []\n",
    "\n",
    "for i in my_list:\n",
    "    if i not in unique:\n",
    "        unique.append(i)\n",
    "    else:\n",
    "        repeat.append(i)\n",
    "    \n",
    "print(unique)\n",
    "print(repeat)"
   ]
  },
  {
   "cell_type": "code",
   "execution_count": 25,
   "metadata": {},
   "outputs": [
    {
     "name": "stdout",
     "output_type": "stream",
     "text": [
      "['John', 'Mary']\n"
     ]
    }
   ],
   "source": [
    "res_2 = []\n",
    "\n",
    "for i in my_list:\n",
    "    if i not in res_2 and my_list.count(i) > 1:\n",
    "        res_2.append(i)\n",
    "\n",
    "print(res_2)"
   ]
  },
  {
   "cell_type": "code",
   "execution_count": 15,
   "metadata": {},
   "outputs": [
    {
     "name": "stdout",
     "output_type": "stream",
     "text": [
      "None\n",
      "['David', 'James', 'John', 'John', 'Mary', 'Mary']\n",
      "['David', 'James', 'John', 'John', 'Mary', 'Mary']\n"
     ]
    }
   ],
   "source": [
    "# Методы изменяемых и неизменяемых объектов\n",
    "\n",
    "l = ['John', 'James', 'Mary', 'John', 'David', 'Mary']\n",
    "\n",
    "\n",
    "l.sort() # меняет исходный список\n",
    "new = sorted(l) # исходный список не меняет\n",
    "\n",
    "# Методы изменяемых объектов (списков) оперируют с исходным объектом, \n",
    "# а методы неизменяемых объектов (строк) оперируют с новым объектом.\n",
    "\n",
    "print(l.sort())\n",
    "print(l)\n",
    "print(new)"
   ]
  },
  {
   "cell_type": "code",
   "execution_count": 32,
   "metadata": {},
   "outputs": [
    {
     "name": "stdout",
     "output_type": "stream",
     "text": [
      "103\n",
      "103\n"
     ]
    }
   ],
   "source": [
    "# сумма элементов диагонали\n",
    "\n",
    "data = [\n",
    "    [13, 25, 23, 34],\n",
    "    [45, 32, 44, 47],\n",
    "    [12, 33, 23, 95],\n",
    "    [13, 53, 34, 35]\n",
    "]\n",
    "\n",
    "# option 1\n",
    "total = 0\n",
    "index = 0\n",
    "for i in data:\n",
    "    l = data[index][index]\n",
    "    total = total + l\n",
    "    index += 1\n",
    "\n",
    "print(total)\n",
    "\n",
    "# option 2\n",
    "j = 0\n",
    "total = 0\n",
    "\n",
    "for n in data:\n",
    "    total += n[j]\n",
    "    j += 1\n",
    "\n",
    "print(total)"
   ]
  },
  {
   "cell_type": "code",
   "execution_count": 35,
   "metadata": {},
   "outputs": [
    {
     "name": "stdout",
     "output_type": "stream",
     "text": [
      "124\n"
     ]
    }
   ],
   "source": [
    "# сумма элементов обратной диагонали матрицы\n",
    "\n",
    "data = [\n",
    "    [13, 25, 23, 34],\n",
    "    [45, 32, 44, 47],\n",
    "    [12, 33, 23, 95],\n",
    "    [13, 53, 34, 35]\n",
    "]\n",
    "\n",
    "j = -1\n",
    "total = 0\n",
    "\n",
    "for n in data:\n",
    "    total += n[j]\n",
    "    j -= 1\n",
    "\n",
    "print(total)"
   ]
  },
  {
   "cell_type": "code",
   "execution_count": 47,
   "metadata": {},
   "outputs": [
    {
     "name": "stdout",
     "output_type": "stream",
     "text": [
      "Python\n",
      "высокоуровненый\n",
      "программирования\n",
      "ориентированный\n",
      "повышение\n",
      "производительности\n",
      "разработчика\n",
      "читаемости\n"
     ]
    }
   ],
   "source": [
    "# Найти слова, в которых больше пяти букв\n",
    "\n",
    "text = 'Python - высокоуровненый язык программирования, ориентированный на повышение производительности разработчика и читаемости кода'\n",
    "\n",
    "text = text.split(' ')\n",
    "\n",
    "index = 0\n",
    "for i in text:\n",
    "    text[index] = text[index].strip(',')\n",
    "    \n",
    "    if i == '-':\n",
    "        continue\n",
    "\n",
    "    if len(text[index]) > 5:\n",
    "        print(text[index])\n",
    "    \n",
    "    index += 1"
   ]
  },
  {
   "cell_type": "code",
   "execution_count": 117,
   "metadata": {},
   "outputs": [
    {
     "name": "stdout",
     "output_type": "stream",
     "text": [
      "IT:\n",
      "Gates\n",
      "Jobs\n",
      "Voznyak\n",
      "\n",
      "Физика:\n",
      "Einistein\n",
      "Feinman\n",
      "\n",
      "Математика:\n",
      "Euclidus\n",
      "Newton\n",
      "\n"
     ]
    }
   ],
   "source": [
    "prof = ['IT', 'Физика', 'Математика']\n",
    "persons = [['Gates', 'Jobs', 'Voznyak'], ['Einistein', 'Feinman'], ['Euclidus', 'Newton']]\n",
    "\n",
    "index = 0\n",
    "for i in prof:\n",
    "    print(i + ':')\n",
    "    \n",
    "    for j in persons[index]:\n",
    "        print(j)\n",
    "\n",
    "    print()\n",
    "    index += 1"
   ]
  },
  {
   "cell_type": "code",
   "execution_count": 118,
   "metadata": {},
   "outputs": [
    {
     "name": "stdout",
     "output_type": "stream",
     "text": [
      "IT:\n",
      "Gates\n",
      "Jobs\n",
      "Voznyak\n",
      "\n",
      "Физика:\n",
      "Einistein\n",
      "Feinman\n",
      "\n",
      "Математика:\n",
      "Euclidus\n",
      "Newton\n",
      "\n"
     ]
    }
   ],
   "source": [
    "prof = ['IT', 'Физика', 'Математика']\n",
    "persons = [['Gates', 'Jobs', 'Voznyak'], ['Einistein', 'Feinman'], ['Euclidus', 'Newton']]\n",
    "\n",
    "for pro, names in zip(prof, persons):\n",
    "    print(f'{pro}:')\n",
    "    for name in names:\n",
    "          print(name)\n",
    "    print()"
   ]
  },
  {
   "cell_type": "code",
   "execution_count": 120,
   "metadata": {},
   "outputs": [
    {
     "name": "stdout",
     "output_type": "stream",
     "text": [
      "IT:\n",
      "Gates\n",
      "Jobs\n",
      "Voznyak \n",
      "\n",
      "Физика:\n",
      "Einistein\n",
      "Feinman \n",
      "\n",
      "Математика:\n",
      "Euclidus\n",
      "Newton \n",
      "\n"
     ]
    }
   ],
   "source": [
    "# Преобразование элементов списка в строку\n",
    "\n",
    "prof = ['IT', 'Физика', 'Математика']\n",
    "persons = [['Gates', 'Jobs', 'Voznyak'], ['Einistein', 'Feinman'], ['Euclidus', 'Newton']]\n",
    "\n",
    "for pro, names in zip(prof, persons):\n",
    "    print(f'{pro}:')\n",
    "    print('\\n'.join(names), '\\n')\n"
   ]
  },
  {
   "cell_type": "code",
   "execution_count": 14,
   "metadata": {},
   "outputs": [
    {
     "name": "stdout",
     "output_type": "stream",
     "text": [
      "\n",
      "1\n",
      "22\n",
      "333\n",
      "4444\n",
      "55555\n",
      "666666\n",
      "7777777\n",
      "88888888\n",
      "999999999\n"
     ]
    }
   ],
   "source": [
    "# Нарисовать представленный шаблон\n",
    "\n",
    "i = 1\n",
    "for i in range(10):\n",
    "    for j in range(i):\n",
    "        print(i, end = '')\n",
    "    print()"
   ]
  },
  {
   "cell_type": "code",
   "execution_count": 9,
   "metadata": {},
   "outputs": [
    {
     "name": "stdout",
     "output_type": "stream",
     "text": [
      "1\n",
      "22\n",
      "333\n",
      "4444\n",
      "55555\n",
      "666666\n",
      "7777777\n",
      "88888888\n",
      "999999999\n"
     ]
    }
   ],
   "source": [
    "num = 1\n",
    "while num < 10:\n",
    "    # при умножении строки на число n, строка повторяется n раз\n",
    "    print(str(num) * num)\n",
    "    num += 1"
   ]
  },
  {
   "cell_type": "code",
   "execution_count": 15,
   "metadata": {},
   "outputs": [
    {
     "name": "stdout",
     "output_type": "stream",
     "text": [
      "\n",
      "1\n",
      "22\n",
      "333\n",
      "4444\n",
      "55555\n",
      "666666\n",
      "7777777\n",
      "88888888\n",
      "999999999\n"
     ]
    }
   ],
   "source": [
    "for i in range(10):\n",
    "    print(str(i) * i)"
   ]
  },
  {
   "cell_type": "code",
   "execution_count": 18,
   "metadata": {},
   "outputs": [
    {
     "name": "stdout",
     "output_type": "stream",
     "text": [
      "['Екатеринбург', 'Москва', 'Санкт-Петербург', 'Норильск', 'Пермь', 'Астрахань']\n"
     ]
    }
   ],
   "source": [
    "# разглаживание списка (сделать из вложенных списков один большой список)\n",
    "\n",
    "my_list = [['Екатеринбург', 'Москва'], ['Санкт-Петербург', 'Норильск'], ['Пермь', 'Астрахань']]\n",
    "\n",
    "res = []\n",
    "for i in my_list:\n",
    "    for j in i:\n",
    "        res.append(j)\n",
    "\n",
    "print(res)\n"
   ]
  },
  {
   "cell_type": "code",
   "execution_count": 30,
   "metadata": {},
   "outputs": [
    {
     "name": "stdout",
     "output_type": "stream",
     "text": [
      "['Екатеринбург', 'Москва', 'Санкт-Петербург', 'Норильск', 'Пермь', 'Астрахань']\n",
      "[['Екатеринбург', 'Москва'], ['Санкт-Петербург', 'Норильск'], ['Пермь', 'Астрахань']]\n"
     ]
    }
   ],
   "source": [
    "my_list = [['Екатеринбург', 'Москва'], ['Санкт-Петербург', 'Норильск'], ['Пермь', 'Астрахань']]\n",
    "\n",
    "# нужно начать складывать с пустого списка, а не со встроенного нуля\n",
    "print(sum(my_list, []))\n",
    "\n",
    "# ниже мы начинаем с my_list и добавляем пустые списки\n",
    "print(sum([], my_list))"
   ]
  }
 ],
 "metadata": {
  "kernelspec": {
   "display_name": "Python 3",
   "language": "python",
   "name": "python3"
  },
  "language_info": {
   "codemirror_mode": {
    "name": "ipython",
    "version": 3
   },
   "file_extension": ".py",
   "mimetype": "text/x-python",
   "name": "python",
   "nbconvert_exporter": "python",
   "pygments_lexer": "ipython3",
   "version": "3.8.3"
  }
 },
 "nbformat": 4,
 "nbformat_minor": 4
}
